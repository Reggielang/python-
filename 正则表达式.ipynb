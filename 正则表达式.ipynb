{
 "cells": [
  {
   "cell_type": "code",
   "execution_count": 1,
   "metadata": {},
   "outputs": [
    {
     "data": {
      "text/plain": [
       "True"
      ]
     },
     "execution_count": 1,
     "metadata": {},
     "output_type": "execute_result"
    }
   ],
   "source": [
    "a = '123'\n",
    "a =='123'"
   ]
  },
  {
   "cell_type": "code",
   "execution_count": 5,
   "metadata": {},
   "outputs": [
    {
     "data": {
      "text/plain": [
       "<re.Match object; span=(0, 1), match='1'>"
      ]
     },
     "execution_count": 5,
     "metadata": {},
     "output_type": "execute_result"
    }
   ],
   "source": [
    "import re\n",
    "a = '1'\n",
    "#re.search('1',a)\n",
    "#re.search('[0123456789]',a)\n",
    "re.search('[0-9]',a)# [0-9] = [0123456789]\n",
    "re.search('\\d',a) #\\d =[0-9]"
   ]
  },
  {
   "cell_type": "code",
   "execution_count": 10,
   "metadata": {},
   "outputs": [
    {
     "data": {
      "text/plain": [
       "<re.Match object; span=(0, 1), match='A'>"
      ]
     },
     "execution_count": 10,
     "metadata": {},
     "output_type": "execute_result"
    }
   ],
   "source": [
    "a = 'a'\n",
    "#re.search('a',a)\n",
    "re.search('[a-z]',a)\n",
    "b = 'A'\n",
    "re.search('[a-zA-Z]',b)"
   ]
  },
  {
   "cell_type": "code",
   "execution_count": 13,
   "metadata": {},
   "outputs": [
    {
     "data": {
      "text/plain": [
       "<re.Match object; span=(0, 1), match='3'>"
      ]
     },
     "execution_count": 13,
     "metadata": {},
     "output_type": "execute_result"
    }
   ],
   "source": [
    "c = '3'\n",
    "#re.search('[a-zA-Z0-9]',c)\n",
    "re.search('\\w',c) #\\w = [a-zA-Z0-9]"
   ]
  },
  {
   "cell_type": "code",
   "execution_count": 16,
   "metadata": {},
   "outputs": [
    {
     "data": {
      "text/plain": [
       "<re.Match object; span=(0, 3), match='abc'>"
      ]
     },
     "execution_count": 16,
     "metadata": {},
     "output_type": "execute_result"
    }
   ],
   "source": [
    "a = 'abc'\n",
    "#re.search('\\w{3}',a)\n",
    "re.search('\\w{1,3}',a)"
   ]
  },
  {
   "cell_type": "code",
   "execution_count": 20,
   "metadata": {},
   "outputs": [
    {
     "data": {
      "text/plain": [
       "<re.Match object; span=(0, 7), match='abcdefg'>"
      ]
     },
     "execution_count": 20,
     "metadata": {},
     "output_type": "execute_result"
    }
   ],
   "source": [
    "b ='abcdefg'\n",
    "re.search('\\w{1,3}',b)\n",
    "\n",
    "re.search('\\w+',b) #\\w+ = 1到无限\n",
    "\n",
    "re.search('\\w*',b)#\\w* = 0到无限"
   ]
  },
  {
   "cell_type": "code",
   "execution_count": 28,
   "metadata": {},
   "outputs": [
    {
     "data": {
      "text/plain": [
       "<re.Match object; span=(12, 23), match='13412341234'>"
      ]
     },
     "execution_count": 28,
     "metadata": {},
     "output_type": "execute_result"
    }
   ],
   "source": [
    "a = 'my phone is 134-1234-1234'\n",
    "re.search('\\d{3}-\\d{4}-\\d{4}',a)\n",
    "\n",
    "b = 'my phone is 13412341234'\n",
    "re.search('\\d{3}\\d{4}\\d{4}',b)\n",
    "\n"
   ]
  },
  {
   "cell_type": "code",
   "execution_count": 32,
   "metadata": {},
   "outputs": [
    {
     "data": {
      "text/plain": [
       "<re.Match object; span=(12, 25), match='134-1234-1234'>"
      ]
     },
     "execution_count": 32,
     "metadata": {},
     "output_type": "execute_result"
    }
   ],
   "source": [
    "a = 'my phone is 134-1234-1234'\n",
    "b = 'my phone is 13412341234'\n",
    "\n",
    "re.search('\\d{3}-{0,1}\\d{4}-{0,1}\\d{4}',a)\n",
    "re.search('\\d{3}-{0,1}\\d{4}-{0,1}\\d{4}',b)\n",
    "\n",
    "\n",
    "re.search('\\d{3}-?\\d{4}-?\\d{4}',a) #? = {0,1}\n"
   ]
  },
  {
   "cell_type": "code",
   "execution_count": 41,
   "metadata": {},
   "outputs": [
    {
     "data": {
      "text/plain": [
       "('david', 'largitdata')"
      ]
     },
     "execution_count": 41,
     "metadata": {},
     "output_type": "execute_result"
    }
   ],
   "source": [
    "#正则表达法范例\n",
    "email = 'david@largitdata.com'\n",
    "import re\n",
    "re.match('\\w+@\\w+',email)\n",
    "m = re.match('(\\w+)@(\\w+)',email)\n",
    "m.group(1)\n",
    "m.group(2)\n",
    "m.groups()"
   ]
  },
  {
   "cell_type": "code",
   "execution_count": 43,
   "metadata": {},
   "outputs": [
    {
     "data": {
      "text/plain": [
       "('david', 'largitdata.com')"
      ]
     },
     "execution_count": 43,
     "metadata": {},
     "output_type": "execute_result"
    }
   ],
   "source": [
    "#单独的 . 在正则表达里表示除换行符以外的任意字符，所以需要反斜线对此进行一个转义\n",
    "m = re.match('(\\w+)@([a-z\\.]+)',email)\n",
    "m.groups()\n",
    "\n"
   ]
  },
  {
   "cell_type": "code",
   "execution_count": 46,
   "metadata": {},
   "outputs": [
    {
     "data": {
      "text/plain": [
       "<re.Match object; span=(0, 20), match='david@largitdata.com'>"
      ]
     },
     "execution_count": 46,
     "metadata": {},
     "output_type": "execute_result"
    }
   ],
   "source": [
    "m = re.match('(\\w+)@(.+)',email)\n",
    "m"
   ]
  },
  {
   "cell_type": "code",
   "execution_count": 51,
   "metadata": {},
   "outputs": [
    {
     "data": {
      "text/plain": [
       "('1996', '15')"
      ]
     },
     "execution_count": 51,
     "metadata": {},
     "output_type": "execute_result"
    }
   ],
   "source": [
    "digit = '1996.15'\n",
    "m =re.match('(\\d+)\\.(\\d+)',digit)\n",
    "m.groups()"
   ]
  },
  {
   "cell_type": "code",
   "execution_count": 60,
   "metadata": {},
   "outputs": [
    {
     "name": "stdout",
     "output_type": "stream",
     "text": [
      "<re.Match object; span=(0, 10), match='Daivd Chiu'>\n"
     ]
    }
   ],
   "source": [
    "name = 'Daivd Chiu'\n",
    "m = re.match('(\\w+) (\\w+)',name)\n",
    "print(m)"
   ]
  },
  {
   "cell_type": "code",
   "execution_count": 55,
   "metadata": {},
   "outputs": [
    {
     "data": {
      "text/plain": [
       "'Daivd'"
      ]
     },
     "execution_count": 55,
     "metadata": {},
     "output_type": "execute_result"
    }
   ],
   "source": [
    "m = re.match('(?P<first_name>\\w+) (?P<last_name>\\w+)',name)\n",
    "m.group('first_name')"
   ]
  },
  {
   "cell_type": "code",
   "execution_count": 78,
   "metadata": {},
   "outputs": [
    {
     "name": "stdout",
     "output_type": "stream",
     "text": [
      "file.txt root 10.0.0.1 ./\n"
     ]
    }
   ],
   "source": [
    "str1 = 'file.txt root@10.0.0.1:./'\n",
    "m = re.match('([\\w\\.]+) (\\w+)@([\\w\\.]+):(.+)',str1)\n",
    "print(m.group(1),m.group(2),m.group(3),m.group(4))"
   ]
  },
  {
   "cell_type": "code",
   "execution_count": 82,
   "metadata": {},
   "outputs": [
    {
     "data": {
      "text/html": [
       "<div>\n",
       "<style scoped>\n",
       "    .dataframe tbody tr th:only-of-type {\n",
       "        vertical-align: middle;\n",
       "    }\n",
       "\n",
       "    .dataframe tbody tr th {\n",
       "        vertical-align: top;\n",
       "    }\n",
       "\n",
       "    .dataframe thead th {\n",
       "        text-align: right;\n",
       "    }\n",
       "</style>\n",
       "<table border=\"1\" class=\"dataframe\">\n",
       "  <thead>\n",
       "    <tr style=\"text-align: right;\">\n",
       "      <th></th>\n",
       "      <th>标题</th>\n",
       "      <th>产权性质</th>\n",
       "      <th>住宅类别</th>\n",
       "      <th>建筑类别</th>\n",
       "      <th>年代</th>\n",
       "      <th>建筑面积</th>\n",
       "      <th>户型</th>\n",
       "      <th>楼层</th>\n",
       "      <th>物 业 费</th>\n",
       "      <th>物业类型</th>\n",
       "      <th>结构</th>\n",
       "      <th>装修</th>\n",
       "      <th>总价</th>\n",
       "    </tr>\n",
       "  </thead>\n",
       "  <tbody>\n",
       "    <tr>\n",
       "      <td>0</td>\n",
       "      <td>急售70年产权房源 房东装修 户型正气 产证清晰 随时看房</td>\n",
       "      <td>个人产权</td>\n",
       "      <td>普通住宅</td>\n",
       "      <td>板楼</td>\n",
       "      <td>1989年</td>\n",
       "      <td>70.40</td>\n",
       "      <td>2室2厅1厨1卫</td>\n",
       "      <td>中层(共6层)</td>\n",
       "      <td>0</td>\n",
       "      <td>住宅</td>\n",
       "      <td>平层</td>\n",
       "      <td>精装修</td>\n",
       "      <td>30.6</td>\n",
       "    </tr>\n",
       "    <tr>\n",
       "      <td>1</td>\n",
       "      <td>世纪大道站  福山外国语+建平西校 看房随时急卖</td>\n",
       "      <td>个人产权</td>\n",
       "      <td>普通住宅</td>\n",
       "      <td>塔楼</td>\n",
       "      <td>1989年</td>\n",
       "      <td>49.82</td>\n",
       "      <td>2室1厅0厨1卫</td>\n",
       "      <td>中层(共6层)</td>\n",
       "      <td>1元/平米・月</td>\n",
       "      <td>住宅</td>\n",
       "      <td>平层</td>\n",
       "      <td>简装修</td>\n",
       "      <td>418.0</td>\n",
       "    </tr>\n",
       "    <tr>\n",
       "      <td>2</td>\n",
       "      <td>大四房出售，带会所+高区景观+车位</td>\n",
       "      <td>个人产权</td>\n",
       "      <td>普通住宅</td>\n",
       "      <td>NaN</td>\n",
       "      <td>2005年</td>\n",
       "      <td>288.30</td>\n",
       "      <td>4室2厅0厨2卫</td>\n",
       "      <td>高层(共40层)</td>\n",
       "      <td>3.5元/平米・月</td>\n",
       "      <td>住宅</td>\n",
       "      <td>NaN</td>\n",
       "      <td>精装修</td>\n",
       "      <td>2650.0</td>\n",
       "    </tr>\n",
       "    <tr>\n",
       "      <td>4</td>\n",
       "      <td>满五税费少,房东接受置换客户,房东这边房子已经看好,急卖</td>\n",
       "      <td>个人产权</td>\n",
       "      <td>普通住宅</td>\n",
       "      <td>钢混</td>\n",
       "      <td>1998年</td>\n",
       "      <td>58.00</td>\n",
       "      <td>2室1厅1厨1卫</td>\n",
       "      <td>高层(共6层)</td>\n",
       "      <td>0.4元/平米・月</td>\n",
       "      <td>住宅</td>\n",
       "      <td>平层</td>\n",
       "      <td>精装修</td>\n",
       "      <td>190.0</td>\n",
       "    </tr>\n",
       "    <tr>\n",
       "      <td>7</td>\n",
       "      <td>纪联小区，，大一房一厅，精装修，，！诚售</td>\n",
       "      <td>个人产权</td>\n",
       "      <td>普通住宅</td>\n",
       "      <td>板楼</td>\n",
       "      <td>1996年</td>\n",
       "      <td>50.00</td>\n",
       "      <td>1室1厅1厨1卫</td>\n",
       "      <td>中层(共6层)</td>\n",
       "      <td>0</td>\n",
       "      <td>住宅</td>\n",
       "      <td>平层</td>\n",
       "      <td>精装修</td>\n",
       "      <td>230.0</td>\n",
       "    </tr>\n",
       "  </tbody>\n",
       "</table>\n",
       "</div>"
      ],
      "text/plain": [
       "                              标题  产权性质  住宅类别 建筑类别     年代    建筑面积        户型  \\\n",
       "0  急售70年产权房源 房东装修 户型正气 产证清晰 随时看房  个人产权  普通住宅   板楼  1989年   70.40  2室2厅1厨1卫   \n",
       "1       世纪大道站  福山外国语+建平西校 看房随时急卖  个人产权  普通住宅   塔楼  1989年   49.82  2室1厅0厨1卫   \n",
       "2              大四房出售，带会所+高区景观+车位  个人产权  普通住宅  NaN  2005年  288.30  4室2厅0厨2卫   \n",
       "4   满五税费少,房东接受置换客户,房东这边房子已经看好,急卖  个人产权  普通住宅   钢混  1998年   58.00  2室1厅1厨1卫   \n",
       "7           纪联小区，，大一房一厅，精装修，，！诚售  个人产权  普通住宅   板楼  1996年   50.00  1室1厅1厨1卫   \n",
       "\n",
       "         楼层      物 业 费 物业类型   结构   装修      总价  \n",
       "0   中层(共6层)          0   住宅   平层  精装修    30.6  \n",
       "1   中层(共6层)    1元/平米・月   住宅   平层  简装修   418.0  \n",
       "2  高层(共40层)  3.5元/平米・月   住宅  NaN  精装修  2650.0  \n",
       "4   高层(共6层)  0.4元/平米・月   住宅   平层  精装修   190.0  \n",
       "7   中层(共6层)          0   住宅   平层  精装修   230.0  "
      ]
     },
     "execution_count": 82,
     "metadata": {},
     "output_type": "execute_result"
    }
   ],
   "source": [
    "#在dataframe中使用正则\n",
    "import pandas as pd\n",
    "df = pd.read_csv('C:/Users/REGGIE/Desktop/数据分析资料/data/house_final.csv')\n",
    "df.head()"
   ]
  },
  {
   "cell_type": "code",
   "execution_count": 86,
   "metadata": {},
   "outputs": [
    {
     "data": {
      "text/html": [
       "<div>\n",
       "<style scoped>\n",
       "    .dataframe tbody tr th:only-of-type {\n",
       "        vertical-align: middle;\n",
       "    }\n",
       "\n",
       "    .dataframe tbody tr th {\n",
       "        vertical-align: top;\n",
       "    }\n",
       "\n",
       "    .dataframe thead th {\n",
       "        text-align: right;\n",
       "    }\n",
       "</style>\n",
       "<table border=\"1\" class=\"dataframe\">\n",
       "  <thead>\n",
       "    <tr style=\"text-align: right;\">\n",
       "      <th></th>\n",
       "      <th>0</th>\n",
       "      <th>1</th>\n",
       "      <th>2</th>\n",
       "      <th>3</th>\n",
       "    </tr>\n",
       "  </thead>\n",
       "  <tbody>\n",
       "    <tr>\n",
       "      <td>0</td>\n",
       "      <td>2</td>\n",
       "      <td>2</td>\n",
       "      <td>1</td>\n",
       "      <td>1</td>\n",
       "    </tr>\n",
       "    <tr>\n",
       "      <td>1</td>\n",
       "      <td>2</td>\n",
       "      <td>1</td>\n",
       "      <td>0</td>\n",
       "      <td>1</td>\n",
       "    </tr>\n",
       "    <tr>\n",
       "      <td>2</td>\n",
       "      <td>4</td>\n",
       "      <td>2</td>\n",
       "      <td>0</td>\n",
       "      <td>2</td>\n",
       "    </tr>\n",
       "    <tr>\n",
       "      <td>4</td>\n",
       "      <td>2</td>\n",
       "      <td>1</td>\n",
       "      <td>1</td>\n",
       "      <td>1</td>\n",
       "    </tr>\n",
       "    <tr>\n",
       "      <td>7</td>\n",
       "      <td>1</td>\n",
       "      <td>1</td>\n",
       "      <td>1</td>\n",
       "      <td>1</td>\n",
       "    </tr>\n",
       "    <tr>\n",
       "      <td>...</td>\n",
       "      <td>...</td>\n",
       "      <td>...</td>\n",
       "      <td>...</td>\n",
       "      <td>...</td>\n",
       "    </tr>\n",
       "    <tr>\n",
       "      <td>234</td>\n",
       "      <td>4</td>\n",
       "      <td>2</td>\n",
       "      <td>1</td>\n",
       "      <td>2</td>\n",
       "    </tr>\n",
       "    <tr>\n",
       "      <td>236</td>\n",
       "      <td>2</td>\n",
       "      <td>2</td>\n",
       "      <td>1</td>\n",
       "      <td>1</td>\n",
       "    </tr>\n",
       "    <tr>\n",
       "      <td>237</td>\n",
       "      <td>2</td>\n",
       "      <td>2</td>\n",
       "      <td>1</td>\n",
       "      <td>1</td>\n",
       "    </tr>\n",
       "    <tr>\n",
       "      <td>238</td>\n",
       "      <td>3</td>\n",
       "      <td>2</td>\n",
       "      <td>1</td>\n",
       "      <td>2</td>\n",
       "    </tr>\n",
       "    <tr>\n",
       "      <td>239</td>\n",
       "      <td>1</td>\n",
       "      <td>1</td>\n",
       "      <td>1</td>\n",
       "      <td>1</td>\n",
       "    </tr>\n",
       "  </tbody>\n",
       "</table>\n",
       "<p>171 rows × 4 columns</p>\n",
       "</div>"
      ],
      "text/plain": [
       "     0  1  2  3\n",
       "0    2  2  1  1\n",
       "1    2  1  0  1\n",
       "2    4  2  0  2\n",
       "4    2  1  1  1\n",
       "7    1  1  1  1\n",
       "..  .. .. .. ..\n",
       "234  4  2  1  2\n",
       "236  2  2  1  1\n",
       "237  2  2  1  1\n",
       "238  3  2  1  2\n",
       "239  1  1  1  1\n",
       "\n",
       "[171 rows x 4 columns]"
      ]
     },
     "execution_count": 86,
     "metadata": {},
     "output_type": "execute_result"
    }
   ],
   "source": [
    "df['户型'].str.extract('(\\d+)室(\\d+)厅(\\d+)厨(\\d+)卫',expand =False)"
   ]
  },
  {
   "cell_type": "code",
   "execution_count": 88,
   "metadata": {},
   "outputs": [],
   "source": [
    "df[['室','厅','厨','卫']] = df['户型'].str.extract('(\\d+)室(\\d+)厅(\\d+)厨(\\d+)卫',expand =False)"
   ]
  },
  {
   "cell_type": "code",
   "execution_count": 89,
   "metadata": {},
   "outputs": [
    {
     "data": {
      "text/html": [
       "<div>\n",
       "<style scoped>\n",
       "    .dataframe tbody tr th:only-of-type {\n",
       "        vertical-align: middle;\n",
       "    }\n",
       "\n",
       "    .dataframe tbody tr th {\n",
       "        vertical-align: top;\n",
       "    }\n",
       "\n",
       "    .dataframe thead th {\n",
       "        text-align: right;\n",
       "    }\n",
       "</style>\n",
       "<table border=\"1\" class=\"dataframe\">\n",
       "  <thead>\n",
       "    <tr style=\"text-align: right;\">\n",
       "      <th></th>\n",
       "      <th>标题</th>\n",
       "      <th>产权性质</th>\n",
       "      <th>住宅类别</th>\n",
       "      <th>建筑类别</th>\n",
       "      <th>年代</th>\n",
       "      <th>建筑面积</th>\n",
       "      <th>户型</th>\n",
       "      <th>楼层</th>\n",
       "      <th>物 业 费</th>\n",
       "      <th>物业类型</th>\n",
       "      <th>结构</th>\n",
       "      <th>装修</th>\n",
       "      <th>总价</th>\n",
       "      <th>室</th>\n",
       "      <th>厅</th>\n",
       "      <th>厨</th>\n",
       "      <th>卫</th>\n",
       "    </tr>\n",
       "  </thead>\n",
       "  <tbody>\n",
       "    <tr>\n",
       "      <td>0</td>\n",
       "      <td>急售70年产权房源 房东装修 户型正气 产证清晰 随时看房</td>\n",
       "      <td>个人产权</td>\n",
       "      <td>普通住宅</td>\n",
       "      <td>板楼</td>\n",
       "      <td>1989年</td>\n",
       "      <td>70.40</td>\n",
       "      <td>2室2厅1厨1卫</td>\n",
       "      <td>中层(共6层)</td>\n",
       "      <td>0</td>\n",
       "      <td>住宅</td>\n",
       "      <td>平层</td>\n",
       "      <td>精装修</td>\n",
       "      <td>30.6</td>\n",
       "      <td>2</td>\n",
       "      <td>2</td>\n",
       "      <td>1</td>\n",
       "      <td>1</td>\n",
       "    </tr>\n",
       "    <tr>\n",
       "      <td>1</td>\n",
       "      <td>世纪大道站  福山外国语+建平西校 看房随时急卖</td>\n",
       "      <td>个人产权</td>\n",
       "      <td>普通住宅</td>\n",
       "      <td>塔楼</td>\n",
       "      <td>1989年</td>\n",
       "      <td>49.82</td>\n",
       "      <td>2室1厅0厨1卫</td>\n",
       "      <td>中层(共6层)</td>\n",
       "      <td>1元/平米・月</td>\n",
       "      <td>住宅</td>\n",
       "      <td>平层</td>\n",
       "      <td>简装修</td>\n",
       "      <td>418.0</td>\n",
       "      <td>2</td>\n",
       "      <td>1</td>\n",
       "      <td>0</td>\n",
       "      <td>1</td>\n",
       "    </tr>\n",
       "    <tr>\n",
       "      <td>2</td>\n",
       "      <td>大四房出售，带会所+高区景观+车位</td>\n",
       "      <td>个人产权</td>\n",
       "      <td>普通住宅</td>\n",
       "      <td>NaN</td>\n",
       "      <td>2005年</td>\n",
       "      <td>288.30</td>\n",
       "      <td>4室2厅0厨2卫</td>\n",
       "      <td>高层(共40层)</td>\n",
       "      <td>3.5元/平米・月</td>\n",
       "      <td>住宅</td>\n",
       "      <td>NaN</td>\n",
       "      <td>精装修</td>\n",
       "      <td>2650.0</td>\n",
       "      <td>4</td>\n",
       "      <td>2</td>\n",
       "      <td>0</td>\n",
       "      <td>2</td>\n",
       "    </tr>\n",
       "    <tr>\n",
       "      <td>4</td>\n",
       "      <td>满五税费少,房东接受置换客户,房东这边房子已经看好,急卖</td>\n",
       "      <td>个人产权</td>\n",
       "      <td>普通住宅</td>\n",
       "      <td>钢混</td>\n",
       "      <td>1998年</td>\n",
       "      <td>58.00</td>\n",
       "      <td>2室1厅1厨1卫</td>\n",
       "      <td>高层(共6层)</td>\n",
       "      <td>0.4元/平米・月</td>\n",
       "      <td>住宅</td>\n",
       "      <td>平层</td>\n",
       "      <td>精装修</td>\n",
       "      <td>190.0</td>\n",
       "      <td>2</td>\n",
       "      <td>1</td>\n",
       "      <td>1</td>\n",
       "      <td>1</td>\n",
       "    </tr>\n",
       "    <tr>\n",
       "      <td>7</td>\n",
       "      <td>纪联小区，，大一房一厅，精装修，，！诚售</td>\n",
       "      <td>个人产权</td>\n",
       "      <td>普通住宅</td>\n",
       "      <td>板楼</td>\n",
       "      <td>1996年</td>\n",
       "      <td>50.00</td>\n",
       "      <td>1室1厅1厨1卫</td>\n",
       "      <td>中层(共6层)</td>\n",
       "      <td>0</td>\n",
       "      <td>住宅</td>\n",
       "      <td>平层</td>\n",
       "      <td>精装修</td>\n",
       "      <td>230.0</td>\n",
       "      <td>1</td>\n",
       "      <td>1</td>\n",
       "      <td>1</td>\n",
       "      <td>1</td>\n",
       "    </tr>\n",
       "  </tbody>\n",
       "</table>\n",
       "</div>"
      ],
      "text/plain": [
       "                              标题  产权性质  住宅类别 建筑类别     年代    建筑面积        户型  \\\n",
       "0  急售70年产权房源 房东装修 户型正气 产证清晰 随时看房  个人产权  普通住宅   板楼  1989年   70.40  2室2厅1厨1卫   \n",
       "1       世纪大道站  福山外国语+建平西校 看房随时急卖  个人产权  普通住宅   塔楼  1989年   49.82  2室1厅0厨1卫   \n",
       "2              大四房出售，带会所+高区景观+车位  个人产权  普通住宅  NaN  2005年  288.30  4室2厅0厨2卫   \n",
       "4   满五税费少,房东接受置换客户,房东这边房子已经看好,急卖  个人产权  普通住宅   钢混  1998年   58.00  2室1厅1厨1卫   \n",
       "7           纪联小区，，大一房一厅，精装修，，！诚售  个人产权  普通住宅   板楼  1996年   50.00  1室1厅1厨1卫   \n",
       "\n",
       "         楼层      物 业 费 物业类型   结构   装修      总价  室  厅  厨  卫  \n",
       "0   中层(共6层)          0   住宅   平层  精装修    30.6  2  2  1  1  \n",
       "1   中层(共6层)    1元/平米・月   住宅   平层  简装修   418.0  2  1  0  1  \n",
       "2  高层(共40层)  3.5元/平米・月   住宅  NaN  精装修  2650.0  4  2  0  2  \n",
       "4   高层(共6层)  0.4元/平米・月   住宅   平层  精装修   190.0  2  1  1  1  \n",
       "7   中层(共6层)          0   住宅   平层  精装修   230.0  1  1  1  1  "
      ]
     },
     "execution_count": 89,
     "metadata": {},
     "output_type": "execute_result"
    }
   ],
   "source": [
    "df.head()"
   ]
  },
  {
   "cell_type": "code",
   "execution_count": null,
   "metadata": {},
   "outputs": [],
   "source": []
  }
 ],
 "metadata": {
  "kernelspec": {
   "display_name": "Python 3",
   "language": "python",
   "name": "python3"
  },
  "language_info": {
   "codemirror_mode": {
    "name": "ipython",
    "version": 3
   },
   "file_extension": ".py",
   "mimetype": "text/x-python",
   "name": "python",
   "nbconvert_exporter": "python",
   "pygments_lexer": "ipython3",
   "version": "3.7.4"
  }
 },
 "nbformat": 4,
 "nbformat_minor": 2
}
