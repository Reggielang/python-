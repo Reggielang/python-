{
 "cells": [
  {
   "cell_type": "code",
   "execution_count": 3,
   "metadata": {},
   "outputs": [
    {
     "data": {
      "text/html": [
       "<div>\n",
       "<style scoped>\n",
       "    .dataframe tbody tr th:only-of-type {\n",
       "        vertical-align: middle;\n",
       "    }\n",
       "\n",
       "    .dataframe tbody tr th {\n",
       "        vertical-align: top;\n",
       "    }\n",
       "\n",
       "    .dataframe thead th {\n",
       "        text-align: right;\n",
       "    }\n",
       "</style>\n",
       "<table border=\"1\" class=\"dataframe\">\n",
       "  <thead>\n",
       "    <tr style=\"text-align: right;\">\n",
       "      <th></th>\n",
       "      <th>content</th>\n",
       "      <th>title</th>\n",
       "      <th>url</th>\n",
       "    </tr>\n",
       "  </thead>\n",
       "  <tbody>\n",
       "    <tr>\n",
       "      <td>0</td>\n",
       "      <td>英国《每日电讯报》记者Harry Yorke 称，伦敦桥附近再次传出巨大爆炸声，爆炸强度是半...</td>\n",
       "      <td>伦敦桥附近再传爆炸声</td>\n",
       "      <td>http://news.sina.com.cn/w/zx/2017-06-04/doc-if...</td>\n",
       "    </tr>\n",
       "    <tr>\n",
       "      <td>1</td>\n",
       "      <td>[环球网综合报道]据英国《每日邮报》6月1日报道，近日，美国洛杉矶市比弗利山庄罗迪欧大道诊所...</td>\n",
       "      <td>美诊所1.5万人整形记录被盗</td>\n",
       "      <td>http://news.sina.com.cn/w/zx/2017-06-04/doc-if...</td>\n",
       "    </tr>\n",
       "    <tr>\n",
       "      <td>2</td>\n",
       "      <td>[环球网综合报道]据美国有线电视新闻网4日报道，当地时间3日，英国伦敦相继发生三起袭击事件，...</td>\n",
       "      <td>特朗普“发推”声援伦敦</td>\n",
       "      <td>http://news.sina.com.cn/o/2017-06-04/doc-ifyfu...</td>\n",
       "    </tr>\n",
       "    <tr>\n",
       "      <td>3</td>\n",
       "      <td>原标题：军情锐评 | 文在寅为何成“挺萨德派”？俄军对付美军有一套…… 近日，美国展示拦截洲...</td>\n",
       "      <td>文在寅为何成“挺萨德派”</td>\n",
       "      <td>http://news.sina.com.cn/w/zx/2017-06-04/doc-if...</td>\n",
       "    </tr>\n",
       "    <tr>\n",
       "      <td>4</td>\n",
       "      <td>中新网6月4日电 据外媒报道，在伦敦桥和巴罗市场3日遭恐袭后，有目击者称，在巴罗市场连续传来...</td>\n",
       "      <td>2名疑似袭击者被击毙</td>\n",
       "      <td>http://news.sina.com.cn/o/2017-06-04/doc-ifyfu...</td>\n",
       "    </tr>\n",
       "  </tbody>\n",
       "</table>\n",
       "</div>"
      ],
      "text/plain": [
       "                                             content           title                                                url\n",
       "0  英国《每日电讯报》记者Harry Yorke 称，伦敦桥附近再次传出巨大爆炸声，爆炸强度是半...      伦敦桥附近再传爆炸声  http://news.sina.com.cn/w/zx/2017-06-04/doc-if...\n",
       "1  [环球网综合报道]据英国《每日邮报》6月1日报道，近日，美国洛杉矶市比弗利山庄罗迪欧大道诊所...  美诊所1.5万人整形记录被盗  http://news.sina.com.cn/w/zx/2017-06-04/doc-if...\n",
       "2  [环球网综合报道]据美国有线电视新闻网4日报道，当地时间3日，英国伦敦相继发生三起袭击事件，...     特朗普“发推”声援伦敦  http://news.sina.com.cn/o/2017-06-04/doc-ifyfu...\n",
       "3  原标题：军情锐评 | 文在寅为何成“挺萨德派”？俄军对付美军有一套…… 近日，美国展示拦截洲...    文在寅为何成“挺萨德派”  http://news.sina.com.cn/w/zx/2017-06-04/doc-if...\n",
       "4  中新网6月4日电 据外媒报道，在伦敦桥和巴罗市场3日遭恐袭后，有目击者称，在巴罗市场连续传来...      2名疑似袭击者被击毙  http://news.sina.com.cn/o/2017-06-04/doc-ifyfu..."
      ]
     },
     "execution_count": 3,
     "metadata": {},
     "output_type": "execute_result"
    }
   ],
   "source": [
    "import pandas as pd\n",
    "dataset = pd.read_excel('C:/Users/REGGIE/Desktop/数据分析资料/data/news.xlsx',index_col=0)\n",
    "dataset.head()"
   ]
  },
  {
   "cell_type": "code",
   "execution_count": 4,
   "metadata": {},
   "outputs": [
    {
     "name": "stdout",
     "output_type": "stream",
     "text": [
      "Collecting jieba\n",
      "  Downloading https://files.pythonhosted.org/packages/c6/cb/18eeb235f833b726522d7ebed54f2278ce28ba9438e3135ab0278d9792a2/jieba-0.42.1.tar.gz (19.2MB)\n",
      "Building wheels for collected packages: jieba\n",
      "  Building wheel for jieba (setup.py): started\n",
      "  Building wheel for jieba (setup.py): finished with status 'done'\n",
      "  Created wheel for jieba: filename=jieba-0.42.1-cp37-none-any.whl size=19314482 sha256=d84532eda8221cfd275fd08066527da51954499c2a1e9ee78ba6e225086f2eb0\n",
      "  Stored in directory: C:\\Users\\REGGIE\\AppData\\Local\\pip\\Cache\\wheels\\af\\e4\\8e\\5fdd61a6b45032936b8f9ae2044ab33e61577950ce8e0dec29\n",
      "Successfully built jieba\n",
      "Installing collected packages: jieba\n",
      "Successfully installed jieba-0.42.1\n"
     ]
    }
   ],
   "source": [
    "!pip install jieba"
   ]
  },
  {
   "cell_type": "code",
   "execution_count": 15,
   "metadata": {},
   "outputs": [],
   "source": [
    "#使用jieba进行断词\n",
    "import jieba\n",
    "title = []\n",
    "wards = []\n",
    "for rec in dataset.iterrows():\n",
    "    #print(rec[1].content)\n",
    "    wards.append(' '.join(jieba.cut(rec[1].content)))\n",
    "    title.append(rec[1].title)  "
   ]
  },
  {
   "cell_type": "code",
   "execution_count": 16,
   "metadata": {},
   "outputs": [],
   "source": [
    "#建立词频矩阵\n",
    "from sklearn.feature_extraction.text import CountVectorizer\n",
    "vec = CountVectorizer()\n",
    "x = vec.fit_transform(wards)"
   ]
  },
  {
   "cell_type": "code",
   "execution_count": 17,
   "metadata": {},
   "outputs": [],
   "source": [
    "#计算余弦距离\n",
    "#就是说这些标题中是不是有存在相似的词语\n",
    "from sklearn.metrics.pairwise import cosine_similarity\n",
    "cosine_similarity = cosine_similarity(x,x)"
   ]
  },
  {
   "cell_type": "code",
   "execution_count": 18,
   "metadata": {},
   "outputs": [],
   "source": [
    "#使用Kmeans分群\n",
    "from sklearn.cluster import KMeans\n",
    "c = KMeans(n_clusters=10,init='k-means++',random_state=123)\n",
    "k_data = c.fit_predict(cosine_similarity)"
   ]
  },
  {
   "cell_type": "code",
   "execution_count": 26,
   "metadata": {},
   "outputs": [
    {
     "data": {
      "text/plain": [
       "array(['普京自曝经历5起暗杀', '普京:斯诺登不是“叛国者”', '日媒:美朝互亮\"肌肉\"加剧紧张', '普京：俄与北约应合作反恐',\n",
       "       '美防长首提对台军售', '特朗普政府加强签证申请审查', '美军最神秘潜艇抵达挪威', '美退役军人见义勇为被刺死',\n",
       "       '2017年全球和平指数出炉', '美日海军3天演习结束', '普京自曝如何躲过5次暗杀', '普京：斯诺登不是叛徒',\n",
       "       '特朗普造新词Covfefe', '特朗普主管诋毁国会分析师', '特朗普请求最高法院恢复禁令', '密西根大学中文校名正式启用',\n",
       "       '波兰前总统棺材存其他人遗骸', '外媒：欧盟将目光转向中国', '希拉里谈败选:期望高把我坑了',\n",
       "       '奥巴马810万美元购华盛顿房产', '美媒评中美海军陆战队谁更强', '特朗普大涨军费被斥掏空美国', '香格里拉对话今日开启',\n",
       "       '美国批准新签证审查政策', '全球和平排名美国下降11位', '古特雷斯就美退巴黎协定表态', '普京:美能找借口扩大反导系统',\n",
       "       '普京：俄不会不管美反导系统', '希拉里炮轰特朗普：与俄勾结', '中国欧盟将发首个联合声明', '美媒:欧盟将目光转向中国',\n",
       "       '外媒:印度拒绝澳海军参加军演', '全美难拼写单词名单出炉', '民调:全球7成人认可中国作用', '美媒：美军航母可能已过时',\n",
       "       '俄战舰齐射巡航导弹打击IS', '杜特尔特怒怼克林顿女儿', '科米将就特朗普泄密门作证', '杜特尔特怒怼克林顿女儿',\n",
       "       '美拟不给\"流亡藏人\"社区援助', '美喜剧演员因作弄特朗普道歉', '弗林将向参议院提供相关文件',\n",
       "       '安倍要求准备TPP事务级会议', '特朗普继续物色FBI新局长', '普京回应是否参加2018大选',\n",
       "       '美拦截洲际弹道导弹试验成功', '巴拿马前领导人诺列加去世', '俄媒反驳干涉法国大选指责', '特朗普捐资人涉逃税1.7亿欧元',\n",
       "       '德国外长：德美关系困难', '白宫通讯主任迈克-杜克辞职', '境外博彩业到底有多火？', '朝媒批美再派轰炸机在韩演习',\n",
       "       '巴拿马前政府首脑诺列加去世', '加拿大楼市拉响警报', '美将首次尝试洲际导弹拦截', '勒索病毒或由华人黑客编写',\n",
       "       '德外长:特朗普政府让西方变弱', '马克龙见普京秀强硬外交手腕', '马克龙与普京会谈', '美媒:北极将成美俄冲突爆发点',\n",
       "       '美赠送越南巡逻舰交付', '美军2支航母群将在日本海军演', '日美拟7月召开安保2+2会议', '美军披露核威慑政策新重点',\n",
       "       '俄罗斯总统普京今日到访法国', '有群人正商量退休延迟到70岁', '三分之一美国人没有1分钱存款', '美国机场现可疑高压锅',\n",
       "       '美国派第3艘航母赴西太平洋', '蓝皮书:萨德入韩反映冷战思维', '美众议院提法案加强对台军售',\n",
       "       '克宫:俄英反恐问题团结一致', '安倍会晤法国总统马克龙', '布热津斯基去世享年89岁'], dtype='<U16')"
      ]
     },
     "execution_count": 26,
     "metadata": {},
     "output_type": "execute_result"
    }
   ],
   "source": [
    "#产生分群结果\n",
    "#k_data 就是不同的分群结果，有10个群\n",
    "import numpy\n",
    "title_ary = numpy.array(title)\n",
    "title_ary[k_data == 3]"
   ]
  },
  {
   "cell_type": "code",
   "execution_count": null,
   "metadata": {},
   "outputs": [],
   "source": []
  }
 ],
 "metadata": {
  "kernelspec": {
   "display_name": "Python 3",
   "language": "python",
   "name": "python3"
  },
  "language_info": {
   "codemirror_mode": {
    "name": "ipython",
    "version": 3
   },
   "file_extension": ".py",
   "mimetype": "text/x-python",
   "name": "python",
   "nbconvert_exporter": "python",
   "pygments_lexer": "ipython3",
   "version": "3.7.4"
  }
 },
 "nbformat": 4,
 "nbformat_minor": 2
}
