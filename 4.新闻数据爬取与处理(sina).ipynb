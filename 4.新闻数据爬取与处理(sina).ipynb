{
 "cells": [
  {
   "cell_type": "code",
   "execution_count": 119,
   "metadata": {},
   "outputs": [
    {
     "data": {
      "text/plain": [
       "'<!DOCTYPE html>\\n<html>\\n<head>\\n    <meta http-equiv=\"Content-type\" content=\"text/html; charset=utf-8\" />\\n    <title>国内新闻_新闻中心_新浪网</title>\\n<meta name=\"keywords\" content=\"国内时政,内地新闻\">\\n<meta name=\"description\" content=\"新闻中心国内频道，纵览国内时政、综述评论及图片的栏目，主要包括时政要闻、内地新闻、港澳台新闻、媒体聚焦、评论分析。\">\\n<meta name=\"robots\" content=\"noarchive\">\\n<meta name=\"Baiduspider\" content=\"noarchive\">\\n<meta http-equiv=\"Cache-Control\" content=\"no-transform\">\\n<meta http-equiv=\"Cache-Control\" content=\"no-siteapp\">\\n<meta name=\"applicable-device\" content=\"pc,mobile\">\\n<meta name=\"MobileOptimized\" content=\"width\">\\n<meta name=\"HandheldFriendly\" content=\"true\">\\n<meta content=\"always\" name=\"referrer\">\\n    <link rel=\"mask-icon\" sizes=\"any\" href=\"//www.sina.com.cn/favicon.svg\" color=\"red\">\\n    <!-- 登录 css -->\\n    <link rel=\"stylesheet\" type=\"text/css\" href=\"//i.sso.sina.com.cn/css/userpanel/v1/top_account_v2.css\">\\n    <!-- feed css -->\\n    <link rel=\"stylesheet\" href=\"//n0.sinaimg.cn/news/china/feed.1.1.7.css\" type=\"text/css\" />\\n    <link rel=\"stylesheet\" href=\"//news.sina.com.cn/268/2014/0919/bshare_update.css\" type=\"text/css\">\\n\\n    <script src=\\'//n.sinaimg.cn/news/libs/jquery-1.11.1.min.js\\'></script>\\n    <link href=\"//simg.sinajs.cn/products/news_finance/2018/pc_china_home/css/index-1edb9c.css\" rel=\"stylesheet\">\\n</head>\\n\\n<body><!-- body code begin -->\\r\\n\\r\\n<!-- SUDA_CODE_START --> \\r\\n<script type=\"text/javascript\"> \\r\\n//<!--\\r\\n(function(){var an=\"V=2.1.16\";var ah=window,F=document,s=navigator,W=s.userAgent,ao=ah.screen,j=ah.location.href;var aD=\"https:\"==ah.location.protocol?\"https://s\":\"http://\",ay=\"beacon.sina.com.cn\";var N=aD+ay+\"/a.gif?\",z=aD+ay+\"/g.gif?\",R=aD+ay+\"/f.gif?\",ag=aD+ay+\"/e.gif?\",aB=aD+\"beacon.sinauda.com/i.gif?\";var aA=F.referrer.toLowerCase();var aa=\"SINAGLOBAL\",Y=\"FSINAGLOBAL\",H=\"Apache\",P=\"ULV\",l=\"SUP\",aE=\"UOR\",E=\"_s_acc\",X=\"_s_tentry\",n=false,az=false,B=(document.domain==\"sina.com.cn\")?true:false;var o=0;var aG=false,A=false;var al=\"\";var m=16777215,Z=0,C,K=0;var r=\"\",b=\"\",a=\"\";var M=[],S=[],I=[];var u=0;var v=0;var p=\"\";var am=false;var w=false;function O(){var e=document.createElement(\"iframe\");e.src=aD+ay+\"/data.html?\"+new Date().getTime();e.id=\"sudaDataFrame\";e.style.height=\"0px\";e.style.width=\"1px\";e.style.overflow=\"hidden\";e.frameborder=\"0\";e.scrolling=\"no\";document.getElementsByTagName(\"head\")[0].appendChild(e)}function k(){var e=document.createElement(\"iframe\");e.src=aD+ay+\"/ckctl.html\";e.id=\"ckctlFrame\";e.style.height=\"0px\";e.style.width=\"1px\";e.style.overflow=\"hidden\";e.frameborder=\"0\";e.scrolling=\"no\";document.getElementsByTagName(\"head\")[0].appendChild(e)}function q(){var e=document.createElement(\"script\");e.src=aD+ay+\"/h.js\";document.getElementsByTagName(\"head\")[0].appendChild(e)}function h(aH,i){var D=F.getElementsByName(aH);var e=(i>0)?i:0;return(D.length>e)?D[e].content:\"\"}function aF(){var aJ=F.getElementsByName(\"sudameta\");var aR=[];for(var aO=0;aO<aJ.length;aO++){var aK=aJ[aO].content;if(aK){if(aK.indexOf(\";\")!=-1){var D=aK.split(\";\");for(var aH=0;aH<D.length;aH++){var aP=aw(D[aH]);if(!aP){continue}aR.push(aP)}}else{aR.push(aK)}}}var aM=F.getElementsByTagName(\"meta\");for(var aO=0,aI=aM.length;aO<aI;aO++){var aN=aM[aO];if(aN.name==\"tags\"){aR.push(\"content_tags:\"+encodeURI(aN.content))}}var aL=t(\"vjuids\");aR.push(\"vjuids:\"+aL);var e=\"\";var aQ=j.indexOf(\"#\");if(aQ!=-1){e=escape(j.substr(aQ+1));aR.push(\"hashtag:\"+e)}return aR}function V(aK,D,aI,aH){if(aK==\"\"){return\"\"}aH=(aH==\"\")?\"=\":aH;D+=aH;var aJ=aK.indexOf(D);if(aJ<0){return\"\"}aJ+=D.length;var i=aK.indexOf(aI,aJ);if(i<aJ){i=aK.length}return aK.substring(aJ,i)}function t(e){if(undefined==e||\"\"==e){return\"\"}return V(F.cookie,e,\";\",\"\")}function at(aI,e,i,aH){if(e!=null){if((undefined==aH)||(null==aH)){aH=\"sina.com.cn\"}if((undefined==i)||(null==i)||(\"\"==i)){F.cookie=aI+\"=\"+e+\";domain=\"+aH+\";path=/\"}else{var D=new Date();var aJ=D.getTime();aJ=aJ+86400000*i;D.setTime(aJ);aJ=D.getTime();F.cookie=aI+\"=\"+e+\";domain=\"+aH+\";expires=\"+D.toUTCString()+\";path=/\"}}}function f(D){try{var i=document.getElementById(\"sudaDataFrame\").contentWindow.storage;return i.get(D)}catch(aH){return false}}function ar(D,aH){try{var i=document.getElementById(\"sudaDataFrame\").contentWindow.storage;i.set(D,aH);return true}catch(aI){return false}}function L(){var aJ=15;var D=window.SUDA.etag;if(!B){return\"-\"}if(u==0){O();q()}if(D&&D!=undefined){w=true}ls_gid=f(aa);if(ls_gid===false||w==false){return false}else{am=true}if(ls_gid&&ls_gid.length>aJ){at(aa,ls_gid,3650);n=true;return ls_gid}else{if(D&&D.length>aJ){at(aa,D,3650);az=true}var i=0,aI=500;var aH=setInterval((function(){var e=t(aa);if(w){e=D}i+=1;if(i>3){clearInterval(aH)}if(e.length>aJ){clearInterval(aH);ar(aa,e)}}),aI);return w?D:t(aa)}}function U(e,aH,D){var i=e;if(i==null){return false}aH=aH||\"click\";if((typeof D).toLowerCase()!=\"function\"){return}if(i.attachEvent){i.attachEvent(\"on\"+aH,D)}else{if(i.addEventListener){i.addEventListener(aH,D,false)}else{i[\"on\"+aH]=D}}return true}function af(){if(window.event!=null){return window.event}else{if(window.event){return window.event}var D=arguments.callee.caller;var i;var aH=0;while(D!=null&&aH<40){i=D.arguments[0];if(i&&(i.constructor==Event||i.constructor==MouseEvent||i.constructor==KeyboardEvent)){return i}aH++;D=D.caller}return i}}function g(i){i=i||af();if(!i.target){i.target=i.srcElement;i.pageX=i.x;i.pageY=i.y}if(typeof i.layerX==\"undefined\"){i.layerX=i.offsetX}if(typeof i.layerY==\"undefined\"){i.layerY=i.offsetY}return i}function aw(aH){if(typeof aH!==\"string\"){throw\"trim need a string as parameter\"}var e=aH.length;var D=0;var i=/(\\\\u3000|\\\\s|\\\\t|\\\\u00A0)/;while(D<e){if(!i.test(aH.charAt(D))){break}D+=1}while(e>D){if(!i.test(aH.charAt(e-1))){break}e-=1}return aH.slice(D,e)}function c(e){return Object.prototype.toString.call(e)===\"[object Array]\"}function J(aH,aL){var aN=aw(aH).split(\"&\");var aM={};var D=function(i){if(aL){try{return decodeURIComponent(i)}catch(aP){return i}}else{return i}};for(var aJ=0,aK=aN.length;aJ<aK;aJ++){if(aN[aJ]){var aI=aN[aJ].split(\"=\");var e=aI[0];var aO=aI[1];if(aI.length<2){aO=e;e=\"$nullName\"}if(!aM[e]){aM[e]=D(aO)}else{if(c(aM[e])!=true){aM[e]=[aM[e]]}aM[e].push(D(aO))}}}return aM}function ac(D,aI){for(var aH=0,e=D.length;aH<e;aH++){aI(D[aH],aH)}}function ak(i){var e=new RegExp(\"^http(?:s)?://([^/]+)\",\"im\");if(i.match(e)){return i.match(e)[1].toString()}else{return\"\"}}function aj(aO){try{var aL=\"ABCDEFGHIJKLMNOPQRSTUVWXYZabcdefghijklmnopqrstuvwxyz0123456789+/=\";var D=\"ABCDEFGHIJKLMNOPQRSTUVWXYZabcdefghijklmnopqrstuvwxyz0123456789-_=\";var aQ=function(e){var aR=\"\",aS=0;for(;aS<e.length;aS++){aR+=\"%\"+aH(e[aS])}return decodeURIComponent(aR)};var aH=function(e){var i=\"0\"+e.toString(16);return i.length<=2?i:i.substr(1)};var aP=function(aY,aV,aR){if(typeof(aY)==\"string\"){aY=aY.split(\"\")}var aX=function(a7,a9){for(var a8=0;a8<a7.length;a8++){if(a7[a8]==a9){return a8}}return -1};var aS=[];var a6,a4,a1=\"\";var a5,a3,a0,aZ=\"\";if(aY.length%4!=0){}var e=/[^A-Za-z0-9\\\\+\\\\/\\\\=]/g;var a2=aL.split(\"\");if(aV==\"urlsafe\"){e=/[^A-Za-z0-9\\\\-_\\\\=]/g;a2=D.split(\"\")}var aU=0;if(aV==\"binnary\"){a2=[];for(aU=0;aU<=64;aU++){a2[aU]=aU+128}}if(aV!=\"binnary\"&&e.exec(aY.join(\"\"))){return aR==\"array\"?[]:\"\"}aU=0;do{a5=aX(a2,aY[aU++]);a3=aX(a2,aY[aU++]);a0=aX(a2,aY[aU++]);aZ=aX(a2,aY[aU++]);a6=(a5<<2)|(a3>>4);a4=((a3&15)<<4)|(a0>>2);a1=((a0&3)<<6)|aZ;aS.push(a6);if(a0!=64&&a0!=-1){aS.push(a4)}if(aZ!=64&&aZ!=-1){aS.push(a1)}a6=a4=a1=\"\";a5=a3=a0=aZ=\"\"}while(aU<aY.length);if(aR==\"array\"){return aS}var aW=\"\",aT=0;for(;aT<aS.lenth;aT++){aW+=String.fromCharCode(aS[aT])}return aW};var aI=[];var aN=aO.substr(0,3);var aK=aO.substr(3);switch(aN){case\"v01\":for(var aJ=0;aJ<aK.length;aJ+=2){aI.push(parseInt(aK.substr(aJ,2),16))}return decodeURIComponent(aQ(aP(aI,\"binnary\",\"array\")));break;case\"v02\":aI=aP(aK,\"urlsafe\",\"array\");return aQ(aP(aI,\"binnary\",\"array\"));break;default:return decodeURIComponent(aO)}}catch(aM){return\"\"}}var ap={screenSize:function(){return(m&8388608==8388608)?ao.width+\"x\"+ao.height:\"\"},colorDepth:function(){return(m&4194304==4194304)?ao.colorDepth:\"\"},appCode:function(){return(m&2097152==2097152)?s.appCodeName:\"\"},appName:function(){return(m&1048576==1048576)?((s.appName.indexOf(\"Microsoft Internet Explorer\")>-1)?\"MSIE\":s.appName):\"\"},cpu:function(){return(m&524288==524288)?(s.cpuClass||s.oscpu):\"\"},platform:function(){return(m&262144==262144)?(s.platform):\"\"},jsVer:function(){if(m&131072!=131072){return\"\"}var aI,e,aK,D=1,aH=0,i=(s.appName.indexOf(\"Microsoft Internet Explorer\")>-1)?\"MSIE\":s.appName,aJ=s.appVersion;if(\"MSIE\"==i){e=\"MSIE\";aI=aJ.indexOf(e);if(aI>=0){aK=window.parseInt(aJ.substring(aI+5));if(3<=aK){D=1.1;if(4<=aK){D=1.3}}}}else{if((\"Netscape\"==i)||(\"Opera\"==i)||(\"Mozilla\"==i)){D=1.3;e=\"Netscape6\";aI=aJ.indexOf(e);if(aI>=0){D=1.5}}}return D},network:function(){if(m&65536!=65536){return\"\"}var i=\"\";i=(s.connection&&s.connection.type)?s.connection.type:i;try{F.body.addBehavior(\"#default#clientCaps\");i=F.body.connectionType}catch(D){i=\"unkown\"}return i},language:function(){return(m&32768==32768)?(s.systemLanguage||s.language):\"\"},timezone:function(){return(m&16384==16384)?(new Date().getTimezoneOffset()/60):\"\"},flashVer:function(){if(m&8192!=8192){return\"\"}var aK=s.plugins,aH,aL,aN;if(aK&&aK.length){for(var aJ in aK){aL=aK[aJ];if(aL.description==null){continue}if(aH!=null){break}aN=aL.description.toLowerCase();if(aN.indexOf(\"flash\")!=-1){aH=aL.version?parseInt(aL.version):aN.match(/\\\\d+/);continue}}}else{if(window.ActiveXObject){for(var aI=10;aI>=2;aI--){try{var D=new ActiveXObject(\"ShockwaveFlash.ShockwaveFlash.\"+aI);if(D){aH=aI;break}}catch(aM){}}}else{if(W.indexOf(\"webtv/2.5\")!=-1){aH=3}else{if(W.indexOf(\"webtv\")!=-1){aH=2}}}}return aH},javaEnabled:function(){if(m&4096!=4096){return\"\"}var D=s.plugins,i=s.javaEnabled(),aH,aI;if(i==true){return 1}if(D&&D.length){for(var e in D){aH=D[e];if(aH.description==null){continue}if(i!=null){break}aI=aH.description.toLowerCase();if(aI.indexOf(\"java plug-in\")!=-1){i=parseInt(aH.version);continue}}}else{if(window.ActiveXObject){i=(new ActiveXObject(\"JavaWebStart.IsInstalled\")!=null)}}return i?1:0}};var ad={pageId:function(i){var D=i||r,aK=\"-9999-0-0-1\";if((undefined==D)||(\"\"==D)){try{var aH=h(\"publishid\");if(\"\"!=aH){var aJ=aH.split(\",\");if(aJ.length>0){if(aJ.length>=3){aK=\"-9999-0-\"+aJ[1]+\"-\"+aJ[2]}D=aJ[0]}}else{D=\"0\"}}catch(aI){D=\"0\"}D=D+aK}return D},sessionCount:function(){var e=t(\"_s_upa\");if(e==\"\"){e=0}return e},excuteCount:function(){return SUDA.sudaCount},referrer:function(){if(m&2048!=2048){return\"\"}var e=/^[^\\\\?&#]*.swf([\\\\?#])?/;if((aA==\"\")||(aA.match(e))){var i=V(j,\"ref\",\"&\",\"\");if(i!=\"\"){return escape(i)}}return escape(aA)},isHomepage:function(){if(m&1024!=1024){return\"\"}var D=\"\";try{F.body.addBehavior(\"#default#homePage\");D=F.body.isHomePage(j)?\"Y\":\"N\"}catch(i){D=\"unkown\"}return D},PGLS:function(){return(m&512==512)?h(\"stencil\"):\"\"},ZT:function(){if(m&256!=256){return\"\"}var e=h(\"subjectid\");e.replace(\",\",\".\");e.replace(\";\",\",\");return escape(e)},mediaType:function(){return(m&128==128)?h(\"mediaid\"):\"\"},domCount:function(){return(m&64==64)?F.getElementsByTagName(\"*\").length:\"\"},iframeCount:function(){return(m&32==32)?F.getElementsByTagName(\"iframe\").length:\"\"}};var av={visitorId:function(){var i=15;var e=t(aa);if(e.length>i&&u==0){return e}else{return}},fvisitorId:function(e){if(!e){var e=t(Y);return e}else{at(Y,e,3650)}},sessionId:function(){var e=t(H);if(\"\"==e){var i=new Date();e=Math.random()*10000000000000+\".\"+i.getTime()}return e},flashCookie:function(e){if(e){}else{return p}},lastVisit:function(){var D=t(H);var aI=t(P);var aH=aI.split(\":\");var aJ=\"\",i;if(aH.length>=6){if(D!=aH[4]){i=new Date();var e=new Date(window.parseInt(aH[0]));aH[1]=window.parseInt(aH[1])+1;if(i.getMonth()!=e.getMonth()){aH[2]=1}else{aH[2]=window.parseInt(aH[2])+1}if(((i.getTime()-e.getTime())/86400000)>=7){aH[3]=1}else{if(i.getDay()<e.getDay()){aH[3]=1}else{aH[3]=window.parseInt(aH[3])+1}}aJ=aH[0]+\":\"+aH[1]+\":\"+aH[2]+\":\"+aH[3];aH[5]=aH[0];aH[0]=i.getTime();at(P,aH[0]+\":\"+aH[1]+\":\"+aH[2]+\":\"+aH[3]+\":\"+D+\":\"+aH[5],360)}else{aJ=aH[5]+\":\"+aH[1]+\":\"+aH[2]+\":\"+aH[3]}}else{i=new Date();aJ=\":1:1:1\";at(P,i.getTime()+aJ+\":\"+D+\":\",360)}return aJ},userNick:function(){if(al!=\"\"){return al}var D=unescape(t(l));if(D!=\"\"){var i=V(D,\"ag\",\"&\",\"\");var e=V(D,\"user\",\"&\",\"\");var aH=V(D,\"uid\",\"&\",\"\");var aJ=V(D,\"sex\",\"&\",\"\");var aI=V(D,\"dob\",\"&\",\"\");al=i+\":\"+e+\":\"+aH+\":\"+aJ+\":\"+aI;return al}else{return\"\"}},userOrigin:function(){if(m&4!=4){return\"\"}var e=t(aE);var i=e.split(\":\");if(i.length>=2){return i[0]}else{return\"\"}},advCount:function(){return(m&2==2)?t(E):\"\"},setUOR:function(){var aL=t(aE),aP=\"\",i=\"\",aO=\"\",aI=\"\",aM=j.toLowerCase(),D=F.referrer.toLowerCase();var aQ=/[&|?]c=spr(_[A-Za-z0-9]{1,}){3,}/;var aK=new Date();if(aM.match(aQ)){aO=aM.match(aQ)[0]}else{if(D.match(aQ)){aO=D.match(aQ)[0]}}if(aO!=\"\"){aO=aO.substr(3)+\":\"+aK.getTime()}if(aL==\"\"){if(t(P)==\"\"){aP=ak(D);i=ak(aM)}at(aE,aP+\",\"+i+\",\"+aO,365)}else{var aJ=0,aN=aL.split(\",\");if(aN.length>=1){aP=aN[0]}if(aN.length>=2){i=aN[1]}if(aN.length>=3){aI=aN[2]}if(aO!=\"\"){aJ=1}else{var aH=aI.split(\":\");if(aH.length>=2){var e=new Date(window.parseInt(aH[1]));if(e.getTime()<(aK.getTime()-86400000*30)){aJ=1}}}if(aJ){at(aE,aP+\",\"+i+\",\"+aO,365)}}},setAEC:function(e){if(\"\"==e){return}var i=t(E);if(i.indexOf(e+\",\")<0){i=i+e+\",\"}at(E,i,7)},ssoInfo:function(){var D=unescape(aj(t(\"sso_info\")));if(D!=\"\"){if(D.indexOf(\"uid=\")!=-1){var i=V(D,\"uid\",\"&\",\"\");return escape(\"uid:\"+i)}else{var e=V(D,\"u\",\"&\",\"\");return escape(\"u:\"+unescape(e))}}else{return\"\"}},subp:function(){return t(\"SUBP\")}};var ai={CI:function(){var e=[\"sz:\"+ap.screenSize(),\"dp:\"+ap.colorDepth(),\"ac:\"+ap.appCode(),\"an:\"+ap.appName(),\"cpu:\"+ap.cpu(),\"pf:\"+ap.platform(),\"jv:\"+ap.jsVer(),\"ct:\"+ap.network(),\"lg:\"+ap.language(),\"tz:\"+ap.timezone(),\"fv:\"+ap.flashVer(),\"ja:\"+ap.javaEnabled()];return\"CI=\"+e.join(\"|\")},PI:function(e){var i=[\"pid:\"+ad.pageId(e),\"st:\"+ad.sessionCount(),\"et:\"+ad.excuteCount(),\"ref:\"+ad.referrer(),\"hp:\"+ad.isHomepage(),\"PGLS:\"+ad.PGLS(),\"ZT:\"+ad.ZT(),\"MT:\"+ad.mediaType(),\"keys:\",\"dom:\"+ad.domCount(),\"ifr:\"+ad.iframeCount()];return\"PI=\"+i.join(\"|\")},UI:function(){var e=[\"vid:\"+av.visitorId(),\"sid:\"+av.sessionId(),\"lv:\"+av.lastVisit(),\"un:\"+av.userNick(),\"uo:\"+av.userOrigin(),\"ae:\"+av.advCount(),\"lu:\"+av.fvisitorId(),\"si:\"+av.ssoInfo(),\"rs:\"+(n?1:0),\"dm:\"+(B?1:0),\"su:\"+av.subp()];return\"UI=\"+e.join(\"|\")},EX:function(i,e){if(m&1!=1){return\"\"}i=(null!=i)?i||\"\":b;e=(null!=e)?e||\"\":a;return\"EX=ex1:\"+i+\"|ex2:\"+e},MT:function(){return\"MT=\"+aF().join(\"|\")},V:function(){return an},R:function(){return\"gUid_\"+new Date().getTime()}};function ax(){var aK=\"-\",aH=F.referrer.toLowerCase(),D=j.toLowerCase();if(\"\"==t(X)){if(\"\"!=aH){aK=ak(aH)}at(X,aK,\"\",\"weibo.com\")}var aI=/weibo.com\\\\/reg.php/;if(D.match(aI)){var aJ=V(unescape(D),\"sharehost\",\"&\",\"\");var i=V(unescape(D),\"appkey\",\"&\",\"\");if(\"\"!=aJ){at(X,aJ,\"\",\"weibo.com\")}at(\"appkey\",i,\"\",\"weibo.com\")}}function d(e,i){G(e,i)}function G(i,D){D=D||{};var e=new Image(),aH;if(D&&D.callback&&typeof D.callback==\"function\"){e.onload=function(){clearTimeout(aH);aH=null;D.callback(true)}}SUDA.img=e;e.src=i;aH=setTimeout(function(){if(D&&D.callback&&typeof D.callback==\"function\"){D.callback(false);e.onload=null}},D.timeout||2000)}function x(e,aH,D,aI){SUDA.sudaCount++;if(!av.visitorId()&&!L()){if(u<3){u++;setTimeout(x,500);return}}var i=N+[ai.V(),ai.CI(),ai.PI(e),ai.UI(),ai.MT(),ai.EX(aH,D),ai.R()].join(\"&\");G(i,aI)}function y(e,D,i){if(aG||A){return}if(SUDA.sudaCount!=0){return}x(e,D,i)}function ab(e,aH){if((\"\"==e)||(undefined==e)){return}av.setAEC(e);if(0==aH){return}var D=\"AcTrack||\"+t(aa)+\"||\"+t(H)+\"||\"+av.userNick()+\"||\"+e+\"||\";var i=ag+D+\"&gUid_\"+new Date().getTime();d(i)}function aq(aI,e,i,aJ){aJ=aJ||{};if(!i){i=\"\"}else{i=escape(i)}var aH=\"UATrack||\"+t(aa)+\"||\"+t(H)+\"||\"+av.userNick()+\"||\"+aI+\"||\"+e+\"||\"+ad.referrer()+\"||\"+i+\"||\"+(aJ.realUrl||\"\")+\"||\"+(aJ.ext||\"\");var D=ag+aH+\"&gUid_\"+new Date().getTime();d(D,aJ)}function aC(aK){var i=g(aK);var aI=i.target;var aH=\"\",aL=\"\",D=\"\";var aJ;if(aI!=null&&aI.getAttribute&&(!aI.getAttribute(\"suda-uatrack\")&&!aI.getAttribute(\"suda-actrack\")&&!aI.getAttribute(\"suda-data\"))){while(aI!=null&&aI.getAttribute&&(!!aI.getAttribute(\"suda-uatrack\")||!!aI.getAttribute(\"suda-actrack\")||!!aI.getAttribute(\"suda-data\"))==false){if(aI==F.body){return}aI=aI.parentNode}}if(aI==null||aI.getAttribute==null){return}aH=aI.getAttribute(\"suda-actrack\")||\"\";aL=aI.getAttribute(\"suda-uatrack\")||aI.getAttribute(\"suda-data\")||\"\";sudaUrls=aI.getAttribute(\"suda-urls\")||\"\";if(aL){aJ=J(aL);if(aI.tagName.toLowerCase()==\"a\"){D=aI.href}opts={};opts.ext=(aJ.ext||\"\");aJ.key&&SUDA.uaTrack&&SUDA.uaTrack(aJ.key,aJ.value||aJ.key,D,opts)}if(aH){aJ=J(aH);aJ.key&&SUDA.acTrack&&SUDA.acTrack(aJ.key,aJ.value||aJ.key)}}if(window.SUDA&&Object.prototype.toString.call(window.SUDA)===\"[object Array]\"){for(var Q=0,ae=SUDA.length;Q<ae;Q++){switch(SUDA[Q][0]){case\"setGatherType\":m=SUDA[Q][1];break;case\"setGatherInfo\":r=SUDA[Q][1]||r;b=SUDA[Q][2]||b;a=SUDA[Q][3]||a;break;case\"setPerformance\":Z=SUDA[Q][1];break;case\"setPerformanceFilter\":C=SUDA[Q][1];break;case\"setPerformanceInterval\":K=SUDA[Q][1]*1||0;K=isNaN(K)?0:K;break;case\"setGatherMore\":M.push(SUDA[Q].slice(1));break;case\"acTrack\":S.push(SUDA[Q].slice(1));break;case\"uaTrack\":I.push(SUDA[Q].slice(1));break}}}aG=(function(D,i){if(ah.top==ah){return false}else{try{if(F.body.clientHeight==0){return false}return((F.body.clientHeight>=D)&&(F.body.clientWidth>=i))?false:true}catch(aH){return true}}})(320,240);A=(function(){return false})();av.setUOR();var au=av.sessionId();window.SUDA=window.SUDA||[];SUDA.sudaCount=SUDA.sudaCount||0;SUDA.log=function(){x.apply(null,arguments)};SUDA.acTrack=function(){ab.apply(null,arguments)};SUDA.uaTrack=function(){aq.apply(null,arguments)};U(F.body,\"click\",aC);window.GB_SUDA=SUDA;GB_SUDA._S_pSt=function(){};GB_SUDA._S_acTrack=function(){ab.apply(null,arguments)};GB_SUDA._S_uaTrack=function(){aq.apply(null,arguments)};window._S_pSt=function(){};window._S_acTrack=function(){ab.apply(null,arguments)};window._S_uaTrack=function(){aq.apply(null,arguments)};window._S_PID_=\"\";if(!window.SUDA.disableClickstream){y()}try{k()}catch(T){}})();\\r\\n//-->\\r\\n</script> \\r\\n<noScript> \\r\\n<div style=\\'position:absolute;top:0;left:0;width:0;height:0;visibility:hidden\\'><img width=0 height=0 src=\\'//beacon.sina.com.cn/a.gif?noScript\\' border=\\'0\\' alt=\\'\\' /></div> \\r\\n</noScript> \\r\\n<!-- SUDA_CODE_END -->\\r\\n\\r\\n<!-- SSO_GETCOOKIE_START -->\\r\\n<script type=\"text/javascript\">var sinaSSOManager=sinaSSOManager||{};sinaSSOManager.getSinaCookie=function(){function dc(u){if(u==undefined){return\"\"}var decoded=decodeURIComponent(u);return decoded==\"null\"?\"\":decoded}function ps(str){var arr=str.split(\"&\");var arrtmp;var arrResult={};for(var i=0;i<arr.length;i++){arrtmp=arr[i].split(\"=\");arrResult[arrtmp[0]]=dc(arrtmp[1])}return arrResult}function gC(name){var Res=eval(\"/\"+name+\"=([^;]+)/\").exec(document.cookie);return Res==null?null:Res[1]}var sup=dc(gC(\"SUP\"));if(!sup){sup=dc(gC(\"SUR\"))}if(!sup){return null}return ps(sup)};</script>\\r\\n<!-- SSO_GETCOOKIE_END -->\\r\\n\\r\\n<script type=\"text/javascript\">new function(r,s,t){this.a=function(n,t,e){if(window.addEventListener){n.addEventListener(t,e,false);}else if(window.attachEvent){n.attachEvent(\"on\"+t,e);}};this.b=function(f){var t=this;return function(){return f.apply(t,arguments);};};this.c=function(){var f=document.getElementsByTagName(\"form\");for(var i=0;i<f.length;i++){var o=f[i].action;if(this.r.test(o)){f[i].action=o.replace(this.r,this.s);}}};this.r=r;this.s=s;this.d=setInterval(this.b(this.c),t);this.a(window,\"load\",this.b(function(){this.c();clearInterval(this.d);}));}(/http:\\\\/\\\\/www\\\\.google\\\\.c(om|n)\\\\/search/, \"http://keyword.sina.com.cn/searchword.php\", 250);</script>\\r\\n<!-- body code end -->\\r\\n\\n\\n    <!--主导航-->\\n<div class=\"sina-header\" id=\"sina-header\">\\n    <div class=\"sina-header-inner\">\\n        <div class=\"sina-nav\">\\n            <ul class=\"nav-list\">\\n                <li class=\"first\" data-sudaclick=\"nav_home_p\"><a href=\"http://www.sina.com.cn/\">新浪首页</a></li>\\n                <li data-sudaclick=\"nav_news_p\"><a href=\"http://news.sina.com.cn/\">新闻</a></li>\\n                <li data-sudaclick=\"nav_sports_p\"><a href=\"http://sports.sina.com.cn/\">体育</a></li>\\n                <li data-sudaclick=\"nav_finance_p\"><a href=\"http://finance.sina.com.cn/\">财经</a></li>\\n                <li data-sudaclick=\"nav_ent_p\"><a href=\"http://ent.sina.com.cn/\">娱乐</a></li>\\n                <li data-sudaclick=\"nav_tech_p\"><a href=\"http://tech.sina.com.cn/\">科技</a></li>\\n                <li data-sudaclick=\"nav_blog_p\"><a href=\"http://blog.sina.com.cn/\">博客</a></li>\\n                <li data-sudaclick=\"nav_photo_p\"><a href=\"http://photo.sina.com.cn/\">图片</a></li>\\n                <li data-sudaclick=\"nav_zhuanlan_p\"><a href=\"http://zhuanlan.sina.com.cn/\">专栏</a></li>\\n                <li class=\"last\" data-sudaclick=\"topnav_more_p\"><a href=\"#\" class=\"more\" data-action=\"dropdown\" data-target=\"more\">更多<i class=\"icon icon-arrow\"></i></a></li>\\n                <!--鼠标滑过更多<a>标签添加class=\"sina15-on\"-->\\n            </ul>\\n            <ul id=\"more\" class=\"nav-others\">\\n                <li><a data-sudaclick=\"nav_auto_p\" href=\"http://auto.sina.com.cn/\">汽车</a><a data-sudaclick=\"nav_edu_p\" href=\"http://edu.sina.com.cn/\">教育</a><a data-sudaclick=\"nav_fashion_p\" href=\"http://fashion.sina.com.cn/\">时尚</a><a data-sudaclick=\"nav_eladies_p\" href=\"http://eladies.sina.com.cn/\">女性</a><a data-sudaclick=\"nav_astro_p\" href=\"http://astro.sina.com.cn/\">星座</a><a data-sudaclick=\"nav_health_p\" href=\"http://health.sina.com.cn/\">健康</a></li>\\n                <li><a data-sudaclick=\"nav_leju_p\" href=\"http://www.leju.com/#source=pc_sina_dbdh1&source_ext=pc_sina\">房产</a><a data-sudaclick=\"nav_history_p\"  href=\"http://history.sina.com.cn/\">历史</a><a data-sudaclick=\"nav_video_p\" href=\"http://video.sina.com.cn/\">视频</a><a data-sudaclick=\"nav_collection_p\" href=\"http://collection.sina.com.cn/\">收藏</a><a data-sudaclick=\"nav_baby_p\" href=\"http://baby.sina.com.cn/\">育儿</a><a data-sudaclick=\"nav_book_p\" href=\"http://book.sina.com.cn/\">读书</a></li>\\n                <li class=\"nav-others-last\"><a data-sudaclick=\"nav_fo_p\" href=\"http://fo.sina.com.cn/\">佛学</a><a data-sudaclick=\"nav_games_p\" href=\"http://games.sina.com.cn/\">游戏</a><a data-sudaclick=\"nav_travel_p\" href=\"http://travel.sina.com.cn/\">旅游</a><a data-sudaclick=\"nav_mail_p\" href=\"http://mail.sina.com.cn/\">邮箱</a><a data-sudaclick=\"nav_guide_p\" href=\"http://news.sina.com.cn/guide/\">导航</a></li>\\n            </ul>\\n        </div>\\n        <!--通行证组件start-->\\n        <div class=\"sina-client\">\\n            <div class=\"sina-client-tl\">\\n                <a class=\"more\" href=\"#\" data-action=\"dropdown\" data-target=\"mobileclient\">移动客户端<i class=\"icon icon-arrow\"></i></a>\\n            </div>\\n            <ul id=\"mobileclient\" class=\"dropdown\">\\n                <li><a data-sudaclick=\"nav_app_weibo_p\" href=\"http://m.sina.com.cn/m/weibo.shtml\" target=\"_blank\"><i class=\"ico-client ico-weibo\"></i>新浪微博</a></li>\\n                <li><a data-sudaclick=\"nav_app_news_p\" href=\"http://news.sina.com.cn/m/sinanews.html\" target=\"_blank\"><i class=\"ico-client ico-news\"></i>新浪新闻</a></li>\\n                <li><a data-sudaclick=\"nav_app_sports_p\" href=\"http://m.sina.com.cn/m/sinasports.shtml\" target=\"_blank\"><i class=\"ico-client ico-sports\"></i>新浪体育</a></li>                \\n                <li><a data-sudaclick=\"nav_app_finance_p\" href=\"http://finance.sina.com.cn/mobile/comfinanceweb.shtml\" target=\"_blank\"><i class=\"ico-client ico-finance\"></i>新浪财经</a></li>\\n                <li><a href=\"http://zhongce.sina.com.cn/about/app\" target=\"_blank\" data-sudaclick=\"nav_app_zhongce_p\"><i class=\"ico-client ico-zhongce\"></i>新浪众测</a></li>\\n                <li><a data-sudaclick=\"nav_app_blog_p\" href=\"http://blog.sina.com.cn/lm/z/app/\" target=\"_blank\"><i class=\"ico-client ico-blog\"></i>新浪博客</a></li>\\n                <li><a data-sudaclick=\"nav_app_video_p\" href=\"http://video.sina.com.cn/app\" target=\"_blank\"><i class=\"ico-client ico-video\"></i>新浪视频</a></li>\\n                <li><a data-sudaclick=\"nav_app_game_p\" href=\"http://games.sina.com.cn/o/kb/12392.shtml\" target=\"_blank\"><i class=\"ico-client ico-games\"></i>新浪游戏</a></li>\\n                <li><a data-sudaclick=\"nav_app_weather_p\" href=\"http://m.sina.com.cn/m/weather.shtml\" target=\"_blank\"><i class=\"ico-client ico-weather\"></i>天气通</a></li>\\n            </ul>\\n        </div>\\n        <!-- 我的收藏start -->\\n        <div class=\"my-favor\" id=\"my_favor\" style=\"display:none;\">\\n            <a data-sudaclick=\"nav_myfav_p\" href=\"http://my.sina.com.cn/#location=fav\" target=\"_blank\"><i></i>我的收藏</a>\\n        </div>\\n\\n        <!-- 我的收藏end -->\\n        <div id=\"SI_User\" class=\"TAP14\">\\n            <div class=\"ac-rgst\"><a data-sudaclick=\"nav_registered_invalid\" href=\"https://login.sina.com.cn/signup/signup?entry=news\" class=\"msg-link\" target=\"_blank\">注册</a></div>\\n            <div class=\"ac-login\">\\n                <div class=\"ac-login-cnt \"><a data-sudaclick=\"nav_login_invalid\" href=\"#\" class=\"\"><span class=\"thumb\"><img src=\"//i.sso.sina.com.cn/images/login/thumb_default.png\"></span><span class=\"log-links\">登录</span></a></div>\\n            </div>\\n        </div>\\n\\n    </div>\\n</div>\\n<!--/主导航-->\\n<!--页面顶导 end-->\\n    <div class=\"main-content\">\\n        <div class=\"top-ad\" data-sudaclick=\"ad_top_p\">\\n    <!--顶部通栏 Start-->\\n    <script>\\n        (function (d, s, id) {\\n            var s, n = d.getElementsByTagName(s)[0];\\n            if (d.getElementById(id)) return;\\n            s = d.createElement(s);\\n            s.id = id;\\n            s.setAttribute(\\'charset\\', \\'utf-8\\');\\n            s.src = \\'//d\\' + Math.floor(0 + Math.random() * (9 - 0 + 1)) + \\'.sina.com.cn/litong/zhitou/sinaads/release/sinaads.js\\';\\n            n.parentNode.insertBefore(s, n);\\n        })(document, \\'script\\', \\'sinaads-script\\');\\n    </script>\\n    <ins class=\"sinaads\" data-ad-pdps=\"PDPS000000058096\"></ins>\\n    <script>(sinaads = window.sinaads || []).push({})</script>\\n    <!--顶部通栏 End-->\\n</div>\\n        <!--\\n * Module: 面包削\\n * Author: jinping3\\n * Date: 2018.03.29\\n-->\\n<div class=\"path-search\">\\n    <div class=\"path\">\\n        <div class=\"channel-logo\"><a data-sudaclick=\"cnav_logo_news_p\" href=\"http://news.sina.com.cn/\"><span>新闻中心</span></a></div>\\n    </div>\\n    <div class=\"search ent-search\" id=\\'ent_search\\' data-sudaclick=\"cnav_search_p\">\\n        <form action=\"//search.sina.com.cn/\" name=\"cheadSearchForm\" id=\"all_search\" method=\"get\"\\n              target=\"_blank\" style=\"position: relative;\">\\n            <select name=\"c\" id=\"search_type\" style=\"visibility: hidden;\">\\n                <option value=\"news\">新闻</option>\\n                <option value=\"img\">图片</option>\\n                <option value=\"blog\">博客</option>\\n                <option value=\"video\">视频</option>\\n            </select>\\n            <input type=\"hidden\" name=\"ie\" value=\"utf-8\">\\n            <div class=\"search_div\">\\n                <input type=\"text\" id=\"search_input\" name=\"q\" value=\"请输入关键词\" onfocus=\"if(this.value == \\'请输入关键词\\') this.value = \\'\\'\" onblur=\"if(this.value ==\\'\\') this.value = \\'请输入关键词\\'\" autocomplete=\"off\">\\n                <div class=\"search_btn_box\"><input type=\"submit\" id=\"search_submit\" value=\"\"></div>\\n            </div>\\n        </form>\\n    </div>\\n</div>\\n<!-- 面包削 search end -->\\n    </div>\\n    <div class=\"main-nav\" data-sudaclick=\"top_channle_nav_p\">\\n    <ul class=\"main-text\">\\n        <li><a href=\"http://news.sina.com.cn\">首页</a></li>\\n        <li><a href=\"http://news.sina.com.cn/china/\" target=\"_blank\"  class=\"current\">国内</a></li>\\n        <li><a href=\"http://news.sina.com.cn/world/\" target=\"_blank\">国际</a></li>\\n        <!--<li><a href=\"http://news.sina.com.cn/society/\" target=\"_blank\">社会</a></li>-->\\n\\t\\t<li><a href=\"http://mil.news.sina.com.cn/\" target=\"_blank\">军事</a></li>\\n\\t\\t<li><a href=\"http://piyao.sina.cn\" target=\"_blank\">辟谣</a></li>\\n\\t\\t<li><a href=\"http://news.sina.cn/zt_d/sz2019\" target=\"_blank\">知事</a></li>\\n        <li><a href=\"http://news.video.sina.com.cn/\" target=\"_blank\">视频</a></li>\\n        <li><a href=\"http://cul.news.sina.com.cn/\" target=\"_blank\">文化</a></li>\\n\\t\\t<li><a href=\"http://photo.sina.com.cn/\" target=\"_blank\">图片</a></li>\\n        <li class=\"none\"><a href=\"http://news.sina.com.cn/vr/\" target=\"_blank\">VR视频</a></li>\\n        <!-- \\n<li><a href=\"http://news.sina.com.cn/opinion/\" target=\"_blank\">评论</a></li>\\n<li class=\"none\"><a href=\"http://games.sina.com.cn/\" target=\"_blank\">游戏</a></li> -->\\n    </ul>\\n</div>\\n    <div class=\"main-content\">\\n        <div class=\"left-content\">\\n            <div class=\"picBox\" id=\"picBox\"  data-sudaclick=\"focuspic_p\">\\n    <ul class=\"img\">\\n        \\t\\t\\t\\t\\t<li>\\n            <a href=\"http://slide.news.sina.com.cn/c/slide_1_2841_421509.html\" target=\"_blank\" title=\"濠江情，中国心|澳门回归20年文艺晚会现场\">\\n                <span class=\"img-span\"><img src=\"//k.sinaimg.cn/n/news/transform/200/w600h400/20191220/7e19-ikyziqw6478491.jpg/w500h333l80847.jpg\" width=\"500\" height=\"333\" alt=\"濠江情，中国心|澳门回归20年文艺晚会现场\" class=\"img-hover\" /></span>\\n                <span class=\"title\">濠江情，中国心|澳门回归20年文艺晚会现场</span>\\n            </a>\\n        </li>\\t\\t\\t\\t\\t\\t\\t\\t\\t\\t<li>\\n            <a href=\"http://slide.news.sina.com.cn/c/slide_1_86058_421335.html\" target=\"_blank\" title=\"呼伦贝尔诺干湖“冬捕”开幕 头网捕获10000余斤野生鱼\">\\n                <span class=\"img-span\"><img src=\"//k.sinaimg.cn/n/news/transform/200/w600h400/20191219/897b-ikvenfu4108387.jpg/w500h333l80e9f.jpg\" width=\"500\" height=\"333\" alt=\"呼伦贝尔诺干湖“冬捕”开幕 头网捕获10000余斤野生鱼\" class=\"img-hover\" /></span>\\n                <span class=\"title\">呼伦贝尔诺干湖“冬捕”开幕 头网捕获10000余斤野...</span>\\n            </a>\\n        </li>\\t\\t\\t\\t\\t\\t\\t\\t\\t\\t<li>\\n            <a href=\"http://slide.news.sina.com.cn/c/slide_1_2841_421267.html\" target=\"_blank\" title=\"习近平抵达澳门\">\\n                <span class=\"img-span\"><img src=\"//k.sinaimg.cn/n/news/1_img/upload/3aa4af12/165/w1000h765/20191219/5388-ikvenfu2903166.jpg/w500h333l80546.jpg\" width=\"500\" height=\"333\" alt=\"习近平抵达澳门\" class=\"img-hover\" /></span>\\n                <span class=\"title\">习近平抵达澳门</span>\\n            </a>\\n        </li>\\t\\t\\t\\t\\t\\n    </ul>\\n    <ul>\\n       <li>\\n            <a class=\"btn btn_l\" href=\"javascript:;\"></a>\\n        </li>\\n        <li >\\n            <a class=\"btn btn_r\" href=\"javascript:;\"></a>\\n        </li>\\n    </ul>\\n    <div class=\"titsBox\">\\n        <ul class=\"num\"></ul>\\n    </div>\\n</div>\\n            <div class=\"video-box\" data-sudaclick=\"videolist_p\">\\n    <ul>\\n        \\t\\t\\t<li>\\n            <a href=\"http://video.sina.com.cn/p/news/2019-12-20/detail-iihnzahi8914760.d.html\" target=\"_blank\">\\n                <span class=\"img-span\">\\n                    <img src=\"//p.ivideo.sina.com.cn/video/316/738/685/316738685.jpg\" width=\"240\" height=\"160\" alt=\"习近平会见中央驻澳机构和主要中资机构负责人\" class=\"img-hover\" />\\n                    <i class=\"icon-video\"></i>\\n                </span>\\n                <span class=\"text-span\">习近平会见中央驻澳机构和主要中资机构负责人</span>\\n            </a>\\n        </li>\\n\\t\\t\\t<li>\\n            <a href=\"http://video.sina.com.cn/p/news/2019-12-20/detail-iihnzhfz7255390.d.html\" target=\"_blank\">\\n                <span class=\"img-span\">\\n                    <img src=\"//p.ivideo.sina.com.cn/video/316/738/596/316738596.jpg\" width=\"240\" height=\"160\" alt=\"习近平会见澳门特别行政区新任行政、立法、司法机关负责人\" class=\"img-hover\" />\\n                    <i class=\"icon-video\"></i>\\n                </span>\\n                <span class=\"text-span\">习近平会见澳门特别行政区新任行政、立法、司法机关负责人</span>\\n            </a>\\n        </li>\\n\\t\\t\\t<li>\\n            <a href=\"http://video.sina.com.cn/p/news/2019-12-20/detail-iihnzahi8914171.d.html\" target=\"_blank\">\\n                <span class=\"img-span\">\\n                    <img src=\"//p.ivideo.sina.com.cn/video/316/738/409/316738409.jpg\" width=\"240\" height=\"160\" alt=\"习近平会见贺一诚\" class=\"img-hover\" />\\n                    <i class=\"icon-video\"></i>\\n                </span>\\n                <span class=\"text-span\">习近平会见贺一诚</span>\\n            </a>\\n        </li>\\n\\t\\t\\t<li>\\n            <a href=\"http://video.sina.com.cn/p/news/2019-12-20/detail-iihnzahi8915019.d.html\" target=\"_blank\">\\n                <span class=\"img-span\">\\n                    <img src=\"//p.ivideo.sina.com.cn/video/316/738/190/316738190.jpg\" width=\"240\" height=\"160\" alt=\"庆祝澳门回归祖国20周年文艺晚会在澳门举行 习近平出席观看\" class=\"img-hover\" />\\n                    <i class=\"icon-video\"></i>\\n                </span>\\n                <span class=\"text-span\">庆祝澳门回归祖国20周年文艺晚会在澳门举行 习近平出席观看</span>\\n            </a>\\n        </li>\\n\\n    </ul>\\n</div>\\n        </div>\\n        <div class=\"right-content\">\\n            <ul class=\"news-1\"  data-sudaclick=\"news_p\">\\n                \\n\\t\\t<li><a href=\"https://news.sina.com.cn/c/2019-12-19/doc-iihnzahi8709683.shtml\" target=\"_blank\">澳门人足年丰有余庆 央视主播这样说</a></li>\\t\\t<li><a href=\"https://news.sina.com.cn/c/2019-12-19/doc-iihnzhfz7013265.shtml\" target=\"_blank\">黄之锋又申请离港被拒 声称要去参观台湾2020选举</a></li>\\t\\t<li><a href=\"https://news.sina.com.cn/c/2019-12-19/doc-iihnzhfz7030680.shtml\" target=\"_blank\">国防科大校长已调整 中央候补委员邓小刚卸任</a></li>\\t\\t<li><a href=\"https://news.sina.com.cn/c/2019-12-19/doc-iihnzahi8707214.shtml\" target=\"_blank\">散播仇华言论遭起诉 这些外国网民认罪了</a></li>\\n            </ul>\\n            <ul class=\"news-2\"  data-sudaclick=\"news_p\">\\n                <li><a href=\"https://news.sina.com.cn/c/2019-12-20/doc-iihnzhfz7260059.shtml\" target=\"_blank\">张善政：参选2020是为了下架蔡英文 为台湾停损</a></li>\\n<li><a href=\"https://news.sina.com.cn/c/2019-12-20/doc-iihnzhfz7228935.shtml\" target=\"_blank\">中国公民在瑞典被盗被抢多发破案率低 外交部提醒</a></li>\\n<li><a href=\"https://news.sina.com.cn/c/2019-12-20/doc-iihnzahi8886436.shtml\" target=\"_blank\">特鲁多向特朗普提出这种要求 中方不得不回应</a></li>\\n<li><a href=\"https://news.sina.com.cn/c/2019-12-20/doc-iihnzhfz7227247.shtml\" target=\"_blank\">香港中文大学校长被西方颁了一个奖 理由极为荒唐</a></li>\\n<li><a href=\"https://news.sina.com.cn/c/2019-12-20/doc-iihnzahi8886844.shtml\" target=\"_blank\">俄战斗机工程师沸腾了 中国网购“救”了米格-31</a></li>\\n<li><a href=\"https://news.sina.com.cn/c/2019-12-20/doc-iihnzahi8875350.shtml\" target=\"_blank\">香港已有80名教师被捕 涉多次使用价值观歪曲教材</a></li>\\n<li><a href=\"https://news.sina.com.cn/c/2019-12-20/doc-iihnzahi8869411.shtml\" target=\"_blank\">盼中美经贸协议考虑诉求 耿爽：加方是否欲哭无泪</a></li>\\n<li><a href=\"https://news.sina.com.cn/o/2019-12-20/doc-iihnzahi8882135.shtml\" target=\"_blank\">韩蔡宋谁在政见会表现最好？韩国瑜获一致好评</a></li>\\n<li><a href=\"https://news.sina.com.cn/c/2019-12-20/doc-iihnzhfz7203825.shtml\" target=\"_blank\">渝昆高铁云南段开工 建成后昆明到重庆仅需两小时</a></li>\\n<li><a href=\"https://news.sina.com.cn/o/2019-12-20/doc-iihnzhfz7203096.shtml\" target=\"_blank\">加总理盼中美经贸考虑加方诉求 外交部回应</a></li>\\n<li><a href=\"https://news.sina.com.cn/c/2019-12-20/doc-iihnzhfz7199632.shtml\" target=\"_blank\">深圳二手房价涨幅超5%可投诉？官方解读来了</a></li>\\n\\n            </ul>\\n        </div>\\n    </div>\\n    <div class=\"main-content\">\\n        <div class=\"left-content-1 marBot\">\\n            <div class=\"switch-box\" data-sudaclick=\"left_picblock_p\">\\n    <div class=\"tlt\">\\n        <em><a href=\"http://slide.news.sina.com.cn/c/\" target=\"_blank\">图片</a></em>\\n    </div>\\n    <div class=\"switch-text\">\\n        <ul>\\n            \\n\\t\\t\\t\\t\\t\\n\\t\\t\\t\\t\\t\\t\\n\\t\\t\\t\\t\\t\\t\\t <li>\\n                <a href=\"http://slide.news.sina.com.cn/c/slide_1_2841_421728.html\" target=\"_blank\">\\n                    <img src=\"//n.sinaimg.cn/news/transform/200/w600h400/20191220/d28f-ikyziqw8937761.jpg\" width=\"150\" height=\"100\" alt=\"\" title=\"\">\\n                    <span class=\"mask\">繁忙的日程——习主席视察澳门第二天</span>\\n                </a>\\n            </li>\\t\\t\\t\\t\\t\\t\\t\\t\\n\\t\\t\\t\\t\\t\\t\\t <li>\\n                <a href=\"http://slide.news.sina.com.cn/c/slide_1_2841_421215.html\" target=\"_blank\">\\n                    <img src=\"//n.sinaimg.cn/news/1_img/upload/3aa4af12/248/w600h448/20191219/5d29-ikvenfu2520604.png\" width=\"150\" height=\"100\" alt=\"\" title=\"\">\\n                    <span class=\"mask\">大风出“奇云”！北京上空现飞碟云</span>\\n                </a>\\n            </li>\\t\\t\\t\\t\\t\\t\\t\\t\\n\\t\\t\\t\\t\\t\\t\\t <li>\\n                <a href=\"http://slide.news.sina.com.cn/c/slide_1_2841_421201.html\" target=\"_blank\">\\n                    <img src=\"//n.sinaimg.cn/news/1_img/upload/3aa4af12/365/w701h464/20191219/1919-ikvenfu2467291.png\" width=\"150\" height=\"100\" alt=\"\" title=\"\">\\n                    <span class=\"mask\">长春5000名冰建师昼夜赶工打造“冰雪世界”</span>\\n                </a>\\n            </li>\\t\\t\\t\\t\\t\\t\\t\\t\\n\\t\\t\\t\\t\\t\\t\\t <li>\\n                <a href=\"http://slide.news.sina.com.cn/c/slide_1_86523_421139.html\" target=\"_blank\">\\n                    <img src=\"//n.sinaimg.cn/news/transform/200/w600h400/20191219/187c-ikvenfu2227546.jpg\" width=\"150\" height=\"100\" alt=\"\" title=\"\">\\n                    <span class=\"mask\">山东惊现“狮身人面像”！打卡的网友直呼太像了！</span>\\n                </a>\\n            </li>\\t\\t\\t\\t\\t\\t\\t\\t\\n\\t\\t\\t\\t\\t\\t\\t <li>\\n                <a href=\"http://slide.news.sina.com.cn/c/slide_1_86058_421129.html\" target=\"_blank\">\\n                    <img src=\"//n.sinaimg.cn/spider20191218/734/w930h604/20191218/3e25-ikvenfu1347926.jpg\" width=\"150\" height=\"100\" alt=\"\" title=\"\">\\n                    <span class=\"mask\">过冬大雁栖息辽宁沈阳浑河水域</span>\\n                </a>\\n            </li>\\t\\t\\t\\t\\t\\t\\t\\t\\n\\t\\t\\t\\t\\t\\t\\t <li>\\n                <a href=\"http://slide.news.sina.com.cn/c/slide_1_86058_421172.html\" target=\"_blank\">\\n                    <img src=\"//n.sinaimg.cn/spider20191218/749/w930h619/20191218/6bbd-ikvenfu1347997.jpg\" width=\"150\" height=\"100\" alt=\"\" title=\"\">\\n                    <span class=\"mask\">呼伦贝尔诺干湖“冬捕”开幕</span>\\n                </a>\\n            </li>\\t\\t\\t\\t\\t\\t\\t\\t\\n\\t\\t\\t\\t\\t\\t\\t <li>\\n                <a href=\"http://slide.news.sina.com.cn/c/slide_1_86058_421092.html\" target=\"_blank\">\\n                    <img src=\"//n.sinaimg.cn/news/1_img/upload/3aa4af12/216/w650h366/20191219/2206-ikvenfu2205459.jpg\" width=\"150\" height=\"100\" alt=\"\" title=\"\">\\n                    <span class=\"mask\">敦煌铁路全线开通运营 中国西北地区形成首条环形铁路网</span>\\n                </a>\\n            </li>\\t\\t\\t\\t\\t\\t\\t\\t\\n\\t\\t\\t\\t\\t\\t\\t <li>\\n                <a href=\"http://slide.news.sina.com.cn/c/slide_1_86058_421081.html\" target=\"_blank\">\\n                    <img src=\"//n.sinaimg.cn/default/1_img/upload/3933d981/698/w899h599/20191218/f4cc-ikvenfu0813267.jpg\" width=\"150\" height=\"100\" alt=\"\" title=\"\">\\n                    <span class=\"mask\">澳门邮电局将发行两套纪念邮品</span>\\n                </a>\\n            </li>\\t\\t\\t\\t\\t\\t\\t\\n\\n        </ul>\\n    </div>\\n    <a class=\"btn-box\" target=\"_blank\" href=\"http://slide.news.sina.com.cn/c/\">\\n        更多\\n    </a>\\n</div>\\n\\t\\t\\t<!--seo start-->\\n\\t\\t\\t<div style=\"display:none;\">\\n\\t<ul>\\n\\t\\t<li><a href=\"https://news.sina.com.cn/c/2019-12-20/doc-iihnzahi8940846.shtml\">全队状态“不在线”，林书豪21分首钢遭惨败</a></li><li><a href=\"https://news.sina.com.cn/c/2019-12-20/doc-iihnzahi8940607.shtml\">中盛光电退出子公司广平中盛股权，失信信息仍在增加</a></li><li><a href=\"https://news.sina.com.cn/c/2019-12-20/doc-iihnzhfz7281671.shtml\">殡葬服务上架慈善超市，为社区孤寡等困境群体提供生命末端服务</a></li><li><a href=\"https://news.sina.com.cn/c/2019-12-20/doc-iihnzahi8939570.shtml\">夜读│12月20日，这些消费新闻别错过</a></li><li><a href=\"https://news.sina.com.cn/c/2019-12-20/doc-iihnzhfz7280492.shtml\">官员、学者、从业者齐聚清华研讨区块链，主要谈了什么？</a></li><li><a href=\"https://news.sina.com.cn/o/2019-12-20/doc-iihnzahi8938601.shtml\">新疆库车县“撤县设市”获批</a></li><li><a href=\"https://news.sina.com.cn/o/2019-12-20/doc-iihnzhfz7279368.shtml\">高清大图来了 习近平视察驻澳门部队并发表重要讲话</a></li><li><a href=\"https://news.sina.com.cn/c/2019-12-20/doc-iihnzhfz7280139.shtml\">盛来运：实现全年经济目标没悬念，不能有下行压力就动摇贯彻新发展理念</a></li><li><a href=\"https://news.sina.com.cn/c/2019-12-20/doc-iihnzhfz7279322.shtml\">好玩│跨年去哪嗨？去通州9大商圈、200余店吃喝玩乐</a></li><li><a href=\"https://news.sina.com.cn/c/2019-12-20/doc-iihnzahi8937688.shtml\">香港民间团体再次呼吁支持警队加薪</a></li><li><a href=\"https://news.sina.com.cn/c/2019-12-20/doc-iihnzahi8938917.shtml\">环球时报社评：澳门的高速发展足以碾压各种诡辩</a></li><li><a href=\"https://news.sina.com.cn/c/2019-12-20/doc-iihnzhfz7278681.shtml\">石药集团高血压创新药马来酸左氨氯地平片在美获批上市</a></li><li><a href=\"https://news.sina.com.cn/o/2019-12-20/doc-iihnzhfz7277571.shtml\">习近平出席庆祝澳门回归祖国20周年大会(图)</a></li><li><a href=\"https://news.sina.com.cn/o/2019-12-20/doc-iihnzhfz7278360.shtml\">我驻斯里兰卡使馆就汉班托塔港合作项目发表声明</a></li><li><a href=\"https://news.sina.com.cn/c/2019-12-20/doc-iihnzahi8936670.shtml\">北京银行深耕科技金融 服务首都科技创新中心建设</a></li><li><a href=\"https://news.sina.com.cn/c/2019-12-20/doc-iihnzhfz7277379.shtml\">广东、湖南、海南三省高铁和城轨将全面使用电子票</a></li><li><a href=\"https://news.sina.com.cn/c/2019-12-20/doc-iihnzahi8935776.shtml\">凯撒旅游与兰铁国旅战略合作，布局西北专列旅游市场</a></li><li><a href=\"https://news.sina.com.cn/c/2019-12-20/doc-iihnzahi8935773.shtml\">香港教育局长：80名教师或教学助理被捕，将严肃跟进</a></li><li><a href=\"https://news.sina.com.cn/c/2019-12-20/doc-iihnzahi8935268.shtml\">香港民间团体在立法会前游行请愿：支持警察</a></li><li><a href=\"https://news.sina.com.cn/c/2019-12-20/doc-iihnzahi8936190.shtml\">毫不意外 关于中国的话题依然没有“缺席”</a></li><li><a href=\"https://news.sina.com.cn/c/2019-12-20/doc-iihnzahi8934829.shtml\">天邦股份预计明年保守出栏350万头猪</a></li><li><a href=\"https://news.sina.com.cn/o/2019-12-20/doc-iihnzahi8934263.shtml\">中国首个罕见病法布雷病特效药获批</a></li><li><a href=\"https://news.sina.com.cn/c/2019-12-20/doc-iihnzahi8934326.shtml\">防“炒猪团投毒”干扰民航被罚，大北农承认有过失</a></li><li><a href=\"https://news.sina.com.cn/c/xl/2019-12-20/doc-iihnzhfz7275177.shtml\">习近平在庆祝澳门回归祖国20周年大会上的讲话(全文)</a></li><li><a href=\"https://news.sina.com.cn/c/2019-12-20/doc-iihnzahi8933057.shtml\">香港民间团体赴立法会请愿 感谢香港警察坚守岗位</a></li><li><a href=\"https://news.sina.com.cn/o/2019-12-20/doc-iihnzahi8933487.shtml\">2019年已有1539名涉黑涉恶嫌疑人被深圳检方批捕</a></li><li><a href=\"https://news.sina.com.cn/c/2019-12-20/doc-iihnzhfz7273911.shtml\">黄渤：赞誉都是外界给的，别太把自己当回事</a></li><li><a href=\"https://news.sina.com.cn/c/2019-12-20/doc-iihnzahi8931729.shtml\">全国第一个！浙江印发意见，2020年起全面推进这项工作</a></li><li><a href=\"https://news.sina.com.cn/c/2019-12-20/doc-iihnzhfz7272784.shtml\">2020年浙江省新闻发言人名单公布</a></li><li><a href=\"https://news.sina.com.cn/c/2019-12-20/doc-iihnzhfz7272478.shtml\">银保监会：支持澳门的银行在内地设立机构，开展业务</a></li><li><a href=\"https://news.sina.com.cn/o/2019-12-20/doc-iihnzahi8931653.shtml\">台湾外销订单连续13月负成长 全年无望转正</a></li><li><a href=\"https://news.sina.com.cn/c/2019-12-20/doc-iihnzhfz7274635.shtml\">两段视频告诉你:遇到有人打官司“走后门”怎么办</a></li><li><a href=\"https://news.sina.com.cn/c/2019-12-20/doc-iihnzhfz7271859.shtml\">因个人资金需求 金风科技高管王海波减持公司股份</a></li><li><a href=\"https://news.sina.com.cn/c/2019-12-20/doc-iihnzhfz7271860.shtml\">深圳彩虹创业投资集团破产清算 对外负债超29亿</a></li><li><a href=\"https://news.sina.com.cn/c/2019-12-20/doc-iihnzahi8930519.shtml\">赛特闭店倒计时10天？假的！预计明年3月闭店改造</a></li><li><a href=\"https://news.sina.com.cn/c/2019-12-20/doc-iihnzahi8929920.shtml\">长三角新成立这个中心，做好区域养老服务</a></li><li><a href=\"https://news.sina.com.cn/c/2019-12-20/doc-iihnzahi8929607.shtml\">《中央企业海外社会责任蓝皮书（2019）》在京发布</a></li><li><a href=\"https://news.sina.com.cn/o/2019-12-20/doc-iihnzhfz7271134.shtml\">在新疆生活的外国人：新疆是一个自由稳定的地方</a></li><li><a href=\"https://news.sina.com.cn/c/2019-12-20/doc-iihnzhfz7271099.shtml\">感冒了 发烧了 温泉就别泡了丨每日健康问答</a></li><li><a href=\"https://news.sina.com.cn/c/2019-12-20/doc-iihnzhfz7270028.shtml\">践行“一带一路” 传递华电关爱</a></li><li><a href=\"https://news.sina.com.cn/c/2019-12-20/doc-iihnzhfz7269767.shtml\">图说｜莱万霸屏各类射手榜，却心心念念欧冠奖杯</a></li><li><a href=\"https://news.sina.com.cn/c/2019-12-20/doc-iihnzahi8928377.shtml\">“金街”变长了！王府井步行街北延至灯市口大街</a></li><li><a href=\"https://news.sina.com.cn/c/2019-12-20/doc-iihnzhfz7267636.shtml\">广西地方标准《政府系统综合办公信息化建设规范》新闻发布会召开</a></li><li><a href=\"https://news.sina.com.cn/c/2019-12-20/doc-iihnzhfz7267592.shtml\">银保监会：进一步提高深度贫困地区不良贷款容忍度</a></li><li><a href=\"https://news.sina.com.cn/c/2019-12-20/doc-iihnzhfz7267591.shtml\">兴都库什地区7.0级地震，六百公里外华人被“震醒”</a></li><li><a href=\"https://news.sina.com.cn/c/2019-12-20/doc-iihnzahi8926449.shtml\">银保监会：将督促银行理财按新规方向规范转型</a></li><li><a href=\"https://news.sina.com.cn/c/2019-12-20/doc-iihnzhfz7267853.shtml\">全国13亿人都有的这张卡，曾在上海首发，就要20岁了</a></li><li><a href=\"https://news.sina.com.cn/c/xl/2019-12-20/doc-iihnzahi8926525.shtml\">李克强：基层政务凡应公开的要全部公开</a></li><li><a href=\"https://news.sina.com.cn/c/2019-12-20/doc-iihnzhfz7266727.shtml\">好吃不贵，家乐福北京上线40余种扶贫商品</a></li><li><a href=\"https://news.sina.com.cn/c/2019-12-20/doc-iihnzahi8925765.shtml\">银保监会：力争2020年普惠型小微企业贷款新增2万亿</a></li><li><a href=\"https://news.sina.com.cn/c/2019-12-20/doc-iihnzahi8925289.shtml\">候鸟咖啡迁徙至前门，在小楼邂逅满世界的咖啡香│福利</a></li><li><a href=\"https://news.sina.com.cn/c/2019-12-20/doc-iihnzhfz7265952.shtml\">甄子丹：叶问一直在打外国人，但绝对不存在抹黑</a></li><li><a href=\"https://news.sina.com.cn/c/2019-12-20/doc-iihnzhfz7264881.shtml\">央视快评：“一国两制”道路必将越走越宽广</a></li><li><a href=\"https://news.sina.com.cn/c/2019-12-20/doc-iihnzahi8924489.shtml\">未按约回购 爱康科技收监管函：制定方案时未能审慎论证</a></li><li><a href=\"https://news.sina.com.cn/c/2019-12-20/doc-iihnzhfz7264388.shtml\">有史以来最大规模《红楼梦》文化展在国博开幕</a></li><li><a href=\"https://news.sina.com.cn/c/xl/2019-12-20/doc-iihnzahi8939290.shtml\">澳门新特首：伟大祖国永远是澳门的坚强后盾</a></li><li><a href=\"https://news.sina.com.cn/c/2019-12-20/doc-iihnzahi8923094.shtml\">央行将着力帮企业减少汇率风险，更好促进投资贸易便利化</a></li><li><a href=\"https://news.sina.com.cn/c/2019-12-20/doc-iihnzahi8922436.shtml\">手绘故宫猫生活 彩铅手账《喵 我在故宫过日子》发布</a></li><li><a href=\"https://news.sina.com.cn/c/2019-12-20/doc-iihnzahi8921985.shtml\">ST椰岛第一大股东全部持股被轮候冻结</a></li><li><a href=\"https://news.sina.com.cn/c/2019-12-20/doc-iihnzhfz7262427.shtml\">“行水云课”平台构筑水利教育服务新模式</a></li><li><a href=\"https://news.sina.com.cn/c/2019-12-20/doc-iihnzhfz7265978.shtml\">用好“反面教材” 再筑“廉洁堤坝” ——包头市召开全市警示教育大会</a></li><li><a href=\"https://news.sina.com.cn/c/2019-12-20/doc-iihnzhfz7262403.shtml\">安徽9个贫困县拟“摘帽”</a></li><li><a href=\"https://news.sina.com.cn/c/2019-12-20/doc-iihnzhfz7262411.shtml\">蔚县9位老人“下岗再就业” 为脱贫他们干了点啥？</a></li><li><a href=\"https://news.sina.com.cn/c/2019-12-20/doc-iihnzhfz7262466.shtml\">北京北站：要不要去“农事试验场”逛一逛？</a></li><li><a href=\"https://news.sina.com.cn/c/2019-12-20/doc-iihnzhfz7261864.shtml\">张巧龙辞任 华润老将迟峰任蓝光发展总裁</a></li><li><a href=\"https://news.sina.com.cn/c/2019-12-20/doc-iihnzahi8919969.shtml\">国内首个保险金信托服务标准问世</a></li><li><a href=\"https://news.sina.com.cn/c/2019-12-20/doc-iihnzahi8920029.shtml\">“金街”升级│王府井北延今日开街上演“送福”奏鸣曲</a></li><li><a href=\"https://news.sina.com.cn/o/2019-12-20/doc-iihnzhfz7260240.shtml\">兴都库什地区发生7.0级左右地震 新疆喀什有震感</a></li><li><a href=\"https://news.sina.com.cn/c/2019-12-20/doc-iihnzhfz7260933.shtml\">京藏高速公路五环专用通道正式启用</a></li><li><a href=\"https://news.sina.com.cn/c/2019-12-20/doc-iihnzahi8919140.shtml\">交通部：今年新增ETC发行任务已完成</a></li><li><a href=\"https://news.sina.com.cn/c/2019-12-20/doc-iihnzhfz7260059.shtml\">张善政：参选2020是为了下架蔡英文 为台湾停损</a></li><li><a href=\"https://news.sina.com.cn/c/2019-12-20/doc-iihnzhfz7259457.shtml\">放纵配偶大肆敛财、与恶势力集团沆瀣一气的公安局副局长</a></li><li><a href=\"https://news.sina.com.cn/c/2019-12-20/doc-iihnzhfz7259194.shtml\">SNH48成员黄婷婷单方面宣布解约，公司称不知情</a></li><li><a href=\"https://news.sina.com.cn/c/2019-12-20/doc-iihnzahi8918092.shtml\">最大规模红楼梦文化展亮相国博 “宝玉”“熙凤”观展</a></li><li><a href=\"https://news.sina.com.cn/c/2019-12-20/doc-iihnzahi8917355.shtml\">日籍青训总监大平城放话：帮助北京足球追上日本</a></li><li><a href=\"https://news.sina.com.cn/c/2019-12-20/doc-iihnzhfz7258257.shtml\">苏泊尔、美的部分电水壶存安全隐患，将实施召回</a></li><li><a href=\"https://news.sina.com.cn/c/2019-12-20/doc-iihnzhfz7257615.shtml\">投资500万美元 吉林敖东加强与创新药物研发平台合作</a></li><li><a href=\"https://news.sina.com.cn/c/2019-12-20/doc-iihnzahi8916715.shtml\">辰欣药业拟回购不超过800万股用于股权激励</a></li><li><a href=\"https://news.sina.com.cn/c/2019-12-20/doc-iihnzahi8917062.shtml\">农村建房不能任性！省政府发文，元旦起实施</a></li><li><a href=\"https://news.sina.com.cn/o/2019-12-20/doc-iihnzhfz7257328.shtml\">公安局原局长被控涉嫌充当毒枭保护伞 多次受贿</a></li><li><a href=\"https://news.sina.com.cn/c/2019-12-20/doc-iihnzahi8915032.shtml\">4500万银行存款消失，河北银保监局：已成立调查组</a></li><li><a href=\"https://news.sina.com.cn/c/2019-12-20/doc-iihnzhfz7255191.shtml\">受杜鹃山景区停业影响，桂林旅游今年净利润将缩水94万</a></li><li><a href=\"https://news.sina.com.cn/c/2019-12-20/doc-iihnzhfz7256026.shtml\">我省法院公开宣判两起涉扶贫领域职务犯罪案件</a></li><li><a href=\"https://news.sina.com.cn/c/2019-12-20/doc-iihnzhfz7253743.shtml\">国际锐评：中国有能力推动“一国两制”实践取得更大成功</a></li><li><a href=\"https://news.sina.com.cn/c/2019-12-20/doc-iihnzahi8916838.shtml\">图解：2019年12月19日自治区政府常务会议</a></li><li><a href=\"https://news.sina.com.cn/o/2019-12-20/doc-iihnzhfz7253630.shtml\">我国科学家发布国内首个量子程序设计平台</a></li><li><a href=\"https://news.sina.com.cn/c/2019-12-20/doc-iihnzahi8912699.shtml\">李玉刚献礼澳门回归20周年，重新改编创作“七子之歌”</a></li><li><a href=\"https://news.sina.com.cn/c/2019-12-20/doc-iihnzahi8912148.shtml\">香港11月整体通胀率降至3% 连续3个月放缓</a></li><li><a href=\"https://news.sina.com.cn/c/2019-12-20/doc-iihnzahi8912523.shtml\">菠菜豆腐同吃会引发肾结石？谣言！</a></li><li><a href=\"https://news.sina.com.cn/c/2019-12-20/doc-iihnzahi8912522.shtml\">养生吃白果？别乱吃，可能会中毒</a></li><li><a href=\"https://news.sina.com.cn/c/2019-12-20/doc-iihnzhfz7252336.shtml\">好莱客两个募投项目延期1年，与建筑工程施工许可证有关</a></li><li><a href=\"https://news.sina.com.cn/c/2019-12-20/doc-iihnzhfz7251876.shtml\">中铝董事长：把国企人格化的缺失补齐 坚持以现金流为王</a></li><li><a href=\"https://news.sina.com.cn/c/2019-12-20/doc-iihnzhfz7251881.shtml\">顾家家居拟投资建设越南基地项目，总投资额为4.49亿</a></li><li><a href=\"https://news.sina.com.cn/c/xl/2019-12-20/doc-iihnzhfz7252374.shtml\">庆祝澳门回归祖国20周年大会隆重举行 习近平出席并发表重要讲话</a></li><li><a href=\"https://news.sina.com.cn/c/2019-12-20/doc-iihnzhfz7250524.shtml\">外交部进一步回应美国佛州警方逮捕中国女子情况</a></li><li><a href=\"https://news.sina.com.cn/o/2019-12-20/doc-iihnzahi8909446.shtml\">全国最长乙烷输送管道在准噶尔盆地正式投产运行</a></li><li><a href=\"https://news.sina.com.cn/c/2019-12-20/doc-iihnzahi8908926.shtml\">西藏人均期望寿命超70岁</a></li><li><a href=\"https://news.sina.com.cn/c/2019-12-20/doc-iihnzhfz7249731.shtml\">冯小刚新片《只有芸知道》上映 改编自挚友真实爱情经历</a></li><li><a href=\"https://news.sina.com.cn/c/2019-12-20/doc-iihnzhfz7249872.shtml\">康师傅控股超2亿美元增持康师傅饮品5%股份</a></li><li><a href=\"https://news.sina.com.cn/c/2019-12-20/doc-iihnzahi8908404.shtml\">芝加哥建筑双年展观察：建筑如何偿还环境“改善”生存？</a></li><li><a href=\"https://news.sina.com.cn/w/2019-12-20/doc-iihnzahi8909087.shtml\">在朝鲜劳工问题上的立场有没有变化？外交部回应</a></li><li><a href=\"https://news.sina.com.cn/c/2019-12-20/doc-iihnzahi8909894.shtml\">加方是不是有一种欲哭无泪的感觉</a></li><li><a href=\"https://news.sina.com.cn/c/2019-12-20/doc-iihnzhfz7249486.shtml\">一周活动 | 全球资本主义和区域政治及历史</a></li><li><a href=\"https://news.sina.com.cn/c/2019-12-20/doc-iihnzhfz7258696.shtml\">青海省海北州人大常委会原副主任游海洪被开除党籍和公职</a></li><li><a href=\"https://news.sina.com.cn/c/2019-12-20/doc-iihnzhfz7248703.shtml\">澳门特区举行成立20周年招待酒会 对伟大祖国真心感恩</a></li><li><a href=\"https://news.sina.com.cn/c/2019-12-20/doc-iihnzahi8907667.shtml\">中国酵素行业研究报告发布，专家呼吁标准化发展酵素产业</a></li><li><a href=\"https://news.sina.com.cn/c/2019-12-20/doc-iihnzahi8908377.shtml\">日本最大券商投资上海，中国首家新设外资控股合资券商揭牌</a></li><li><a href=\"https://news.sina.com.cn/c/xl/2019-12-20/doc-iihnzahi8907123.shtml\">习近平会见中央驻澳机构和主要中资机构负责人</a></li><li><a href=\"https://news.sina.com.cn/c/xl/2019-12-20/doc-iihnzhfz7249023.shtml\">习近平会见中央驻澳机构和主要中资机构负责人</a></li><li><a href=\"http://slide.news.sina.com.cn/c/slide_1_2841_421728.html\">繁忙的日程——习主席视察澳门第二天</a></li><li><a href=\"https://news.sina.com.cn/c/2019-12-20/doc-iihnzahi8906679.shtml\">证监会修改《非上市公众公司信息披露管理办法》</a></li><li><a href=\"https://news.sina.com.cn/c/2019-12-20/doc-iihnzhfz7247209.shtml\">上海浦江游览年游客数量首破500万人次——一江春水带来什么新启示？</a></li><li><a href=\"https://news.sina.com.cn/c/2019-12-20/doc-iihnzhfz7247053.shtml\">中关村发展集团2019年度全面从严治党工作检查考核顺利完成</a></li><li><a href=\"https://news.sina.com.cn/o/2019-12-20/doc-iihnzahi8905670.shtml\">1万亿提前下达的专项债发行将开闸，四川省明年1月2日首发</a></li><li><a href=\"https://news.sina.com.cn/c/2019-12-20/doc-iihnzahi8905302.shtml\">12月20日外交部例行记者会(全文)</a></li><li><a href=\"https://news.sina.com.cn/c/xl/2019-12-20/doc-iihnzhfz7245969.shtml\">习近平会见澳门特别行政区新任行政立法司法机关负责人</a></li><li><a href=\"https://news.sina.com.cn/c/xl/2019-12-20/doc-iihnzhfz7246581.shtml\">习近平会见澳门特别行政区新任行政立法司法机关负责人</a></li><li><a href=\"https://news.sina.com.cn/c/2019-12-20/doc-iihnzahi8903953.shtml\">2020中国经济趋势如何？这些企稳信号不容错过</a></li><li><a href=\"https://news.sina.com.cn/c/2019-12-20/doc-iihnzahi8905264.shtml\">香港80余名教师被捕 港府再发警告</a></li><li><a href=\"https://news.sina.com.cn/c/2019-12-20/doc-iihnzhfz7245142.shtml\">黄焕霖辞任齐合环保CFO</a></li><li><a href=\"https://news.sina.com.cn/c/xl/2019-12-20/doc-iihnzhfz7242221.shtml\">葡萄牙领导人祝贺澳门回归祖国20周年</a></li><li><a href=\"https://news.sina.com.cn/c/2019-12-20/doc-iihnzahi8906413.shtml\">高兴夫副省长赴钱塘新区调研医药港小镇</a></li><li><a href=\"https://news.sina.com.cn/c/2019-12-20/doc-iihnzhfz7247291.shtml\">高兴夫副省长调研杭绍台高速公路建设</a></li><li><a href=\"https://news.sina.com.cn/c/xl/2019-12-20/doc-iihnzahi8902778.shtml\">圆满结束在澳门的各项活动 习近平离开澳门返回北京</a></li><li><a href=\"https://news.sina.com.cn/c/2019-12-20/doc-iihnzhfz7241998.shtml\">京赣合作近3年 京企在赣实际投资额达2800亿元</a></li><li><a href=\"https://news.sina.com.cn/c/2019-12-20/doc-iihnzhfz7242003.shtml\">因漏油，华晨宝马扩大召回超31万辆3系车</a></li><li><a href=\"https://news.sina.com.cn/c/2019-12-20/doc-iihnzhfz7241524.shtml\">摩登日记｜黑色皮夹克，朋克青年和“机车族”的标志</a></li><li><a href=\"https://news.sina.com.cn/c/xl/2019-12-20/doc-iihnzhfz7243292.shtml\">圆满结束在澳门的各项活动 习近平离开澳门返回北京</a></li><li><a href=\"https://news.sina.com.cn/c/2019-12-20/doc-iihnzahi8900309.shtml\">朱从玖副省长一行赴丽水市开展信访接访等活动</a></li><li><a href=\"https://news.sina.com.cn/c/2019-12-20/doc-iihnzhfz7239918.shtml\">因侧安全气囊问题，阿斯顿马丁召回8辆汽车</a></li><li><a href=\"https://news.sina.com.cn/c/2019-12-20/doc-iihnzahi8898891.shtml\">丰田汽车召回1380辆埃尔法双擎及威尔法双擎汽车</a></li><li><a href=\"https://news.sina.com.cn/c/2019-12-20/doc-iihnzahi8898501.shtml\">“原创歌手”北野武将首次登上日本“春晚”红白歌会</a></li><li><a href=\"https://news.sina.com.cn/c/2019-12-20/doc-iihnzhfz7238949.shtml\">新疆建立“四级三类”国土空间规划体系并先行试点</a></li><li><a href=\"https://news.sina.com.cn/c/2019-12-20/doc-iihnzahi8898508.shtml\">好“演员”，到哪里都能发光丨夜问</a></li><li><a href=\"https://news.sina.com.cn/c/2019-12-20/doc-iihnzahi8897179.shtml\">山西学校食堂“明厨亮灶”建成率达93.6%</a></li><li><a href=\"https://news.sina.com.cn/c/2019-12-20/doc-iihnzhfz7238916.shtml\">北京全年举办28项国际大赛，注册裁判5706人</a></li><li><a href=\"https://news.sina.com.cn/c/2019-12-20/doc-iihnzahi8898073.shtml\">康弘药业副总裁殷劲群拟减持不超过14.18万股</a></li><li><a href=\"https://news.sina.com.cn/c/2019-12-20/doc-iihnzhfz7238900.shtml\">贝利尤单抗治疗狼疮性肾炎III期临床效果明显</a></li><li><a href=\"https://news.sina.com.cn/c/2019-12-20/doc-iihnzahi8898076.shtml\">丙肝领域迎重磅产品 “吉四代”沃士韦获批</a></li><li><a href=\"https://news.sina.com.cn/c/xl/2019-12-20/doc-iihnzahi8898614.shtml\">习近平视察驻澳门部队</a></li><li><a href=\"https://news.sina.com.cn/c/2019-12-20/doc-iihnzhfz7238679.shtml\">香港教育局长:一公立学校教师涉用不当教材被停职</a></li><li><a href=\"https://news.sina.com.cn/c/xl/2019-12-20/doc-iihnzhfz7235369.shtml\">习近平会见贺一诚</a></li><li><a href=\"https://news.sina.com.cn/c/2019-12-20/doc-iihnzhfz7234101.shtml\">盛运环保被法院列为失信被执行人</a></li><li><a href=\"https://news.sina.com.cn/o/2019-12-20/doc-iihnzahi8893478.shtml\">最高检：三名厅官被公诉 两名被逮捕</a></li><li><a href=\"https://news.sina.com.cn/c/2019-12-20/doc-iihnzahi8894251.shtml\">四川退役军人就业创业公共信息平台上线试运行</a></li><li><a href=\"https://news.sina.com.cn/c/2019-12-20/doc-iihnzahi8894329.shtml\">北京预计21日晚轻度污染 22日午后改善</a></li><li><a href=\"https://news.sina.com.cn/o/2019-12-20/doc-iihnzhfz7234852.shtml\">非法无线电致多地民航近地警告系统告警 官方查处</a></li><li><a href=\"https://news.sina.com.cn/c/xl/2019-12-20/doc-iihnzahi8892790.shtml\">习近平视察解放军驻澳门部队</a></li><li><a href=\"https://news.sina.com.cn/c/2019-12-20/doc-iihnzahi8892619.shtml\">北京潘家园市场引入拍卖，聚焦高频次、小规模“生活拍”</a></li><li><a href=\"https://news.sina.com.cn/c/2019-12-20/doc-iihnzahi8892190.shtml\">当下流行的缤纷果酒，其实古已有之</a></li><li><a href=\"https://news.sina.com.cn/c/xl/2019-12-20/doc-iihnzahi8893173.shtml\">庆祝澳门回归20周年大会隆重举行 习近平出席并发表重要讲话</a></li><li><a href=\"https://news.sina.com.cn/c/2019-12-20/doc-iihnzhfz7232398.shtml\">国家卫健委发文，要求增加老年护理医疗机构和床位数量</a></li><li><a href=\"https://news.sina.com.cn/c/2019-12-20/doc-iihnzahi8890842.shtml\">外汇局：11月个人净购汇同比下降16%</a></li><li><a href=\"https://news.sina.com.cn/c/2019-12-20/doc-iihnzhfz7231743.shtml\">广西来宾市人大常委会原党组成员、副主任、忻城县原县委书记谢大研严重违纪违法被开除党籍和公职</a></li><li><a href=\"https://news.sina.com.cn/c/2019-12-20/doc-iihnzhfz7231129.shtml\">银川法院：宝塔石化集团即将进入破产程序</a></li><li><a href=\"https://news.sina.com.cn/c/2019-12-20/doc-iihnzhfz7239797.shtml\">广西来宾市人大常委会原党组成员、副主任、忻城县原县委书记谢大研严重违纪违法被开除党籍和公职</a></li><li><a href=\"https://news.sina.com.cn/c/2019-12-20/doc-iihnzahi8894830.shtml\">广西来宾市人大常委会原副主任谢大研被双开</a></li><li><a href=\"https://news.sina.com.cn/c/2019-12-20/doc-iihnzhfz7229938.shtml\">大众汽车公布2020年新车规划，预计推出34款新车</a></li><li><a href=\"https://news.sina.com.cn/c/2019-12-20/doc-iihnzhfz7229987.shtml\">丹青绘英魂 瀚墨明初心“丰碑永铸·颂英烈”书画展开幕</a></li><li><a href=\"https://news.sina.com.cn/c/2019-12-20/doc-iihnzahi8888876.shtml\">萧亚轩出道20年新歌上线，节奏蓝调风收10万张销量</a></li><li><a href=\"https://news.sina.com.cn/c/2019-12-20/doc-iihnzahi8888846.shtml\">陈梓童首张专辑发布，合作“黄老板”御用混音师</a></li><li><a href=\"https://news.sina.com.cn/c/2019-12-20/doc-iihnzahi8888851.shtml\">横店免费开放摄影棚？不包括古装，只管电影及现当代科幻</a></li><li><a href=\"https://news.sina.com.cn/c/2019-12-20/doc-iihnzhfz7228609.shtml\">26家中国汽车交通企业入选全球独角兽500强</a></li><li><a href=\"https://news.sina.com.cn/c/2019-12-20/doc-iihnzhfz7228646.shtml\">职工创新成果亮相创博会 朝阳工会打造“朝阳工匠”</a></li><li><a href=\"https://news.sina.com.cn/c/2019-12-20/doc-iihnzhfz7228618.shtml\">易烊千玺为新专辑划分色调，《温差感》捕捉少年情绪线索</a></li><li><a href=\"https://news.sina.com.cn/c/2019-12-20/doc-iihnzhfz7238013.shtml\">App变现受阻 刚转型半年的小盒科技被曝裁员四成</a></li><li><a href=\"https://news.sina.com.cn/c/2019-12-20/doc-iihnzhfz7228935.shtml\">中国公民在瑞典被盗被抢多发破案率低 外交部提醒</a></li><li><a href=\"https://news.sina.com.cn/c/2019-12-20/doc-iihnzhfz7227439.shtml\">一汽红旗2019年产量突破10万辆，同比增长199%</a></li><li><a href=\"https://news.sina.com.cn/c/2019-12-20/doc-iihnzahi8886978.shtml\">为上京牌避限购，货车乔装变身小客车</a></li><li><a href=\"https://news.sina.com.cn/c/2019-12-20/doc-iihnzahi8885966.shtml\">山西五企业入选省级大中小企业融通型双创特色载体</a></li><li><a href=\"https://news.sina.com.cn/c/2019-12-20/doc-iihnzahi8885974.shtml\">农业保险助推贵州农村“产业革命”</a></li><li><a href=\"https://news.sina.com.cn/c/2019-12-20/doc-iihnzhfz7226465.shtml\">北京地铁燕房线实现最高等级全自动运行</a></li><li><a href=\"https://news.sina.com.cn/c/2019-12-20/doc-iihnzhfz7226157.shtml\">中国结算修订《结算备付金管理办法》</a></li><li><a href=\"https://news.sina.com.cn/c/2019-12-20/doc-iihnzhfz7226103.shtml\">ST围海人事大变动 全体董事、部分高管及监事辞职</a></li><li><a href=\"https://news.sina.com.cn/c/2019-12-20/doc-iihnzhfz7226726.shtml\">三明市纪委监委公布第三批专项整治漠视侵害群众利益问题工作成果</a></li><li><a href=\"https://news.sina.com.cn/c/2019-12-20/doc-iihnzhfz7226128.shtml\">证监会修改《非上市公众公司监督管理办法》</a></li><li><a href=\"https://news.sina.com.cn/c/2019-12-20/doc-iihnzhfz7226727.shtml\">三明：县级“一把手”挂帅落实巡察工作主体责任</a></li><li><a href=\"https://news.sina.com.cn/c/2019-12-20/doc-iihnzahi8884888.shtml\">索物无果辱骂扶贫干部：扶贫不能养懒养“闹”</a></li><li><a href=\"https://news.sina.com.cn/c/2019-12-20/doc-iihnzahi8884046.shtml\">山东省欧亚班列年开行量达到1000列</a></li><li><a href=\"https://news.sina.com.cn/c/2019-12-20/doc-iihnzhfz7272662.shtml\">人民日报：推广ETC 别以“便捷”的名义添堵</a></li><li><a href=\"https://news.sina.com.cn/c/2019-12-20/doc-iihnzhfz7224655.shtml\">明年3月厦航转场大兴机场，将推多次往返套票</a></li><li><a href=\"https://news.sina.com.cn/c/2019-12-20/doc-iihnzahi8886436.shtml\">特鲁多向特朗普提出这种要求 中方不得不回应</a></li><li><a href=\"https://news.sina.com.cn/c/2019-12-20/doc-iihnzhfz7227247.shtml\">香港中文大学校长被西方颁了一个奖 理由极为荒唐</a></li><li><a href=\"https://news.sina.com.cn/c/2019-12-20/doc-iihnzahi8886844.shtml\">俄战斗机工程师沸腾了 中国网购“救”了米格-31</a></li><li><a href=\"https://news.sina.com.cn/c/2019-12-20/doc-iihnzahi8886885.shtml\">浙江省政府与民主党派工商联无党派人士就民营经济高质量发展开展专题协商\\u3000袁家军参加</a></li><li><a href=\"https://news.sina.com.cn/c/2019-12-20/doc-iihnzahi8882348.shtml\">云南迪庆州委副书记许洋接受纪律审查和监察调查</a></li><li><a href=\"https://news.sina.com.cn/c/2019-12-20/doc-iihnzhfz7223409.shtml\">江西检察机关依法对曹永琳涉嫌受贿案提起公诉</a></li><li><a href=\"https://news.sina.com.cn/c/2019-12-20/doc-iihnzahi8883009.shtml\">湖北检察机关依法对杜云生涉嫌受贿案提起公诉</a></li><li><a href=\"https://news.sina.com.cn/c/2019-12-20/doc-iihnzhfz7222551.shtml\">农民马瑞峰的“花儿”梦</a></li><li><a href=\"https://news.sina.com.cn/c/2019-12-20/doc-iihnzahi8882902.shtml\">吉林迎首场大面积雾凇奇观 似梦幻仙境(图)</a></li><li><a href=\"https://news.sina.com.cn/c/2019-12-20/doc-iihnzhfz7222116.shtml\">沈阳开启120余项“冰雪奇游”特色活动</a></li><li><a href=\"https://news.sina.com.cn/c/2019-12-20/doc-iihnzahi8881920.shtml\">北京市慈善协会、基金会五年募捐超5亿元，惠及64万人</a></li><li><a href=\"https://news.sina.com.cn/c/2019-12-20/doc-iihnzahi8883033.shtml\">\"百亿补贴\"力推5亿用户新消费,拼多多携30万优质商家启动年货节</a></li><li><a href=\"https://news.sina.com.cn/c/2019-12-20/doc-iihnzhfz7223604.shtml\">云南省迪庆州委副书记许洋接受纪律审查和监察调查</a></li><li><a href=\"https://news.sina.com.cn/c/2019-12-20/doc-iihnzahi8895679.shtml\">云南省迪庆州委副书记许洋接受纪律审查和监察调查</a></li><li><a href=\"https://news.sina.com.cn/o/2019-12-20/doc-iihnzahi8881151.shtml\">浙江衢州出台婚丧事宜操办标准 官方：并非强制</a></li><li><a href=\"https://news.sina.com.cn/c/2019-12-20/doc-iihnzahi8879011.shtml\">古田会议决议：思想建党政治建军的不朽文献</a></li><li><a href=\"https://news.sina.com.cn/c/2019-12-20/doc-iihnzahi8879084.shtml\">外交部：中国与法、德、英就伊核问题举行磋商</a></li><li><a href=\"https://news.sina.com.cn/c/2019-12-20/doc-iihnzahi8887072.shtml\">高利放贷团伙犯罪案审理 16名被告人涉9项罪名</a></li><li><a href=\"https://news.sina.com.cn/c/2019-12-20/doc-iihnzahi8879086.shtml\">中汽中心发布2019车企绿色发展指数，华晨宝马夺冠</a></li><li><a href=\"https://news.sina.com.cn/c/2019-12-19/doc-iihnzahi8722125.shtml\">《自然》公布2019年十大杰出论文 复旦、中科院上榜</a></li><li><a href=\"https://news.sina.com.cn/c/xl/2019-12-20/doc-iihnzhfz7063789.shtml\">香港各界高度评价习近平在澳门重要讲话</a></li><li><a href=\"https://news.sina.com.cn/c/2019-12-20/doc-iihnzhfz7062861.shtml\">沈跃跃：关爱贫困妇女儿童 坚决打赢脱贫攻坚战</a></li><li><a href=\"https://news.sina.com.cn/c/2019-12-20/doc-iihnzhfz7062754.shtml\">澳门：中国连接葡语国家的独特纽带</a></li><li><a href=\"https://news.sina.com.cn/c/2019-12-20/doc-iihnzhfz7066388.shtml\">深圳二手房业主“抱团”抬价 官方紧急出手</a></li><li><a href=\"https://news.sina.com.cn/c/2019-12-19/doc-iihnzahi8721520.shtml\">普京表态：不打算与中国建立军事同盟</a></li><li><a href=\"https://news.sina.com.cn/c/xl/2019-12-19/doc-iihnzahi8720755.shtml\">彭丽媛参观澳门旅游学院</a></li><li><a href=\"https://news.sina.com.cn/c/2019-12-20/doc-iihnzahi8726415.shtml\">外国留学生：因为中国 我们的未来更美好</a></li><li><a href=\"https://news.sina.com.cn/c/xl/2019-12-20/doc-iihnzahi8718761.shtml\">习近平亲莅观摩教学 澳门师生反响热烈</a></li><li><a href=\"https://news.sina.com.cn/c/2019-12-19/doc-iihnzahi8717176.shtml\">侠客岛：澳门的逆袭史 比电影还精彩</a></li><li><a href=\"https://news.sina.com.cn/c/2019-12-19/doc-iihnzhfz7057953.shtml\">孙悦27分再创新高，老马称不能再要求他更多</a></li><li><a href=\"https://news.sina.com.cn/c/2019-12-20/doc-iihnzahi8715392.shtml\">从莱特希泽到CNN 对华评价的变化耐人寻味</a></li><li><a href=\"https://news.sina.com.cn/c/2019-12-19/doc-iihnzahi8714924.shtml\">大众召回部分国产途观、迈腾、CC及进口途威、夏朗</a></li><li><a href=\"https://news.sina.com.cn/c/2019-12-19/doc-iihnzahi8714473.shtml\">副外长罗照辉同美国务院对朝政策特别代表磋商</a></li><li><a href=\"https://news.sina.com.cn/c/2019-12-19/doc-iihnzhfz7055788.shtml\">或存机油渗漏，东风悦达起亚召回3343辆智跑汽车</a></li><li><a href=\"https://news.sina.com.cn/c/2019-12-19/doc-iihnzhfz7055403.shtml\">北京：今年1-11月PM2.5累计浓度42微克/立方米</a></li><li><a href=\"https://news.sina.com.cn/c/2019-12-19/doc-iihnzahi8716635.shtml\">交通运输部：全国ETC客户达1.92亿 超额完成目标</a></li><li><a href=\"https://news.sina.com.cn/c/xl/2019-12-19/doc-iihnzahi8713787.shtml\">习近平在澳门特别行政区政府欢迎晚宴上的致辞(全文)</a></li><li><a href=\"https://news.sina.com.cn/c/2019-12-19/doc-iihnzhfz7055067.shtml\">新希望15.1亿首摘佛山顺德商住地 溢价率超33%</a></li><li><a href=\"https://news.sina.com.cn/o/2019-12-19/doc-iihnzahi8713091.shtml\">三星堆将被建设为国家文化保护利用示范区</a></li><li><a href=\"https://news.sina.com.cn/c/xl/2019-12-19/doc-iihnzahi8714981.shtml\">庆祝澳门回归祖国20周年晚会 习近平同全场一起高唱《歌唱祖国》</a></li><li><a href=\"https://news.sina.com.cn/c/2019-12-19/doc-iihnzhfz7056811.shtml\">江苏苏宁2020主场套票销售火热 销售量同比增长超20%</a></li><li><a href=\"https://news.sina.com.cn/c/2019-12-19/doc-iihnzhfz7053270.shtml\">夜读│12月19日，这些消费新闻别错过</a></li><li><a href=\"https://news.sina.com.cn/c/2019-12-20/doc-iihnzhfz7055945.shtml\">港媒：暴力活动现场持斧头 男子被判12个月监禁</a></li><li><a href=\"https://news.sina.com.cn/c/2019-12-19/doc-iihnzahi8715492.shtml\">【E路同行 智惠江苏】挥舞5G“魔法棒” 江苏交通运输结出丰硕“智慧果”</a></li><li><a href=\"https://news.sina.com.cn/c/2019-12-19/doc-iihnzhfz7052538.shtml\">车辆或无法正确换挡，宝马召回790辆进口摩托车</a></li><li><a href=\"https://news.sina.com.cn/c/2019-12-19/doc-iihnzahi8711296.shtml\">中国铁建拟分拆子公司铁建重工至科创板上市</a></li><li><a href=\"https://news.sina.com.cn/c/2019-12-19/doc-iihnzhfz7051968.shtml\">福特汽车召回约2.5万辆进口探险者、F-150汽车</a></li><li><a href=\"https://news.sina.com.cn/c/2019-12-19/doc-iihnzhfz7051523.shtml\">20人团伙开豪车专门碰瓷酒驾司机，北京警方赴多地抓获</a></li><li><a href=\"https://news.sina.com.cn/c/2019-12-19/doc-iihnzhfz7051508.shtml\">北控防守端失控，冲击队史最长连胜再失利</a></li><li><a href=\"https://news.sina.com.cn/c/2019-12-19/doc-iihnzhfz7050970.shtml\">北京公布一批食品抽检结果，不合格样品中食用农产品较多</a></li><li><a href=\"https://news.sina.com.cn/c/2019-12-20/doc-iihnzhfz7070933.shtml\">锦州银行原董事长张伟离世 曾欲外逃在机场被拦截</a></li><li><a href=\"https://news.sina.com.cn/c/2019-12-19/doc-iihnzhfz7050117.shtml\">北京地铁二期建设规划时隔4年调整 看点有这些</a></li><li><a href=\"https://news.sina.com.cn/c/2019-12-19/doc-iihnzhfz7050147.shtml\">或存硬件偏差，部分进口高尔夫、甲壳虫等车型被召回</a></li><li><a href=\"https://news.sina.com.cn/c/2019-12-19/doc-iihnzhfz7050116.shtml\">高速收费核定听证会，这几点须关注</a></li><li><a href=\"https://news.sina.com.cn/c/2019-12-19/doc-iihnzahi8707628.shtml\">人民日报社论：续写“一国两制”成功实践新篇章</a></li><li><a href=\"https://news.sina.com.cn/c/2019-12-19/doc-iihnzahi8707820.shtml\">“金街”升级丨王府井商会会长刘冰：步行街的沉浸感更好</a></li><li><a href=\"https://news.sina.com.cn/c/2019-12-19/doc-iihnzahi8709683.shtml\">澳门人足年丰有余庆 央视主播这样说</a></li><li><a href=\"https://news.sina.com.cn/c/2019-12-19/doc-iihnzahi8707184.shtml\">新型智库治理暨思想理论传播高峰论坛举行，研究问题要“顶天立地”</a></li><li><a href=\"https://news.sina.com.cn/c/2019-12-19/doc-iihnzhfz7048334.shtml\">传世唐琴大圣遗音故宫亮相 讲述从“破琴”到国宝的逆袭</a></li><li><a href=\"https://news.sina.com.cn/o/2019-12-19/doc-iihnzahi8709389.shtml\">香港土瓜湾海面现双脚绑哑铃男尸 港警称可疑</a></li><li><a href=\"https://news.sina.com.cn/c/2019-12-19/doc-iihnzhfz7047511.shtml\">“金街”升级丨百货大楼焕新，老北京回来“咂摸滋味”</a></li><li><a href=\"https://news.sina.com.cn/c/2019-12-19/doc-iihnzhfz7047513.shtml\">故宫五朝古琴亮相钟粹宫 唐名琴“大圣遗音”领衔</a></li><li><a href=\"https://news.sina.com.cn/c/2019-12-19/doc-iihnzahi8705078.shtml\">湘西2名处级干部因醉驾被“双开”</a></li><li><a href=\"https://news.sina.com.cn/c/2019-12-19/doc-iihnzahi8704973.shtml\">理想汽车：实现理想有点难</a></li><li><a href=\"https://news.sina.com.cn/o/2019-12-19/doc-iihnzhfz7046987.shtml\">国家卫健委：提高集中采购中选药品合理使用水平</a></li><li><a href=\"https://news.sina.com.cn/c/2019-12-19/doc-iihnzahi8704314.shtml\">宝能系减持万科5%股权 持股比例降至4.99%</a></li><li><a href=\"https://news.sina.com.cn/c/2019-12-19/doc-iihnzhfz7048525.shtml\">美媒镜头下的中华一绝 海外网友在线喊：买它</a></li><li><a href=\"https://news.sina.com.cn/c/2019-12-19/doc-iihnzahi8707214.shtml\">散播仇华言论遭起诉 这些外国网民认罪了</a></li><li><a href=\"https://news.sina.com.cn/o/2019-12-19/doc-iihnzahi8703711.shtml\">三亚原副市长王铁明涉受贿被诉:多次被批封建迷信</a></li><li><a href=\"https://news.sina.com.cn/c/2019-12-19/doc-iihnzahi8702280.shtml\">天行者生生死死，唯有机器人永恒丨夜问</a></li><li><a href=\"https://news.sina.com.cn/c/2019-12-19/doc-iihnzahi8702251.shtml\">招商蛇口1458.16亿资产重组获董事会通过</a></li><li><a href=\"https://news.sina.com.cn/c/2019-12-19/doc-iihnzhfz7043187.shtml\">第25轮中欧投资协定谈判举行 取得积极进展</a></li><li><a href=\"https://news.sina.com.cn/c/xl/2019-12-19/doc-iihnzahi8702900.shtml\">习近平出席澳门特别行政区政府欢迎晚宴并发表重要讲话</a></li><li><a href=\"https://news.sina.com.cn/c/2019-12-19/doc-iihnzhfz7043474.shtml\">广东多地购房政策宽松 搅动楼市一池春水</a></li><li><a href=\"https://news.sina.com.cn/c/2019-12-19/doc-iihnzahi8701755.shtml\">中国公务航空集团发布行业十大事件</a></li><li><a href=\"https://news.sina.com.cn/c/xl/2019-12-19/doc-iihnzahi8700356.shtml\">习近平：从你们的声音里 我感受到了澳门的繁荣发展</a></li><li><a href=\"https://news.sina.com.cn/c/2019-12-19/doc-iihnzahi8700290.shtml\">安踏集团在上海打造全球零售总部，推进国际化布局</a></li><li><a href=\"https://news.sina.com.cn/c/2019-12-19/doc-iihnzahi8699693.shtml\">美国常春藤高校本科早申请放榜 中国大陆中学录取量下降</a></li><li><a href=\"https://news.sina.com.cn/c/2019-12-19/doc-iihnzhfz7041076.shtml\">电子科技大学将与深圳市政府共建高等研究院</a></li><li><a href=\"https://news.sina.com.cn/c/2019-12-19/doc-iihnzahi8700733.shtml\">全国检察机关网上信访信息系统2.0版上线运行</a></li><li><a href=\"https://news.sina.com.cn/c/2019-12-19/doc-iihnzhfz7040437.shtml\">香港警方捣毁洗黑钱集团：多数款项投资理财</a></li><li><a href=\"https://news.sina.com.cn/c/2019-12-19/doc-iihnzahi8698612.shtml\">金控基金入手838万股众生药业 战略合作正式开始</a></li><li><a href=\"https://news.sina.com.cn/c/2019-12-19/doc-iihnzhfz7040055.shtml\">冠昊生物子公司开展本维莫德治疗儿童湿疹临床研究</a></li><li><a href=\"https://news.sina.com.cn/c/2019-12-19/doc-iihnzhfz7039904.shtml\">富力地产增发2.73亿新股 用于偿还离岸债务</a></li><li><a href=\"https://news.sina.com.cn/c/2019-12-19/doc-iihnzahi8698450.shtml\">多运动不长个？谣言！丨每日健康问答</a></li><li><a href=\"https://news.sina.com.cn/c/2019-12-20/doc-iihnzahi8728010.shtml\">财富超越王健林刘强东 河南新首富只用了一招</a></li><li><a href=\"https://news.sina.com.cn/c/2019-12-19/doc-iihnzhfz7042358.shtml\">袁家军在省级有关部门调研\\u3000以“绣花功夫”优化经济治理方式</a></li><li><a href=\"https://news.sina.com.cn/c/2019-12-19/doc-iihnzahi8700843.shtml\">袁家军：把数字化转型先发优势转化为强大治理效能</a></li><li><a href=\"https://news.sina.com.cn/c/2019-12-19/doc-iihnzhfz7037807.shtml\">澳门回归20年：融合发展促进持续繁荣</a></li><li><a href=\"https://news.sina.com.cn/c/2019-12-19/doc-iihnzhfz7037551.shtml\">国际锐评：澳门经济适度多元发展不断拓宽新空间</a></li><li><a href=\"https://news.sina.com.cn/c/2019-12-19/doc-iihnzhfz7043844.shtml\">香港17岁少年发声 港媒：这才是年轻人该有的样子</a></li><li><a href=\"https://news.sina.com.cn/c/2019-12-19/doc-iihnzahi8695750.shtml\">酒店成控烟新“盲区”？控烟协会建议对吸烟者加收清洁费</a></li><li><a href=\"https://news.sina.com.cn/c/2019-12-19/doc-iihnzahi8695897.shtml\">政治生态被“老虎”严重损害的城市 再落一厅官</a></li><li><a href=\"https://news.sina.com.cn/c/xl/2019-12-19/doc-iihnzahi8694478.shtml\">习近平会见林郑月娥：中央完全支持特区政府下一步工作设想</a></li><li><a href=\"https://news.sina.com.cn/c/2019-12-19/doc-iihnzahi8692708.shtml\">紫鑫药业工业大麻项目落地黑龙江 建设全产业链发展模式</a></li><li><a href=\"https://news.sina.com.cn/c/2019-12-19/doc-iihnzhfz7034397.shtml\">看《星战9》和天行者说再见前，先看一下八大彩蛋</a></li><li><a href=\"https://news.sina.com.cn/c/xl/2019-12-19/doc-iihnzhfz7034261.shtml\">习近平会见澳门社会各界代表人士</a></li><li><a href=\"https://news.sina.com.cn/c/xl/2019-12-19/doc-iihnzahi8691786.shtml\">彭丽媛参观澳门旅游学院</a></li><li><a href=\"https://news.sina.com.cn/c/xl/2019-12-19/doc-iihnzahi8718866.shtml\">习近平出席澳门特别行政区政府欢迎晚宴并发表重要讲话</a></li><li><a href=\"https://news.sina.com.cn/c/xl/2019-12-19/doc-iihnzhfz7032645.shtml\">习近平会见全国政协副主席何厚铧</a></li><li><a href=\"https://news.sina.com.cn/c/2019-12-19/doc-iihnzahi8690540.shtml\">青海省玉树州高原特色农畜产品走进北京</a></li><li><a href=\"https://news.sina.com.cn/c/2019-12-19/doc-iihnzahi8690213.shtml\">黑龙江集成“冰天雪地”资源打造“冬味”旅游盛宴</a></li><li><a href=\"https://news.sina.com.cn/c/2019-12-19/doc-iihnzhfz7032093.shtml\">上海市长应勇为他们颁发“市长奖” 最小11岁</a></li><li><a href=\"https://news.sina.com.cn/c/2019-12-19/doc-iihnzhfz7032050.shtml\">调任上海后，蒋卓庆补选为市人大代表</a></li><li><a href=\"https://news.sina.com.cn/c/2019-12-19/doc-iihnzahi8690539.shtml\">再有“全国优秀县委书记” 拟升正厅</a></li><li><a href=\"https://news.sina.com.cn/c/2019-12-19/doc-iihnzhfz7032034.shtml\">陕西查处涉黑涉恶腐败及“保护伞”3967人</a></li><li><a href=\"https://news.sina.com.cn/c/2019-12-19/doc-iihnzhfz7031885.shtml\">33岁任市长的他，率队援疆</a></li><li><a href=\"https://news.sina.com.cn/c/xl/2019-12-19/doc-iihnzhfz7060664.shtml\">习近平会见澳门社会各界代表人士</a></li><li><a href=\"https://news.sina.com.cn/c/2019-12-19/doc-iihnzhfz7030821.shtml\">流感季来袭 专家提醒儿童应及早预防</a></li><li><a href=\"https://news.sina.com.cn/c/xl/2019-12-19/doc-iihnzahi8719406.shtml\">习近平会见澳门特别行政区纪律部队代表</a></li><li><a href=\"https://news.sina.com.cn/c/2019-12-19/doc-iihnzhfz7031572.shtml\">韩正：确保全面建成小康社会和“十三五”规划圆满收官</a></li><li><a href=\"https://news.sina.com.cn/c/xl/2019-12-19/doc-iihnzhfz7030867.shtml\">庆祝澳门回归祖国20周年文艺晚会举行 习近平观看演出</a></li><li><a href=\"https://news.sina.com.cn/c/xl/2019-12-19/doc-iihnzhfz7060506.shtml\">习近平会见澳门特别行政区行政立法司法机关负责人</a></li><li><a href=\"https://news.sina.com.cn/c/2019-12-19/doc-iihnzhfz7029588.shtml\">城市副中心2020年烟花禁放限放区公布</a></li><li><a href=\"https://news.sina.com.cn/c/xl/2019-12-19/doc-iihnzhfz7028901.shtml\">习近平会见澳门特别行政区纪律部队代表</a></li><li><a href=\"https://news.sina.com.cn/c/xl/2019-12-19/doc-iihnzahi8687318.shtml\">习近平会见澳门特别行政区行政立法司法机关负责人</a></li><li><a href=\"https://news.sina.com.cn/c/xl/2019-12-19/doc-iihnzahi8687075.shtml\">习近平会见林郑月娥</a></li><li><a href=\"https://news.sina.com.cn/c/2019-12-19/doc-iihnzahi8687199.shtml\">五粮液30万吨陶坛陈酿酒库一期工程明年一季度投运</a></li><li><a href=\"https://news.sina.com.cn/c/xl/2019-12-19/doc-iihnzhfz7028109.shtml\">习近平会见全国政协副主席何厚铧</a></li><li><a href=\"https://news.sina.com.cn/c/2019-12-19/doc-iihnzahi8687228.shtml\">燕房线今起全自动运行 列车全程无人操作</a></li><li><a href=\"https://news.sina.com.cn/c/2019-12-19/doc-iihnzhfz7030680.shtml\">国防科大校长已调整 中央候补委员邓小刚卸任</a></li><li><a href=\"https://news.sina.com.cn/c/2019-12-19/doc-iihnzhfz7030678.shtml\">浙江团省委书记率队援疆 为同批任命最年轻一把手</a></li><li><a href=\"https://news.sina.com.cn/c/2019-12-19/doc-iihnzahi8689075.shtml\">厅局级15人县处级151人 陕西查处涉案人员3967人</a></li><li><a href=\"https://news.sina.com.cn/c/2019-12-19/doc-iihnzhfz7028815.shtml\">建信信托回应90万元罚单：已基本完成整改</a></li><li><a href=\"https://news.sina.com.cn/c/2019-12-19/doc-iihnzhfz7028315.shtml\">德国科隆足球俱乐部成员诋毁中国 外交部反驳</a></li><li><a href=\"https://news.sina.com.cn/c/2019-12-19/doc-iihnzhfz7027719.shtml\">三全食品预计全年净利至少增八成</a></li><li><a href=\"https://news.sina.com.cn/c/xl/2019-12-19/doc-iihnzahi8719197.shtml\">习近平考察中国与葡语国家商贸合作服务平台综合体</a></li><li><a href=\"https://news.sina.com.cn/c/2019-12-19/doc-iihnzahi8686152.shtml\">中国国航监事会主席王振刚辞任 赵晓航继任</a></li><li><a href=\"https://news.sina.com.cn/c/2019-12-20/doc-iihnzahi8780730.shtml\">努力让监督工作“动真格、见真章、出实效”</a></li><li><a href=\"https://news.sina.com.cn/c/2019-12-19/doc-iihnzhfz7027329.shtml\">北京通州2020年禁放限放烟花爆竹区域公布</a></li><li><a href=\"https://news.sina.com.cn/c/2019-12-19/doc-iihnzhfz7027442.shtml\">海王医药研究院获批建立广东省院士专家（企业）工作站</a></li><li><a href=\"https://news.sina.com.cn/c/2019-12-19/doc-iihnzahi8685900.shtml\">复星医药出售和睦家医院股权 交割已完成</a></li><li><a href=\"https://news.sina.com.cn/c/2019-12-19/doc-iihnzhfz7026554.shtml\">央行出台系列措施 为澳门居民提供移动支付便利</a></li><li><a href=\"https://news.sina.com.cn/c/2019-12-19/doc-iihnzahi8685049.shtml\">“有求必应”赢得“一呼百应”——合肥滨湖世纪社区创新社会治理</a></li><li><a href=\"https://news.sina.com.cn/c/xl/2019-12-19/doc-iihnzhfz7060257.shtml\">习近平视察澳门政府综合服务中心和英才学校</a></li><li><a href=\"https://news.sina.com.cn/c/2019-12-19/doc-iihnzahi8684805.shtml\">国家降低部分行政事业性收费标准</a></li><li><a href=\"https://news.sina.com.cn/o/2019-12-19/doc-iihnzahi8685152.shtml\">最高法发布人民法院国家赔偿和司法救助典型案例</a></li><li><a href=\"https://news.sina.com.cn/c/2019-12-19/doc-iihnzhfz7026354.shtml\">看完这组对比图 秒懂澳门20年发展(图)</a></li><li><a href=\"https://news.sina.com.cn/c/2019-12-19/doc-iihnzhfz7026046.shtml\">第十届中国花卉博览会会花、会徽和会歌在上海揭晓</a></li><li><a href=\"https://news.sina.com.cn/c/2019-12-19/doc-iihnzhfz7025171.shtml\">《大明风华》朱元璋太恐怖？“戏说”太过害人啊丨娱论</a></li><li><a href=\"https://news.sina.com.cn/o/2019-12-19/doc-iihnzhfz7025541.shtml\">20日 京广高铁北京西至邯郸东10个车站试点电子票</a></li><li><a href=\"https://news.sina.com.cn/c/2019-12-19/doc-iihnzahi8683243.shtml\">国家发改委正式批复 北京这5条地铁线路将调整</a></li><li><a href=\"https://news.sina.com.cn/c/2019-12-19/doc-iihnzhfz7024782.shtml\">深交所：12家证券公司成沪深300ETF期权主做市商</a></li><li><a href=\"https://news.sina.com.cn/c/2019-12-19/doc-iihnzhfz7024363.shtml\">滴滴顺风车12月23日起在北京武汉等5市试运营</a></li><li><a href=\"https://news.sina.com.cn/c/2019-12-19/doc-iihnzhfz7024352.shtml\">央行推动澳门本地电子钱包在内地使用：支持线下扫码支付</a></li><li><a href=\"https://news.sina.com.cn/c/2019-12-19/doc-iihnzhfz7024967.shtml\">柳隐于林 谁传其志？</a></li><li><a href=\"https://news.sina.com.cn/c/2019-12-19/doc-iihnzahi8683059.shtml\">二人涉嫌窝藏暴徒被捕 港警：最高可判10年监禁</a></li><li><a href=\"https://news.sina.com.cn/c/2019-12-19/doc-iihnzahi8681061.shtml\">天津海关查获今年以来全国最大走私“洋垃圾”案</a></li><li><a href=\"https://news.sina.com.cn/o/2019-12-19/doc-iihnzahi8681294.shtml\">权威报告 中石化：明年国际油价存下行压力</a></li><li><a href=\"https://news.sina.com.cn/c/2019-12-19/doc-iihnzahi8680865.shtml\">廊坊在京举办临空产业全球招商活动 790亿元项目签约</a></li><li><a href=\"https://news.sina.com.cn/c/2019-12-19/doc-iihnzahi8681601.shtml\">地铁燕房线今起全自动运行 驾驶室内无司机</a></li><li><a href=\"https://news.sina.com.cn/c/2019-12-19/doc-iihnzahi8681579.shtml\">波音737MAX停产 中国大飞机的机会来了？</a></li><li><a href=\"https://news.sina.com.cn/c/2019-12-19/doc-iihnzahi8681794.shtml\">谭卓：不喜欢、也不会被所谓的规则框住</a></li><li><a href=\"https://news.sina.com.cn/c/2019-12-19/doc-iihnzhfz7022023.shtml\">上海：加装电梯可提公积金 业主意愿征询通过比例放宽到三分之二</a></li><li><a href=\"https://news.sina.com.cn/c/2019-12-19/doc-iihnzahi8680391.shtml\">山东：2022年底前彩票公益金55%以上用于养老服务</a></li><li><a href=\"https://news.sina.com.cn/c/2019-12-19/doc-iihnzhfz7022000.shtml\">黑龙江出台优惠政策推进“煤改电”供热试点</a></li><li><a href=\"https://news.sina.com.cn/c/xl/2019-12-19/doc-iihnzahi8679934.shtml\">习近平出席澳门特别行政区政府欢迎晚宴并发表重要讲话</a></li><li><a href=\"https://news.sina.com.cn/c/2019-12-19/doc-iihnzhfz7021906.shtml\">唐人神拟为子公司龙华农牧提供1.9亿元贷款担保</a></li><li><a href=\"https://news.sina.com.cn/c/2019-12-19/doc-iihnzhfz7021911.shtml\">再加码4万吨，本月中央储备冻猪肉投放量达12万吨</a></li><li><a href=\"https://news.sina.com.cn/c/2019-12-19/doc-iihnzhfz7021894.shtml\">再加码4万吨 12月中央储备冻猪肉投放量达12万吨</a></li><li><a href=\"https://news.sina.com.cn/c/2019-12-19/doc-iihnzhfz7021907.shtml\">阅车快评｜PSA与FCA合并，电动化转型期的抱团取暖</a></li><li><a href=\"https://news.sina.com.cn/c/2019-12-19/doc-iihnzhfz7021294.shtml\">走遍城市乡村，这个区的政协委员跟垃圾分类“较上了劲”</a></li><li><a href=\"https://news.sina.com.cn/c/2019-12-19/doc-iihnzahi8679021.shtml\">来伊份回应：不存在营业收入虚增事项</a></li><li><a href=\"https://news.sina.com.cn/c/2019-12-19/doc-iihnzahi8678625.shtml\">坐拥朱鹮标本和33米环屏 博物馆首次建在北京“村里”</a></li><li><a href=\"https://news.sina.com.cn/c/xl/2019-12-19/doc-iihnzahi8677701.shtml\">习近平和彭丽媛将出席庆祝澳门回归20周年文艺晚会</a></li><li><a href=\"https://news.sina.com.cn/c/2019-12-19/doc-iihnzahi8678622.shtml\">摩登日记丨每个女人都该拥有一条小黑裙</a></li><li><a href=\"https://news.sina.com.cn/c/2019-12-19/doc-iihnzhfz7020233.shtml\">人民旅游投诉平台小程序上线</a></li><li><a href=\"https://news.sina.com.cn/c/2019-12-19/doc-iihnzahi8677438.shtml\">中证协公布2019年优秀重点课题研究报告评选结果</a></li><li><a href=\"https://news.sina.com.cn/c/2019-12-19/doc-iihnzahi8676588.shtml\">康德莱“一次性使用指引导管”获批上市</a></li><li><a href=\"https://news.sina.com.cn/c/2019-12-19/doc-iihnzhfz7017646.shtml\">全国医院科技综合实力排行榜出炉 前十都有谁</a></li><li><a href=\"https://news.sina.com.cn/o/2019-12-19/doc-iihnzhfz7017098.shtml\">北京通州明年烟花禁放区域公布面积210平方公里</a></li><li><a href=\"https://news.sina.com.cn/c/2019-12-19/doc-iihnzahi8676164.shtml\">普京回应中俄关系成果:两国信任水平“前所未有”</a></li><li><a href=\"https://news.sina.com.cn/c/2019-12-19/doc-iihnzahi8675126.shtml\">少年与雷锋同行：沈阳80所学校将建“雷锋地图学习屋”</a></li><li><a href=\"https://news.sina.com.cn/o/2019-12-19/doc-iihnzahi8675346.shtml\">周整建：临危不惧  刀下救人</a></li><li><a href=\"https://news.sina.com.cn/c/2019-12-19/doc-iihnzahi8674838.shtml\">国家医保局推异地就医备案小程序 14地区可先使用</a></li><li><a href=\"https://news.sina.com.cn/c/2019-12-19/doc-iihnzahi8675122.shtml\">黑龙江省大兴安岭多地出现极寒冰雾天气</a></li><li><a href=\"https://news.sina.com.cn/c/2019-12-19/doc-iihnzahi8675487.shtml\">招商蛇口、赣州远康拟转让沈阳金道汇通全部股权</a></li><li><a href=\"https://news.sina.com.cn/c/2019-12-19/doc-iihnzahi8675486.shtml\">广东珠海一房屋外墙瓷砖脱落致人死亡，物业被判赔89万</a></li><li><a href=\"https://news.sina.com.cn/c/2019-12-19/doc-iihnzahi8674438.shtml\">刺身小心吃，4批次生鱼片大肠菌群超标10余倍</a></li><li><a href=\"https://news.sina.com.cn/c/2019-12-19/doc-iihnzahi8674436.shtml\">底价1.88亿，中水渔业拟挂牌转让华农保险11%股权</a></li><li><a href=\"https://news.sina.com.cn/c/2019-12-19/doc-iihnzahi8673126.shtml\">江西近半年干旱天 当地的果树可还好？</a></li><li><a href=\"https://news.sina.com.cn/c/2019-12-19/doc-iihnzahi8671889.shtml\">全国统一跨省异地就医备案服务试点启动</a></li><li><a href=\"https://news.sina.com.cn/c/2019-12-19/doc-iihnzhfz7013303.shtml\">内蒙古中西部首家保税物流中心封关运营</a></li><li><a href=\"https://news.sina.com.cn/c/xl/2019-12-19/doc-iihnzahi8671493.shtml\">外交部：中日韩领导人会议将在成都举行 习近平将会见文在寅和安倍晋三</a></li><li><a href=\"https://news.sina.com.cn/c/2019-12-19/doc-iihnzahi8673492.shtml\">港警捣破洗黑钱团伙 冻结暴徒筹款平台7000万元</a></li><li><a href=\"https://news.sina.com.cn/c/2019-12-19/doc-iihnzhfz7012375.shtml\">普京出席2019年度记者会，称对气候变化不能无所事事</a></li><li><a href=\"https://news.sina.com.cn/c/2019-12-19/doc-iihnzhfz7013265.shtml\">黄之锋又申请离港被拒 声称要去参观台湾2020选举</a></li><li><a href=\"https://news.sina.com.cn/c/2019-12-19/doc-iihnzhfz7011711.shtml\">商家宣传“獐子岛顶级扇贝”被罚，獐子岛不确定产品归属</a></li><li><a href=\"https://news.sina.com.cn/c/2019-12-19/doc-iihnzhfz7011788.shtml\">最高法关注了被羁押1277天的海归清华博士</a></li><li><a href=\"https://news.sina.com.cn/c/2019-12-19/doc-iihnzahi8669822.shtml\">平谷区开启“休闲冰雪季”，工作日每天一小时免费教学</a></li><li><a href=\"https://news.sina.com.cn/c/xl/2019-12-19/doc-iihnzahi8669745.shtml\">习近平考察中国与葡语国家商贸合作服务平台综合体</a></li><li><a href=\"https://news.sina.com.cn/c/2019-12-19/doc-iihnzhfz7012180.shtml\">故宫发布互动解谜游戏书 邀您“侦破”清代科举舞弊案</a></li><li><a href=\"https://news.sina.com.cn/c/xl/2019-12-19/doc-iihnzahi8668987.shtml\">习近平考察中国与葡语国家商贸合作服务平台综合体</a></li><li><a href=\"https://news.sina.com.cn/c/2019-12-19/doc-iihnzhfz7021918.shtml\">北京市19日18时30分解除大风蓝色预警信号</a></li><li><a href=\"https://news.sina.com.cn/c/2019-12-19/doc-iihnzhfz7011124.shtml\">《澳门人家》任达华董洁被指年龄违和，编剧透露剧方考虑</a></li><li><a href=\"https://news.sina.com.cn/c/2019-12-19/doc-iihnzahi8668874.shtml\">中储粮迟京涛：2050年中国粮食需求额外增加超千万吨</a></li><li><a href=\"https://news.sina.com.cn/c/2019-12-19/doc-iihnzhfz7009791.shtml\">王华杰任上海市发改委副主任</a></li><li><a href=\"https://news.sina.com.cn/c/2019-12-20/doc-iihnzhfz7067634.shtml\">这个镇党委原书记原镇长都是村霸的“保护伞”</a></li><li><a href=\"https://news.sina.com.cn/c/2019-12-20/doc-iihnzahi8766482.shtml\">图说纪事 | “来吧，一起聊聊……”</a></li><li><a href=\"https://news.sina.com.cn/zx/2019-12-19/doc-iihnzahi8680709.shtml\">聂卫平点评李世石\"神之一手\"：应该是\"神之一骗\"</a></li><li><a href=\"https://news.sina.com.cn/o/2019-12-19/doc-iihnzahi8668155.shtml\">商务部：内地对原产澳门的货物已全面实施零关税</a></li><li><a href=\"https://news.sina.com.cn/c/2019-12-19/doc-iihnzhfz7008320.shtml\">容百科技：比克电池应收账款提坏账准备金8119万元</a></li><li><a href=\"https://news.sina.com.cn/c/2019-12-19/doc-iihnzhfz7008321.shtml\">评级展望被调整 万达集团回应：经营状况良好</a></li><li><a href=\"https://news.sina.com.cn/c/2019-12-19/doc-iihnzahi8666411.shtml\">“金街”升级丨“港味”王府中環，打造消费“顶配”</a></li><li><a href=\"https://news.sina.com.cn/c/2019-12-19/doc-iihnzahi8666362.shtml\">“金街”升级丨王府井步行街北延，购年货、逛展览看点多</a></li><li><a href=\"https://news.sina.com.cn/c/2019-12-19/doc-iihnzhfz7007525.shtml\">雪中送炭三冬暖——全面深改的兰州“民生就业360”样本</a></li><li><a href=\"https://news.sina.com.cn/c/2019-12-19/doc-iihnzahi8666183.shtml\">故宫发布解谜书《谜宫·金榜题名》 科举大案等你来破</a></li><li><a href=\"https://news.sina.com.cn/c/2019-12-19/doc-iihnzhfz7007618.shtml\">北京推出机器人产业发展三年行动方案，主攻四类机器人</a></li><li><a href=\"https://news.sina.com.cn/c/2019-12-19/doc-iihnzhfz7006750.shtml\">河南向周口市交办80起环境突出问题 11名干部获处分</a></li><li><a href=\"https://news.sina.com.cn/c/2019-12-19/doc-iihnzahi8664346.shtml\">河南出台土地出让新规 确保“净地”干净</a></li><li><a href=\"https://news.sina.com.cn/c/2019-12-19/doc-iihnzahi8665873.shtml\">《哪吒》无缘奥斯卡 北美颁奖季袭来</a></li><li><a href=\"https://news.sina.com.cn/c/xl/2019-12-19/doc-iihnzhfz7006044.shtml\">习近平澳门行：走进濠江中学附属英才学校</a></li><li><a href=\"https://news.sina.com.cn/c/xl/2019-12-19/doc-iihnzhfz7005867.shtml\">习近平澳门行：首站探访澳门政府综合服务中心</a></li><li><a href=\"https://news.sina.com.cn/c/2019-12-19/doc-iihnzahi8664277.shtml\">《自然》公布2019十大科学人物 北大邓宏魁入选</a></li><li><a href=\"https://news.sina.com.cn/c/2019-12-19/doc-iihnzhfz7006041.shtml\">美国前财政部长：不应用军事化眼光看中美关系</a></li><li><a href=\"https://news.sina.com.cn/s/2019-12-20/doc-iihnzhfz7006022.shtml\">县委书记被围着要欠款 媒体：何时还钱不该没答案</a></li><li><a href=\"https://news.sina.com.cn/c/2019-12-19/doc-iihnzhfz7005364.shtml\">“雪龙2”号获取中国南极科考史“最长柱状沉积物”</a></li><li><a href=\"https://news.sina.com.cn/c/2019-12-19/doc-iihnzhfz7005337.shtml\">头劈青竹、吃瓤不吃皮 青神竹艺中心里的熊猫忒讲究</a></li><li><a href=\"https://news.sina.com.cn/c/2019-12-19/doc-iihnzahi8662623.shtml\">四川打通最后一条通乡公路</a></li><li><a href=\"https://news.sina.com.cn/c/2019-12-18/doc-iihnzahi8482407.shtml\">蔡英文称台经济20年来最好 韩国瑜马上列数据打脸</a></li><li><a href=\"https://news.sina.com.cn/c/2019-12-19/doc-iihnzahi8482984.shtml\">“说太多不如进个球” 吉翔收获国家队首粒进球</a></li><li><a href=\"https://news.sina.com.cn/c/2019-12-18/doc-iihnzhfz6823843.shtml\">看2020：激活蛰伏的产业与消费潜能</a></li><li><a href=\"https://news.sina.com.cn/c/2019-12-18/doc-iihnzahi8481587.shtml\">沈阳大学学生称被同学捅伤89天无果，警方称正抓嫌疑人</a></li><li><a href=\"https://news.sina.com.cn/c/2019-12-19/doc-iihnzhfz6822832.shtml\">日新月新 幸福澳门(图)</a></li><li><a href=\"https://news.sina.com.cn/c/2019-12-18/doc-iihnzahi8480835.shtml\">内蒙古白云鄂博矿区3万居民结束“吃水难、水难吃”历史</a></li><li><a href=\"https://news.sina.com.cn/c/2019-12-18/doc-iihnzhfz6824128.shtml\">【E路同行 智惠江苏】“最强大脑”打造城市交通网 科技智能解锁出行新模式</a></li><li><a href=\"https://news.sina.com.cn/o/2019-12-18/doc-iihnzhfz6822477.shtml\">深圳面向全球招商 签约额超5600亿元</a></li><li><a href=\"https://news.sina.com.cn/c/2019-12-19/doc-iihnzahi8480583.shtml\">贝宁总统会见全国政协副主席邵鸿</a></li><li><a href=\"https://news.sina.com.cn/c/2019-12-18/doc-iihnzhfz6822418.shtml\">香港警方：粉岭公路车祸司机涉危险驾驶致他人死亡被捕</a></li><li><a href=\"https://news.sina.com.cn/c/2019-12-18/doc-iihnzhfz6820889.shtml\">卖楼又买楼价差超4200万，香梨股份房产交易计划流产</a></li><li><a href=\"https://news.sina.com.cn/c/2019-12-19/doc-iihnzhfz6820459.shtml\">浙江绍兴警方破获特大虚开骗税案 涉案金额4800亿</a></li><li><a href=\"https://news.sina.com.cn/o/2019-12-18/doc-iihnzahi8478369.shtml\">被困80多小时13名矿工\"绝地生还\":大家省着吃干粮</a></li><li><a href=\"https://news.sina.com.cn/c/xl/2019-12-18/doc-iihnzhfz6822740.shtml\">20年前 谢霆锋《谢谢你的爱1999》不如这首老歌火</a></li><li><a href=\"https://news.sina.com.cn/c/2019-12-18/doc-iihnzhfz6820419.shtml\">柳传志谈退休：不再参与公司事务 除非极特殊情况</a></li><li><a href=\"https://news.sina.com.cn/c/2019-12-18/doc-iihnzahi8478173.shtml\">菲律宾南部6.9级地震死亡人数升至11人</a></li><li><a href=\"https://news.sina.com.cn/c/2019-12-18/doc-iihnzahi8476332.shtml\">《半个喜剧》笑点设计，《驴得水》原班人马花了三年打磨</a></li><li><a href=\"https://news.sina.com.cn/c/2019-12-18/doc-iihnzhfz6817211.shtml\">广西各级法院集中宣判一批黑恶势力犯罪案件</a></li>\\t\\t\\t<li>\\n\\t\\t\\t\\t<a href=\"https://news.sina.com.cn/c/2019-12-19/doc-iihnzhfz6829098.shtml\" target=\"_blank\"  title=\"中国多认怂美国就能放中国一马？胡锡进:非常幼稚\">中国多认怂美国就能放中国一马？胡锡进:非常幼稚</a>\\n\\t\\t\\t</li>\\t\\t\\t<li>\\n\\t\\t\\t\\t<a href=\"https://news.sina.com.cn/c/2019-12-19/doc-iihnzhfz6825540.shtml\" target=\"_blank\"  title=\"“嘘国歌” 乱港分子这次在韩国把脸丢尽了\">“嘘国歌” 乱港分子这次在韩国把脸丢尽了</a>\\n\\t\\t\\t</li>\\t\\t\\t<li>\\n\\t\\t\\t\\t<a href=\"https://news.sina.com.cn/c/2019-12-19/doc-iihnzhfz6825543.shtml\" target=\"_blank\"  title=\"媒体：港中大校长护暴徒“有功” 英国发证了\">媒体：港中大校长护暴徒“有功” 英国发证了</a>\\n\\t\\t\\t</li>\\t\\t\\t<li>\\n\\t\\t\\t\\t<a href=\"https://news.sina.com.cn/c/2019-12-19/doc-iihnzahi8509437.shtml\" target=\"_blank\"  title=\"继山东舰后接下来航母该如何命名?网友们吵成一团\">继山东舰后接下来航母该如何命名?网友们吵成一团</a>\\n\\t\\t\\t</li>\\t\\t\\t<li>\\n\\t\\t\\t\\t<a href=\"https://news.sina.com.cn/c/xl/2019-12-19/doc-iihnzhfz6826854.shtml\" target=\"_blank\"  title=\"习近平出席澳门“成年礼” 三大看点值得关注\">习近平出席澳门“成年礼” 三大看点值得关注</a>\\n\\t\\t\\t</li>\\t\\t\\t<li>\\n\\t\\t\\t\\t<a href=\"https://news.sina.com.cn/c/2019-12-19/doc-iihnzahi8563329.shtml\" target=\"_blank\"  title=\"TVB艺人因撑警2天内被4家品牌“割席” 他这样说\">TVB艺人因撑警2天内被4家品牌“割席” 他这样说</a>\\n\\t\\t\\t</li>\\t\\t\\t<li>\\n\\t\\t\\t\\t<a href=\"https://news.sina.com.cn/c/2019-12-19/doc-iihnzahi8556749.shtml\" target=\"_blank\"  title=\"\"不近铜臭\"的书记拟升正厅级 还被称为\"活地图\"\">\"不近铜臭\"的书记拟升正厅级 还被称为\"活地图\"</a>\\n\\t\\t\\t</li>\\t\\t\\t<li>\\n\\t\\t\\t\\t<a href=\"https://news.sina.com.cn/c/2019-12-19/doc-iihnzhfz6827777.shtml\" target=\"_blank\"  title=\"四川煤矿事故：13人靠一盒被弃食盒饭支撑到获救\">四川煤矿事故：13人靠一盒被弃食盒饭支撑到获救</a>\\n\\t\\t\\t</li>\\t\\t\\t<li>\\n\\t\\t\\t\\t<a href=\"https://news.sina.com.cn/c/2019-12-19/doc-iihnzhfz6936689.shtml\" target=\"_blank\"  title=\"香港暴徒\"后悔\":以后可能见不到家人了 还想上学\">香港暴徒\"后悔\":以后可能见不到家人了 还想上学</a>\\n\\t\\t\\t</li>\\t\\t\\t<li>\\n\\t\\t\\t\\t<a href=\"https://news.sina.com.cn/c/2019-12-19/doc-iihnzahi8603675.shtml\" target=\"_blank\"  title=\"中国公布第一批对美加征关税商品第二次排除清单\">中国公布第一批对美加征关税商品第二次排除清单</a>\\n\\t\\t\\t</li>            <li>\\n                <a href=\"https://news.sina.com.cn/c/2019-12-18/doc-iihnzahi8348274.shtml\" target=\"_blank\"  title=\"湖南操场埋尸案一审宣判：主犯杜少平被判死刑\">湖南操场埋尸案一审宣判：主犯杜少平被判死刑</a>\\n            </li>            <li>\\n                <a href=\"https://news.sina.com.cn/o/2019-12-17/doc-iihnzahi8198701.shtml\" target=\"_blank\"  title=\"直击首艘国产航母入列现场 数架歼-15已上舰值班\">直击首艘国产航母入列现场 数架歼-15已上舰值班</a>\\n            </li>            <li>\\n                <a href=\"https://news.sina.com.cn/c/2019-12-18/doc-iihnzahi8359384.shtml\" target=\"_blank\"  title=\"投票机有中俄部件 美国人疑外国势力干预总统大选\">投票机有中俄部件 美国人疑外国势力干预总统大选</a>\\n            </li>            <li>\\n                <a href=\"https://news.sina.com.cn/gov/xlxw/2019-12-18/doc-iihnzahi8340309.shtml\" target=\"_blank\"  title=\"情系濠江 习近平这些话意味深长\">情系濠江 习近平这些话意味深长</a>\\n            </li>            <li>\\n                <a href=\"https://news.sina.com.cn/c/2019-12-19/doc-iihnzhfz6845711.shtml\" target=\"_blank\"  title=\"美参议院立法干预台湾选举 专家：非常阴险\">美参议院立法干预台湾选举 专家：非常阴险</a>\\n            </li>            <li>\\n                <a href=\"https://news.sina.com.cn/c/2019-12-19/doc-iihnzhfz6829098.shtml\" target=\"_blank\"  title=\"中国多认怂美国就能放中国一马？胡锡进:非常幼稚\">中国多认怂美国就能放中国一马？胡锡进:非常幼稚</a>\\n            </li>            <li>\\n                <a href=\"https://news.sina.com.cn/c/xl/2019-12-18/doc-iihnzahi8456589.shtml\" target=\"_blank\"  title=\"习近平会见崔世安\">习近平会见崔世安</a>\\n            </li>            <li>\\n                <a href=\"https://news.sina.com.cn/c/2019-12-18/doc-iihnzhfz6741458.shtml\" target=\"_blank\"  title=\"人脸识别被破解？支付宝微信：遇盗刷可全额赔付\">人脸识别被破解？支付宝微信：遇盗刷可全额赔付</a>\\n            </li>            <li>\\n                <a href=\"https://news.sina.com.cn/c/2019-12-18/doc-iihnzahi8472627.shtml\" target=\"_blank\"  title=\"中国政府为华为向德国施压？默克尔否认\">中国政府为华为向德国施压？默克尔否认</a>\\n            </li>            <li>\\n                <a href=\"https://news.sina.com.cn/c/2019-12-18/doc-iihnzhfz6820419.shtml\" target=\"_blank\"  title=\"柳传志谈退休：不再参与公司事务 除非极特殊情况\">柳传志谈退休：不再参与公司事务 除非极特殊情况</a>\\n            </li>\\t</ul>\\n</div>\\n\\t\\t\\t<!--seo end-->\\n            <div class=\"js-feed-cont\" id=\"feed_cont\"></div>\\n        </div>\\n        <div class=\"right-content-1\">\\n            <div class=\"news-rank\">\\n    <div class=\"tlt\"  data-sudaclick=\"ranklist_news_p\">\\n        <em><a href=\"http://news.sina.com.cn/hotnews/\" target=\"_blank\">新闻排行</a></em>\\n    </div>\\n    <div class=\"news-rank-content\">\\n        \\n        <div class=\"news-rank-conb1\">\\n            <div class=\"news-tlt\">\\n                <a href=\"javascript:void(0);\"  data-sudaclick=\"rankliranklist_news_today_click_i\" target=\"_blank\" class=\"news-tlt-nav current\"><i class=\"angle\"></i>点击排行</a>\\n                <a href=\"javascript:void(0);\"  data-sudaclick=\"ranklist_news_today_comment_i\" target=\"_blank\" class=\"news-tlt-nav\"><i class=\"angle\"></i>评论排行</a>\\n\\t\\t\\t\\t<span class=\"slash\"></span>\\n            </div>\\n            <ul class=\"hot-news-ul\" data-sudaclick=\"ranklist_today_comment_items_p\">\\n\\t\\t\\t\\t\\n            </ul>\\n            <ul class=\"hot-news-ul hiden\" data-sudaclick=\"ranklist_news_comment_hotitems_p\">\\n\\t\\t\\t\\t\\n            </ul>\\n        </div>\\n        \\n    </div>\\n</div>\\n\\n\\n\\n            <!-- 底部导航 start -->\\n<div class=\"footer_box\">\\n    <div class=\"view-module\">\\n        <span class=\"view-phone marginTop24\"><a href=\"http://news.sina.com.cn/feedback/post.html\" target=\"_blank\"><i class=\"icon-pen\"></i>新浪新闻意见反馈留言板 </a></span>\\n        <span class=\"view-phone\"><i class=\"icon-phone\"></i>400-052-0066  欢迎批评指正</span>\\n    </div>\\n    <div class=\"nav-link-box\" data-sudaclick=\"footer_p\">\\n        <ul>\\n            <li>\\n                <a href=\"http://corp.sina.com.cn/chn/sina_index.html\" target=\"_blank\">新浪简介</a>\\n                <span>|</span>\\n                <a href=\"http://emarketing.sina.com.cn/\" target=\"_blank\">广告服务</a>\\n                <span>|</span>\\n                <a href=\"http://corp.sina.com.cn/eng/sina_index_eng.htm\" target=\"_blank\">About Sina</a>\\n            </li>\\n            <li>\\n                <a href=\"http://www.sina.com.cn/contactus.html\" target=\"_blank\">联系我们</a>\\n                <span>|</span>\\n                <a href=\"http://career.sina.com.cn/\" target=\"_blank\">招聘信息</a>\\n                <span>|</span>\\n                <a href=\"http://login.sina.com.cn/signup/signup\" target=\"_blank\">通行证注册</a>\\n            </li>\\n            <li>\\n                <a href=\"http://help.sina.com.cn/\" target=\"_blank\">产品答疑</a>\\n                <span>|</span>\\n                <a href=\"http://corp.sina.com.cn/lawfirm/sina.htm\" target=\"_blank\">网站律师</a>\\n                <span>|</span>\\n                <a href=\"http://english.sina.com/\" target=\"_blank\">SINA English</a>\\n            </li>\\n        </ul>\\n\\n    </div>\\n    <div class=\"report-infor\">\\n        <p>违法和不良信息举报电话：4000520066<br/>\\n        举报邮箱：jubao@vip.sina.com</p>\\n    </div>\\n    <div class=\"copy-right\">\\n        <p>Copyright © 1996-2019 SINA Corporation</p>\\n        <p>All Rights Reserved  新浪公司 <a href=\"https://corp.sina.com.cn/chn/copyright.html\" target=\"_blank\">版权所有</a> </p>\\n    </div>\\n</div>\\n        </div>\\n    </div>\\n    <!-- 正文页浮层 -->\\n<div class=\"page-right-bar\">\\n    <span class=\"fbr-box fbr-down\">\\n        <span class=\"fbr-pic\" id=\"weixinPic\">\\n            <img src=\"//n2.sinaimg.cn/ent/home1704/images/pages/fbr-ewm.png\" width=\"65\" height=\"65\" data-echo=\"//n2.sinaimg.cn/ent/home1704/images/pages/fbr-ewm.png\" alt=\"\">\\n\\n            <img src=\"//n.sinaimg.cn/tech/index_v17/xinwen_fix.png\" class=\"weixin_big\">\\n\\n            <span class=\"fbr-title\" id=\"weixinTitle\">下载<i>新浪新闻</i></span>\\n        </span>\\n\\n    </span>\\n    <a class=\"right-bar-btn fbr-pic\" id=\"weixinText\" href=\"javascript:void(0);\" data-sudaclick=\"float_newsapp_i\">\\n        新浪新闻App\\n    </a>\\n    <img src=\"//n.sinaimg.cn/tech/index_v17/xinwen_fix.png\" class=\"weixin_big1\">\\n    <!-- <a href=\"javascript\" data-sudaclick=\"float_home_p\" node-type=\"toHome\" class=\\'right-bar-btn btn-home\\'>>新浪新闻客户端</a> -->\\n    <a href=\"http://news.sina.com.cn/feedback/post.html\" target=\"_blank\" data-sudaclick=\"float_feedback_p\" class=\"right-bar-btn\">\\n        <div class=\" btn-survey\"></div>\\n        <p>意见反馈</p>\\n    </a>\\n   <a data-sudaclick=\"float_survey_p\" node-type=\"sittingA\" class=\"right-bar-btn sittingA\"></a>\\n    <a href=\"javascript:;\" data-sudaclick=\"float_top_i\" node-type=\"toTop\" class=\\'right-bar-btn fadeOut\\'>\\n        <div class=\"btn-toTop\"></div>\\n        <p>返回顶部</p>\\n    </a>\\n</div>\\n    <!--对联广告 20150909 15:10:00 leitao Start-->\\n    <ins class=\"sinaads\" data-ad-pdps=\"PDPS000000058097\" data-ad-type=\"float\"></ins>\\n    <script>(sinaads = window.sinaads || []).push({\\n        params : {\\n            sinaads_float_show_pos: 800,\\n            sinaads_float_top : 46\\n        }\\n    });\\n    </script>\\n    <!--对联广告 20150909 15:10:00 leitao End-->\\n    <!-- start dmp -->\\n    <script type=\"text/javascript\">\\n    (function(d, s, id) {\\n    var n = d.getElementsByTagName(s)[0];\\n    if (d.getElementById(id)) return;\\n    s = d.createElement(s);\\n    s.id = id;\\n    s.setAttribute(\\'charset\\', \\'utf-8\\');\\n    s.src = \\'//d\\' + Math.floor(0 + Math.random() * (8 - 0 + 1)) + \\'.sina.com.cn/litong/zhitou/sinaads/src/spec/sinaads_ck.js\\';\\n    n.parentNode.insertBefore(s, n);\\n    })(document, \\'script\\', \\'sinaads-ck-script\\');\\n    </script>\\n    <!-- end dmp -->\\n    <script type=\"text/javascript\" src=\"//tech.sina.com.cn/js/717/20140827/index2014/top.js\" charset=\"gb2312\"></script>\\n    <script language=\\'javascript\\' charset=\\'utf-8\\' src=\\'//i.sso.sina.com.cn/js/ssologin.js\\'></script>\\n    <script type=\"text/javascript\" src=\"//i.sso.sina.com.cn/js/outlogin_layer.js\" charset=\"utf-8\"></script>\\n    <script type=\"text/javascript\" src=\"//i.sso.sina.com.cn/js/user_panel_new_version_v2.js\" charset=\"utf-8\"></script>\\n    <script type=\"text/javascript\" src=\"//ent.sina.com.cn/470/2014/0328/search_suggest.js\"></script>\\n    <script charset=\"utf-8\" type=\"text/javascript\" src=\"//n.sinaimg.cn/common/channelnav/js/nav.js\"></script>\\n    <!-- FEED start -->\\n\\n    <!--feed流配置-->\\n       <script type=\"text/javascript\">\\n        var FEED_CARD_INFO = {\\n            containerID: \\'feed_cont\\', // 容器ID\\n            containerWidth: 672, // 默认宽度是660\\n            loadType: 1, // 加载类型 1表示点击更多加载, 2表示自动加载\\n            autoLoadDistance: \\'\\', // 如果是自动加载, 有时候feed流并没有放在最下面, 所以scrollEnd的时候要判断这个距离\\n            clickLoadText: \\'点击加载更多\\',\\n            summaryKey: \\'summary\\', // 摘要使用字段\\n            supportNotification: true,// 最左边的列表是否添加提醒功能\\n            notificationTemplate: \\'有{n}条消息，点击查看\\',// 提醒的格式\\n            notificationTimeout: 1000 * 30,// 提醒的事件间隔\\n            pageSize: 20, // 每次加载条数\\n            stepSize: 1, // 加载三次之后出分页\\n            moreTagTemplate: \\'点击查看更多关于“{n}”的文章\\',\\n\\n            /*\\n             * 评论相关配置\\n             */\\n            // 1. 是否支持当前页展开评论\\n            enablePageComment: false,\\n            // 2. 评论组件编码,默认是gbk\\n            pageCommentEncoding: \\'gbk\\',\\n            // 3. 是否显示盖楼,默认0,还可以为1\\n            pageCommentShowReply: 0,\\n            // 4. 评论显示字数\\n            pageCommentMaxWordCount: 110,\\n            // 5. 最热评论默认显示条数\\n            pageCommentHotPageNum: 3,\\n            // 6. 最新评论默认显示条数\\n            pageCommentFirstPageNum: 10,\\n\\n            pageid: 121, // pageid与lid共同定位一个api地址\\n            homeid: 30003, // 用来上传定制信息, 见邮件[feed流订阅homeid分配]\\n\\n            supportTabEdit: false, //是否支持兴趣设置\\n            editTips: [\\'温馨提示：点击下一步，调整分类顺序。（至少选择一个分类）\\', \\'温馨提示：完成设置后，将会根据兴趣推荐全新内容~\\'],\\n            toFilterNews: [], // 过滤从feed系统走，此处可置空\\n            isTabFixed: false,\\n            fixedTop: 0,\\n            supportKeywords: false, // 是否支持热词定制\\n            hotNewsCount: 200, //评论超过该数字显示热icon\\n            enableTagFeed: false,// 是否支持点击关键词加载列表，默认是false\\n            tagURL: \\'http://tags.finance.sina.com.cn\\',\\n            yPosition: \\'auto\\', // 如果不固定，则给一个auto，自动计算\\n            tabHeight: 50,\\n            noDataText: \\'没有相关新闻\\',\\n            //最左边固定tab\\n            firstTab: {\\n                txt: \\'最新新闻\\',\\n                lid: 1356\\n            },\\n\\n            // 默认tab\\n            tabs: [-4000],\\n            allTabs: [-4000],\\n            tabInfos: {\\n/*\\n                \\'tab_-4000\\': {\\n                    txt: \\'理财自媒体\\',\\n                    lid: -4000,\\n                    //url: \\'http://feed.mix.sina.com.cn/api/roll/get?pageid=155&lid=1686&num=10&page=1\\'\\n                    //url: \\'http://feed.mix.sina.com.cn/api/zt/get?sid_1_value=2016qglh&sid_2_value=3&channelid=1&len=5\\'\\n                    url: \\'http://cj.sina.com.cn/api/article/feed_author?num=10&page=1\\'\\n                }\\n*/\\n            },\\n            requireLogin: function(){\\n              var UserPanel = SINA_USER_PANEL;\\n              UserPanel.setOutLoginMiddle();\\n              UserPanel.getOutLogin().show();\\n              // 可添加提示\\n              __SinaTopBar__.user.showTip(\\'<span>温馨提示: </span>您已经完成兴趣设置，建议登录后保存。\\');\\n            },\\n            isLogin: function(){\\n              if(window.SINA_OUTLOGIN_LAYER){\\n                return window.SINA_OUTLOGIN_LAYER.isLogin();\\n              }\\n              return false;\\n            }\\n        };\\n    </script>\\n    <script type=\"text/javascript\" charset=\"gb2312\" src=\"//tech.sina.com.cn/js/717/20141112/index2014/doT.min.js\"></script>\\n    <script type=\"text/javascript\" charset=\"gb2312\" src=\"//news.sina.com.cn/blank/tianyi/feed-news.js\"></script>\\n    <!--/feed流配置-->\\n\\t<script type=\"text/javascript\" src=\"//n.sinaimg.cn/news/643213b9/20180725/suda_log_1459340870608.js\"></script> \\n    <script type=\"text/javascript\" src=\"//www.sinaimg.cn/unipro/pub/suda_m_v634.js\"></script>\\n    <script type=\"text/javascript\">suds_init(979,100.0000,1515,2)</script>\\n<script type=\"text/javascript\" src=\"//simg.sinajs.cn/products/news_finance/2018/pc_china_home/js/vender-5b1f99.js\"></script><script type=\"text/javascript\" src=\"//simg.sinajs.cn/products/news_finance/2018/pc_china_home/js/index-2b1eed.js\"></script><!-- body code begin -->\\n<script type=\"text/javascript\">\\n(function(){\\n    if(window.top !== window.self || window._thereIsNoRealTimeMessage){return};\\n    var script = document.createElement(\\'script\\');\\n    script.setAttribute(\\'charset\\', \\'gb2312\\');\\n    script.src = \\'//news.sina.com.cn/js/694/2012/0830/realtime.js?ver=1.5.1\\';\\n    document.getElementsByTagName(\\'head\\')[0].appendChild(script);\\n})();\\n</script>\\n\\n<!-- SSO_UPDATECOOKIE_START -->\\n<script type=\"text/javascript\">var sinaSSOManager=sinaSSOManager||{};sinaSSOManager.q=function(b){if(typeof b!=\"object\"){return\"\"}var a=new Array();for(key in b){a.push(key+\"=\"+encodeURIComponent(b[key]))}return a.join(\"&\")};sinaSSOManager.es=function(f,d,e){var c=document.getElementsByTagName(\"head\")[0];var a=document.getElementById(f);if(a){c.removeChild(a)}var b=document.createElement(\"script\");if(e){b.charset=e}else{b.charset=\"gb2312\"}b.id=f;b.type=\"text/javascript\";d+=(/\\\\?/.test(d)?\"&\":\"?\")+\"_=\"+(new Date()).getTime();b.src=d;c.appendChild(b)};sinaSSOManager.doCrossDomainCallBack=function(a){sinaSSOManager.crossDomainCounter++;document.getElementsByTagName(\"head\")[0].removeChild(document.getElementById(a.scriptId))};sinaSSOManager.crossDomainCallBack=function(a){if(!a||a.retcode!=0){return false}var d=a.arrURL;var b,f;var e={callback:\"sinaSSOManager.doCrossDomainCallBack\"};sinaSSOManager.crossDomainCounter=0;if(d.length==0){return true}for(var c=0;c<d.length;c++){b=d[c];f=\"ssoscript\"+c;e.scriptId=f;b=b+(/\\\\?/.test(b)?\"&\":\"?\")+sinaSSOManager.q(e);sinaSSOManager.es(f,b)}};sinaSSOManager.updateCookieCallBack=function(c){var d=\"ssoCrossDomainScriptId\";var a=\"http://login.sina.com.cn/sso/crossdomain.php\";if(c.retcode==0){var e={scriptId:d,callback:\"sinaSSOManager.crossDomainCallBack\",action:\"login\",domain:\"sina.com.cn\"};var b=a+\"?\"+sinaSSOManager.q(e);sinaSSOManager.es(d,b)}else{}};sinaSSOManager.updateCookie=function(){var g=1800;var p=7200;var b=\"ssoLoginScript\";var h=3600*24;var i=\"sina.com.cn\";var m=1800;var l=\"http://login.sina.com.cn/sso/updatetgt.php\";var n=null;var f=function(e){var r=null;var q=null;switch(e){case\"sina.com.cn\":q=sinaSSOManager.getSinaCookie();if(q){r=q.et}break;case\"sina.cn\":q=sinaSSOManager.getSinaCookie();if(q){r=q.et}break;case\"51uc.com\":q=sinaSSOManager.getSinaCookie();if(q){r=q.et}break}return r};var j=function(){try{return f(i)}catch(e){return null}};try{if(g>5){if(n!=null){clearTimeout(n)}n=setTimeout(\"sinaSSOManager.updateCookie()\",g*1000)}var d=j();var c=(new Date()).getTime()/1000;var o={};if(d==null){o={retcode:6102}}else{if(d<c){o={retcode:6203}}else{if(d-h+m>c){o={retcode:6110}}else{if(d-c>p){o={retcode:6111}}}}}if(o.retcode!==undefined){return false}var a=l+\"?callback=sinaSSOManager.updateCookieCallBack\";sinaSSOManager.es(b,a)}catch(k){}return true};sinaSSOManager.updateCookie();</script>\\n<!-- SSO_UPDATECOOKIE_END -->\\n\\n<!-- body code end -->\\n\\n</body>\\n\\n</html>\\n'"
      ]
     },
     "execution_count": 119,
     "metadata": {},
     "output_type": "execute_result"
    }
   ],
   "source": [
    "#查找大概数据来源的网页，爬取到URL\n",
    "#注意原网页编码爬取下来是否需要解析\n",
    "import requests\n",
    "from bs4 import BeautifulSoup\n",
    "import re\n",
    "\n",
    "res = requests.get('https://news.sina.com.cn/china/')\n",
    "#res.text\n",
    "res.encoding = 'utf-8'\n",
    "res.text"
   ]
  },
  {
   "cell_type": "code",
   "execution_count": 144,
   "metadata": {},
   "outputs": [
    {
     "name": "stdout",
     "output_type": "stream",
     "text": [
      "https://news.sina.com.cn/c/2019-12-19/doc-iihnzahi8709683.shtml\n",
      "https://news.sina.com.cn/c/2019-12-19/doc-iihnzhfz7013265.shtml\n",
      "https://news.sina.com.cn/c/2019-12-19/doc-iihnzhfz7030680.shtml\n",
      "https://news.sina.com.cn/c/2019-12-19/doc-iihnzahi8707214.shtml\n",
      "https://news.sina.com.cn/c/2019-12-20/doc-iihnzhfz7260059.shtml\n",
      "https://news.sina.com.cn/c/2019-12-20/doc-iihnzhfz7228935.shtml\n",
      "https://news.sina.com.cn/c/2019-12-20/doc-iihnzahi8886436.shtml\n",
      "https://news.sina.com.cn/c/2019-12-20/doc-iihnzhfz7227247.shtml\n",
      "https://news.sina.com.cn/c/2019-12-20/doc-iihnzahi8886844.shtml\n",
      "https://news.sina.com.cn/c/2019-12-20/doc-iihnzahi8875350.shtml\n",
      "https://news.sina.com.cn/c/2019-12-20/doc-iihnzahi8869411.shtml\n",
      "https://news.sina.com.cn/o/2019-12-20/doc-iihnzahi8882135.shtml\n",
      "https://news.sina.com.cn/c/2019-12-20/doc-iihnzhfz7203825.shtml\n",
      "https://news.sina.com.cn/o/2019-12-20/doc-iihnzhfz7203096.shtml\n",
      "https://news.sina.com.cn/c/2019-12-20/doc-iihnzhfz7199632.shtml\n"
     ]
    }
   ],
   "source": [
    "soup = BeautifulSoup(res.text,'html.parser')\n",
    "for link in soup.select('.right-content li'):\n",
    "    print(link.select('a')[0]['href'])"
   ]
  },
  {
   "cell_type": "code",
   "execution_count": 138,
   "metadata": {},
   "outputs": [],
   "source": []
  },
  {
   "cell_type": "markdown",
   "metadata": {},
   "source": [
    "# 建立对于新闻URL里文章的爬取函数"
   ]
  },
  {
   "cell_type": "code",
   "execution_count": 146,
   "metadata": {},
   "outputs": [
    {
     "data": {
      "text/plain": [
       "'\\n<!DOCTYPE html>\\n<!-- [ published at 2019-12-20 06:26:46 ] -->\\n<!-- LLTJ_MT:name =\"央视\" -->\\n<!-- LLTJ_ZT:url=\"\"; name=\"庆祝澳门回归20周年,aomen20\";type=\"ZW\"; -->\\n<html>\\n<head>\\n<meta charset=\"utf-8\"/>\\n<meta http-equiv=\"Content-type\" content=\"text/html; charset=utf-8\" />\\n<meta name=\"sudameta\" content=\"urlpath:c/; allCIDs:51922,257,51895,200856,56261,258,38790,254628,103870,241408,145060,254759,225675\">\\n<title>澳门人足年丰有余庆 央视主播这样说|回归祖国|一国两制_新浪新闻</title>\\n<meta name=\"keywords\" content=\"回归祖国,一国两制,庆祝澳门回归20周年\" />\\n<meta name=\"tags\" content=\"回归祖国,一国两制\" />\\n<meta name=\"description\" content=\"原标题：主播说联播丨刚强“总结君”上线前方高能→今天是12月19日，澳门即将迎来回归祖国二十周年，今天联播重点报道了习主席在澳门的活动，主播刚强有话说。刚强：今天的联播重点报道了习主席在澳门的系列活动。习主席说，回归祖国以来的二十年，是澳门\" />\\n<link rel=\"mask-icon\" sizes=\"any\" href=\"//www.sina.com.cn/favicon.svg\" color=\"red\">\\n<meta property=\"og:type\" content=\"news\" />\\n<meta property=\"og:title\" content=\"澳门人足年丰有余庆 央视主播这样说\" />\\n<meta property=\"og:description\" content=\"澳门人足年丰有余庆 央视主播这样说\" />\\n<meta property=\"og:url\" content=\"https://news.sina.com.cn/c/2019-12-19/doc-iihnzahi8709683.shtml\" />\\n<meta property=\"og:image\" content=\"http://n.sinaimg.cn/spider20191219/40/w550h290/20191219/1c3a-ikyziqw5573331.jpg\" />\\n<meta name=\"weibo: article:create_at\" content=\"2019-12-19 21:53:33\" />\\n<meta name=\"weibo: article:update_at\" content=\"2019-12-20 05:56:20\" />\\n\\n<meta property=\"article:published_time\" content=\"2019-12-19T23:36:04+08:00\" />\\n<meta property=\"article:author\" content=\"\" />\\n\\t\\t\\n<meta name=\"stencil\" content=\"PGLS000526\" />\\n<meta name=\"publishid\" content=\"ihnzahi8709683\" />\\n<meta name=\"comment\" content=\"gn:comos-ihnzahi8709683\" />\\n<meta name=\"sudameta\" content=\"comment_channel:gn;comment_id:comos-ihnzahi8709683\" />\\n\\n\\n<meta name=\"subjectid\" content=\"ihnzahi5197295\"><meta name=\"mediaid\" content=\"央视\">\\n<meta name=\"sudameta\" content=\"sinaog:0\" />\\n<meta name=\"mobile-agent\" content=\"format=html5; url=\">\\n<meta name=\"mobile-agent\" content=\"format=xhtml; url=\">\\n<meta name=\"mobile-agent\" content=\"format=wml; url=\">\\n\\n\\n<!-- 栏目名： 51922 资讯 --><!-- id： ihnzahi8709683 URL： https://news.sina.com.cn/c/2019-12-19/doc-iihnzahi8709683.shtml -->\\n\\n\\t<script>\\n\\t\\t(function() {\\n\\t\\t\\tvar ua = navigator.userAgent.toLocaleLowerCase();\\n\\t\\t\\tif (ua.match(/micromessenger/i) && ua.match(/windowswechat/i)) {\\n\\t\\t\\t\\twindow.location.href = \\'\\';\\n\\t\\t\\t}\\n\\t\\t})();\\n\\t</script>\\n<meta content=\"always\" name=\"referrer\">\\n<meta name=jspreload content=\"jspreload\">\\n<meta http-equiv=\"Cache-Control\" content=\"no-transform\">\\n<meta http-equiv=\"Cache-Control\" content=\"no-siteapp\">\\n<meta name=\"applicable-device\" content=\"pc,mobile\">\\n<meta name=\"MobileOptimized\" content=\"width\">\\n<meta name=\"HandheldFriendly\" content=\"true\">\\n<link rel=\"mask-icon\" sizes=\"any\" href=\"//www.sina.com.cn/favicon.svg \" color=\"red\">\\n<link rel=\"dns-prefetch\" href=\"//simg.sinajs.cn \">\\n<link rel=\"dns-prefetch\" href=\"//n3.sinaimg.cn \">\\n<link rel=\"alternate\" type=\"application/rss+xml\" href=\"//rss.sina.com.cn/news/marquee/ddt.xml \" title=\"新闻中心_新浪网\">\\n<meta name=\"msvalidate.01\" content=\"0EBC6AF737F6405C0F32D73B4AA6A640\" />\\n<meta name=\"apple-mobile-web-app-status-bar-style\" content=\"black\">\\n<meta name=\"viewport\" content=\"width=device-width, initial-scale=1.0, minimum-scale=1.0, maximum-scale=1.0, user-scalable=no\"/> \\n<link rel=\"apple-touch-icon\" href=\"//i0.sinaimg.cn/dy/news3.png \">\\n<!-- 登录 css -->\\n<link rel=\"stylesheet\" type=\"text/css\" href=\"//i.sso.sina.com.cn/css/userpanel/v1/top_account_v2.css\">\\n<!--天乙样式-->\\n<link rel=\"stylesheet\" type=\"text/css\" href=\"//news.sina.com.cn/css/pctianyi/tianyi.css\">\\n<!-- cms统一排版 -->\\n<link rel=\"stylesheet\" type=\"text/css\" href=\"//n3.sinaimg.cn/default/cf7470f9/20190830/cms_style.css\">\\n<link rel=\"stylesheet\" type=\"text/css\" href=\"//finance.sina.com.cn/other/src/article-comment-2017.css\">\\n<link href=\"//news.sina.com.cn/blank/pc_news_article/article-news.css\" rel=\"stylesheet\">\\n<link rel=\"stylesheet\" type=\"text/css\" href=\"//finance.sina.com.cn/other/src/sinapagewidgets/SinaPageExread2018.css\">\\n<script src=\\'//n.sinaimg.cn/news/libs/jquery-1.11.1.min.js\\'></script>\\n<!--组件加载器-->\\n<script charset=\"utf-8\" type=\"text/javascript\" src=\"//finance.sina.com.cn/other/src/article-widgets.min.js\"></script>\\n<script type=\"text/javascript\" src=\"//www.sinaimg.cn/home/sinaflash.js\"></script>\\n\\n<script type=\"text/javascript\">\\nvar SINA_TEXT_PAGE_INFO = {\\n  entry: \\'account\\',\\n  channel: \\'gn\\',\\n  newsid: \\'comos-ihnzahi8709683\\',\\n  encoding: \\'utf-8\\',\\n\\n// 是否隐藏评论入口\\n  hideComment: false,\\n  // 是否隐藏评论列表(0,1)\\n  hideCommentList: 0,\\n\\n  // 微博分享后面的@用户uid\\n  uid: \\'2028810631\\',\\n\\n  // 文章docid，用来检测是否已收藏\\n  docID: \\'http://doc.sina.cn/?id=comos:ihnzahi8709683\\',\\n\\n  pagepubtime: \\'2019-12-19\\',\\n  difDay: 180,\\n  ADIDs: [\"PublicRelation1\",\"PublicRelation2\",\"PublicRelation3\",\"PublicRelation4\",\"PublicRelation5\",\"PublicRelation6\",\"PublicRelation7\",\"PublicRelation8\",\"PublicRelation9\",\"PublicRelation10\",\"PublicRelation11\",\"PublicRelation12\",\"PublicRelation14\",\"PublicRelation16\"],\\n\\n  // 底部微博推荐，如果没有，不填即可\\n  weiboGroupID: 35\\n};\\n</script>\\n\\t<script type=\"text/javascript\">\\n\\t\\tvar feedVersion =  2017122501;\\n\\t\\tvar $SCOPE = {\\n\\t\\t\\tSINA_COMPONENTS: {}  //为模块化使用的对象\\n\\t\\t};\\n\\t\\t//设置本页面的富媒体类型的顺序\\n        var _SINAADS_CONF_PAGE_MEDIA_ORDER = [\\n\"PDPS000000042133\", \"PDPS000000057131\"\\n];\\n\\t\\t/**\\n\\t   * 全局数据\\n\\t   * video_url 视频链接\\n\\t   * channel 频道\\n\\t   * newsid 新闻id\\n\\t   * group 默认为0\\n\\t   */\\n\\t\\tvar ARTICLE_DATA = {};\\n\\t\\twindow.newsPage = {\\n\\t\\t\\tcurrentDate : \\'20191220\\',\\n\\t\\t\\tcreField : \\'tianyi\\',\\n\\t\\t\\tmodeField : \\'pcpager_china\\',\\n\\t\\t\\tchannelInfo : {\\n\\t\\t\\t\\tid : 51922,\\t//51924-社会, 51923-国际, 51922-国内, 其他\\n\\t\\t\\t\\tname : \"国内新闻\"\\n\\t\\t\\t}\\n\\t\\t}; \\n\\t</script>\\n<!-- 360 信息流广告 相关阅读第3条 start -->\\n<script>\\nwindow.info360 = {\\n\\tinsertAd : function(node){\\n\\t\\tnode.innerHTML = \\'<ins class=\"sinaads\" data-ad-pdps=\"PDPS000000060670\" ></ins>\\';\\n\\t\\t(sinaads = window.sinaads || []).push({\\n\\t\\t\\tparams:{\\n\\t\\t\\t\\tsinaads_fail_handler : function () {\\n\\t\\t      \\t\\tvar nodeP = node.parentNode;\\n\\t              \\tnodeP.parentNode.removeChild(nodeP);\\n\\t            }\\n\\t\\t\\t}\\n\\t\\t});\\n\\t}\\n};\\n</script>\\n<!-- 360 信息流广告 相关阅读第3条 end -->\\n<meta name=\"sudameta\" content=\"dataid:comos:ihnzahi8709683\" /></head>\\n\\n<body><!-- body code begin -->\\r\\n\\r\\n<!-- SUDA_CODE_START --> \\r\\n<script type=\"text/javascript\"> \\r\\n//<!--\\r\\n(function(){var an=\"V=2.1.16\";var ah=window,F=document,s=navigator,W=s.userAgent,ao=ah.screen,j=ah.location.href;var aD=\"https:\"==ah.location.protocol?\"https://s\":\"http://\",ay=\"beacon.sina.com.cn\";var N=aD+ay+\"/a.gif?\",z=aD+ay+\"/g.gif?\",R=aD+ay+\"/f.gif?\",ag=aD+ay+\"/e.gif?\",aB=aD+\"beacon.sinauda.com/i.gif?\";var aA=F.referrer.toLowerCase();var aa=\"SINAGLOBAL\",Y=\"FSINAGLOBAL\",H=\"Apache\",P=\"ULV\",l=\"SUP\",aE=\"UOR\",E=\"_s_acc\",X=\"_s_tentry\",n=false,az=false,B=(document.domain==\"sina.com.cn\")?true:false;var o=0;var aG=false,A=false;var al=\"\";var m=16777215,Z=0,C,K=0;var r=\"\",b=\"\",a=\"\";var M=[],S=[],I=[];var u=0;var v=0;var p=\"\";var am=false;var w=false;function O(){var e=document.createElement(\"iframe\");e.src=aD+ay+\"/data.html?\"+new Date().getTime();e.id=\"sudaDataFrame\";e.style.height=\"0px\";e.style.width=\"1px\";e.style.overflow=\"hidden\";e.frameborder=\"0\";e.scrolling=\"no\";document.getElementsByTagName(\"head\")[0].appendChild(e)}function k(){var e=document.createElement(\"iframe\");e.src=aD+ay+\"/ckctl.html\";e.id=\"ckctlFrame\";e.style.height=\"0px\";e.style.width=\"1px\";e.style.overflow=\"hidden\";e.frameborder=\"0\";e.scrolling=\"no\";document.getElementsByTagName(\"head\")[0].appendChild(e)}function q(){var e=document.createElement(\"script\");e.src=aD+ay+\"/h.js\";document.getElementsByTagName(\"head\")[0].appendChild(e)}function h(aH,i){var D=F.getElementsByName(aH);var e=(i>0)?i:0;return(D.length>e)?D[e].content:\"\"}function aF(){var aJ=F.getElementsByName(\"sudameta\");var aR=[];for(var aO=0;aO<aJ.length;aO++){var aK=aJ[aO].content;if(aK){if(aK.indexOf(\";\")!=-1){var D=aK.split(\";\");for(var aH=0;aH<D.length;aH++){var aP=aw(D[aH]);if(!aP){continue}aR.push(aP)}}else{aR.push(aK)}}}var aM=F.getElementsByTagName(\"meta\");for(var aO=0,aI=aM.length;aO<aI;aO++){var aN=aM[aO];if(aN.name==\"tags\"){aR.push(\"content_tags:\"+encodeURI(aN.content))}}var aL=t(\"vjuids\");aR.push(\"vjuids:\"+aL);var e=\"\";var aQ=j.indexOf(\"#\");if(aQ!=-1){e=escape(j.substr(aQ+1));aR.push(\"hashtag:\"+e)}return aR}function V(aK,D,aI,aH){if(aK==\"\"){return\"\"}aH=(aH==\"\")?\"=\":aH;D+=aH;var aJ=aK.indexOf(D);if(aJ<0){return\"\"}aJ+=D.length;var i=aK.indexOf(aI,aJ);if(i<aJ){i=aK.length}return aK.substring(aJ,i)}function t(e){if(undefined==e||\"\"==e){return\"\"}return V(F.cookie,e,\";\",\"\")}function at(aI,e,i,aH){if(e!=null){if((undefined==aH)||(null==aH)){aH=\"sina.com.cn\"}if((undefined==i)||(null==i)||(\"\"==i)){F.cookie=aI+\"=\"+e+\";domain=\"+aH+\";path=/\"}else{var D=new Date();var aJ=D.getTime();aJ=aJ+86400000*i;D.setTime(aJ);aJ=D.getTime();F.cookie=aI+\"=\"+e+\";domain=\"+aH+\";expires=\"+D.toUTCString()+\";path=/\"}}}function f(D){try{var i=document.getElementById(\"sudaDataFrame\").contentWindow.storage;return i.get(D)}catch(aH){return false}}function ar(D,aH){try{var i=document.getElementById(\"sudaDataFrame\").contentWindow.storage;i.set(D,aH);return true}catch(aI){return false}}function L(){var aJ=15;var D=window.SUDA.etag;if(!B){return\"-\"}if(u==0){O();q()}if(D&&D!=undefined){w=true}ls_gid=f(aa);if(ls_gid===false||w==false){return false}else{am=true}if(ls_gid&&ls_gid.length>aJ){at(aa,ls_gid,3650);n=true;return ls_gid}else{if(D&&D.length>aJ){at(aa,D,3650);az=true}var i=0,aI=500;var aH=setInterval((function(){var e=t(aa);if(w){e=D}i+=1;if(i>3){clearInterval(aH)}if(e.length>aJ){clearInterval(aH);ar(aa,e)}}),aI);return w?D:t(aa)}}function U(e,aH,D){var i=e;if(i==null){return false}aH=aH||\"click\";if((typeof D).toLowerCase()!=\"function\"){return}if(i.attachEvent){i.attachEvent(\"on\"+aH,D)}else{if(i.addEventListener){i.addEventListener(aH,D,false)}else{i[\"on\"+aH]=D}}return true}function af(){if(window.event!=null){return window.event}else{if(window.event){return window.event}var D=arguments.callee.caller;var i;var aH=0;while(D!=null&&aH<40){i=D.arguments[0];if(i&&(i.constructor==Event||i.constructor==MouseEvent||i.constructor==KeyboardEvent)){return i}aH++;D=D.caller}return i}}function g(i){i=i||af();if(!i.target){i.target=i.srcElement;i.pageX=i.x;i.pageY=i.y}if(typeof i.layerX==\"undefined\"){i.layerX=i.offsetX}if(typeof i.layerY==\"undefined\"){i.layerY=i.offsetY}return i}function aw(aH){if(typeof aH!==\"string\"){throw\"trim need a string as parameter\"}var e=aH.length;var D=0;var i=/(\\\\u3000|\\\\s|\\\\t|\\\\u00A0)/;while(D<e){if(!i.test(aH.charAt(D))){break}D+=1}while(e>D){if(!i.test(aH.charAt(e-1))){break}e-=1}return aH.slice(D,e)}function c(e){return Object.prototype.toString.call(e)===\"[object Array]\"}function J(aH,aL){var aN=aw(aH).split(\"&\");var aM={};var D=function(i){if(aL){try{return decodeURIComponent(i)}catch(aP){return i}}else{return i}};for(var aJ=0,aK=aN.length;aJ<aK;aJ++){if(aN[aJ]){var aI=aN[aJ].split(\"=\");var e=aI[0];var aO=aI[1];if(aI.length<2){aO=e;e=\"$nullName\"}if(!aM[e]){aM[e]=D(aO)}else{if(c(aM[e])!=true){aM[e]=[aM[e]]}aM[e].push(D(aO))}}}return aM}function ac(D,aI){for(var aH=0,e=D.length;aH<e;aH++){aI(D[aH],aH)}}function ak(i){var e=new RegExp(\"^http(?:s)?://([^/]+)\",\"im\");if(i.match(e)){return i.match(e)[1].toString()}else{return\"\"}}function aj(aO){try{var aL=\"ABCDEFGHIJKLMNOPQRSTUVWXYZabcdefghijklmnopqrstuvwxyz0123456789+/=\";var D=\"ABCDEFGHIJKLMNOPQRSTUVWXYZabcdefghijklmnopqrstuvwxyz0123456789-_=\";var aQ=function(e){var aR=\"\",aS=0;for(;aS<e.length;aS++){aR+=\"%\"+aH(e[aS])}return decodeURIComponent(aR)};var aH=function(e){var i=\"0\"+e.toString(16);return i.length<=2?i:i.substr(1)};var aP=function(aY,aV,aR){if(typeof(aY)==\"string\"){aY=aY.split(\"\")}var aX=function(a7,a9){for(var a8=0;a8<a7.length;a8++){if(a7[a8]==a9){return a8}}return -1};var aS=[];var a6,a4,a1=\"\";var a5,a3,a0,aZ=\"\";if(aY.length%4!=0){}var e=/[^A-Za-z0-9\\\\+\\\\/\\\\=]/g;var a2=aL.split(\"\");if(aV==\"urlsafe\"){e=/[^A-Za-z0-9\\\\-_\\\\=]/g;a2=D.split(\"\")}var aU=0;if(aV==\"binnary\"){a2=[];for(aU=0;aU<=64;aU++){a2[aU]=aU+128}}if(aV!=\"binnary\"&&e.exec(aY.join(\"\"))){return aR==\"array\"?[]:\"\"}aU=0;do{a5=aX(a2,aY[aU++]);a3=aX(a2,aY[aU++]);a0=aX(a2,aY[aU++]);aZ=aX(a2,aY[aU++]);a6=(a5<<2)|(a3>>4);a4=((a3&15)<<4)|(a0>>2);a1=((a0&3)<<6)|aZ;aS.push(a6);if(a0!=64&&a0!=-1){aS.push(a4)}if(aZ!=64&&aZ!=-1){aS.push(a1)}a6=a4=a1=\"\";a5=a3=a0=aZ=\"\"}while(aU<aY.length);if(aR==\"array\"){return aS}var aW=\"\",aT=0;for(;aT<aS.lenth;aT++){aW+=String.fromCharCode(aS[aT])}return aW};var aI=[];var aN=aO.substr(0,3);var aK=aO.substr(3);switch(aN){case\"v01\":for(var aJ=0;aJ<aK.length;aJ+=2){aI.push(parseInt(aK.substr(aJ,2),16))}return decodeURIComponent(aQ(aP(aI,\"binnary\",\"array\")));break;case\"v02\":aI=aP(aK,\"urlsafe\",\"array\");return aQ(aP(aI,\"binnary\",\"array\"));break;default:return decodeURIComponent(aO)}}catch(aM){return\"\"}}var ap={screenSize:function(){return(m&8388608==8388608)?ao.width+\"x\"+ao.height:\"\"},colorDepth:function(){return(m&4194304==4194304)?ao.colorDepth:\"\"},appCode:function(){return(m&2097152==2097152)?s.appCodeName:\"\"},appName:function(){return(m&1048576==1048576)?((s.appName.indexOf(\"Microsoft Internet Explorer\")>-1)?\"MSIE\":s.appName):\"\"},cpu:function(){return(m&524288==524288)?(s.cpuClass||s.oscpu):\"\"},platform:function(){return(m&262144==262144)?(s.platform):\"\"},jsVer:function(){if(m&131072!=131072){return\"\"}var aI,e,aK,D=1,aH=0,i=(s.appName.indexOf(\"Microsoft Internet Explorer\")>-1)?\"MSIE\":s.appName,aJ=s.appVersion;if(\"MSIE\"==i){e=\"MSIE\";aI=aJ.indexOf(e);if(aI>=0){aK=window.parseInt(aJ.substring(aI+5));if(3<=aK){D=1.1;if(4<=aK){D=1.3}}}}else{if((\"Netscape\"==i)||(\"Opera\"==i)||(\"Mozilla\"==i)){D=1.3;e=\"Netscape6\";aI=aJ.indexOf(e);if(aI>=0){D=1.5}}}return D},network:function(){if(m&65536!=65536){return\"\"}var i=\"\";i=(s.connection&&s.connection.type)?s.connection.type:i;try{F.body.addBehavior(\"#default#clientCaps\");i=F.body.connectionType}catch(D){i=\"unkown\"}return i},language:function(){return(m&32768==32768)?(s.systemLanguage||s.language):\"\"},timezone:function(){return(m&16384==16384)?(new Date().getTimezoneOffset()/60):\"\"},flashVer:function(){if(m&8192!=8192){return\"\"}var aK=s.plugins,aH,aL,aN;if(aK&&aK.length){for(var aJ in aK){aL=aK[aJ];if(aL.description==null){continue}if(aH!=null){break}aN=aL.description.toLowerCase();if(aN.indexOf(\"flash\")!=-1){aH=aL.version?parseInt(aL.version):aN.match(/\\\\d+/);continue}}}else{if(window.ActiveXObject){for(var aI=10;aI>=2;aI--){try{var D=new ActiveXObject(\"ShockwaveFlash.ShockwaveFlash.\"+aI);if(D){aH=aI;break}}catch(aM){}}}else{if(W.indexOf(\"webtv/2.5\")!=-1){aH=3}else{if(W.indexOf(\"webtv\")!=-1){aH=2}}}}return aH},javaEnabled:function(){if(m&4096!=4096){return\"\"}var D=s.plugins,i=s.javaEnabled(),aH,aI;if(i==true){return 1}if(D&&D.length){for(var e in D){aH=D[e];if(aH.description==null){continue}if(i!=null){break}aI=aH.description.toLowerCase();if(aI.indexOf(\"java plug-in\")!=-1){i=parseInt(aH.version);continue}}}else{if(window.ActiveXObject){i=(new ActiveXObject(\"JavaWebStart.IsInstalled\")!=null)}}return i?1:0}};var ad={pageId:function(i){var D=i||r,aK=\"-9999-0-0-1\";if((undefined==D)||(\"\"==D)){try{var aH=h(\"publishid\");if(\"\"!=aH){var aJ=aH.split(\",\");if(aJ.length>0){if(aJ.length>=3){aK=\"-9999-0-\"+aJ[1]+\"-\"+aJ[2]}D=aJ[0]}}else{D=\"0\"}}catch(aI){D=\"0\"}D=D+aK}return D},sessionCount:function(){var e=t(\"_s_upa\");if(e==\"\"){e=0}return e},excuteCount:function(){return SUDA.sudaCount},referrer:function(){if(m&2048!=2048){return\"\"}var e=/^[^\\\\?&#]*.swf([\\\\?#])?/;if((aA==\"\")||(aA.match(e))){var i=V(j,\"ref\",\"&\",\"\");if(i!=\"\"){return escape(i)}}return escape(aA)},isHomepage:function(){if(m&1024!=1024){return\"\"}var D=\"\";try{F.body.addBehavior(\"#default#homePage\");D=F.body.isHomePage(j)?\"Y\":\"N\"}catch(i){D=\"unkown\"}return D},PGLS:function(){return(m&512==512)?h(\"stencil\"):\"\"},ZT:function(){if(m&256!=256){return\"\"}var e=h(\"subjectid\");e.replace(\",\",\".\");e.replace(\";\",\",\");return escape(e)},mediaType:function(){return(m&128==128)?h(\"mediaid\"):\"\"},domCount:function(){return(m&64==64)?F.getElementsByTagName(\"*\").length:\"\"},iframeCount:function(){return(m&32==32)?F.getElementsByTagName(\"iframe\").length:\"\"}};var av={visitorId:function(){var i=15;var e=t(aa);if(e.length>i&&u==0){return e}else{return}},fvisitorId:function(e){if(!e){var e=t(Y);return e}else{at(Y,e,3650)}},sessionId:function(){var e=t(H);if(\"\"==e){var i=new Date();e=Math.random()*10000000000000+\".\"+i.getTime()}return e},flashCookie:function(e){if(e){}else{return p}},lastVisit:function(){var D=t(H);var aI=t(P);var aH=aI.split(\":\");var aJ=\"\",i;if(aH.length>=6){if(D!=aH[4]){i=new Date();var e=new Date(window.parseInt(aH[0]));aH[1]=window.parseInt(aH[1])+1;if(i.getMonth()!=e.getMonth()){aH[2]=1}else{aH[2]=window.parseInt(aH[2])+1}if(((i.getTime()-e.getTime())/86400000)>=7){aH[3]=1}else{if(i.getDay()<e.getDay()){aH[3]=1}else{aH[3]=window.parseInt(aH[3])+1}}aJ=aH[0]+\":\"+aH[1]+\":\"+aH[2]+\":\"+aH[3];aH[5]=aH[0];aH[0]=i.getTime();at(P,aH[0]+\":\"+aH[1]+\":\"+aH[2]+\":\"+aH[3]+\":\"+D+\":\"+aH[5],360)}else{aJ=aH[5]+\":\"+aH[1]+\":\"+aH[2]+\":\"+aH[3]}}else{i=new Date();aJ=\":1:1:1\";at(P,i.getTime()+aJ+\":\"+D+\":\",360)}return aJ},userNick:function(){if(al!=\"\"){return al}var D=unescape(t(l));if(D!=\"\"){var i=V(D,\"ag\",\"&\",\"\");var e=V(D,\"user\",\"&\",\"\");var aH=V(D,\"uid\",\"&\",\"\");var aJ=V(D,\"sex\",\"&\",\"\");var aI=V(D,\"dob\",\"&\",\"\");al=i+\":\"+e+\":\"+aH+\":\"+aJ+\":\"+aI;return al}else{return\"\"}},userOrigin:function(){if(m&4!=4){return\"\"}var e=t(aE);var i=e.split(\":\");if(i.length>=2){return i[0]}else{return\"\"}},advCount:function(){return(m&2==2)?t(E):\"\"},setUOR:function(){var aL=t(aE),aP=\"\",i=\"\",aO=\"\",aI=\"\",aM=j.toLowerCase(),D=F.referrer.toLowerCase();var aQ=/[&|?]c=spr(_[A-Za-z0-9]{1,}){3,}/;var aK=new Date();if(aM.match(aQ)){aO=aM.match(aQ)[0]}else{if(D.match(aQ)){aO=D.match(aQ)[0]}}if(aO!=\"\"){aO=aO.substr(3)+\":\"+aK.getTime()}if(aL==\"\"){if(t(P)==\"\"){aP=ak(D);i=ak(aM)}at(aE,aP+\",\"+i+\",\"+aO,365)}else{var aJ=0,aN=aL.split(\",\");if(aN.length>=1){aP=aN[0]}if(aN.length>=2){i=aN[1]}if(aN.length>=3){aI=aN[2]}if(aO!=\"\"){aJ=1}else{var aH=aI.split(\":\");if(aH.length>=2){var e=new Date(window.parseInt(aH[1]));if(e.getTime()<(aK.getTime()-86400000*30)){aJ=1}}}if(aJ){at(aE,aP+\",\"+i+\",\"+aO,365)}}},setAEC:function(e){if(\"\"==e){return}var i=t(E);if(i.indexOf(e+\",\")<0){i=i+e+\",\"}at(E,i,7)},ssoInfo:function(){var D=unescape(aj(t(\"sso_info\")));if(D!=\"\"){if(D.indexOf(\"uid=\")!=-1){var i=V(D,\"uid\",\"&\",\"\");return escape(\"uid:\"+i)}else{var e=V(D,\"u\",\"&\",\"\");return escape(\"u:\"+unescape(e))}}else{return\"\"}},subp:function(){return t(\"SUBP\")}};var ai={CI:function(){var e=[\"sz:\"+ap.screenSize(),\"dp:\"+ap.colorDepth(),\"ac:\"+ap.appCode(),\"an:\"+ap.appName(),\"cpu:\"+ap.cpu(),\"pf:\"+ap.platform(),\"jv:\"+ap.jsVer(),\"ct:\"+ap.network(),\"lg:\"+ap.language(),\"tz:\"+ap.timezone(),\"fv:\"+ap.flashVer(),\"ja:\"+ap.javaEnabled()];return\"CI=\"+e.join(\"|\")},PI:function(e){var i=[\"pid:\"+ad.pageId(e),\"st:\"+ad.sessionCount(),\"et:\"+ad.excuteCount(),\"ref:\"+ad.referrer(),\"hp:\"+ad.isHomepage(),\"PGLS:\"+ad.PGLS(),\"ZT:\"+ad.ZT(),\"MT:\"+ad.mediaType(),\"keys:\",\"dom:\"+ad.domCount(),\"ifr:\"+ad.iframeCount()];return\"PI=\"+i.join(\"|\")},UI:function(){var e=[\"vid:\"+av.visitorId(),\"sid:\"+av.sessionId(),\"lv:\"+av.lastVisit(),\"un:\"+av.userNick(),\"uo:\"+av.userOrigin(),\"ae:\"+av.advCount(),\"lu:\"+av.fvisitorId(),\"si:\"+av.ssoInfo(),\"rs:\"+(n?1:0),\"dm:\"+(B?1:0),\"su:\"+av.subp()];return\"UI=\"+e.join(\"|\")},EX:function(i,e){if(m&1!=1){return\"\"}i=(null!=i)?i||\"\":b;e=(null!=e)?e||\"\":a;return\"EX=ex1:\"+i+\"|ex2:\"+e},MT:function(){return\"MT=\"+aF().join(\"|\")},V:function(){return an},R:function(){return\"gUid_\"+new Date().getTime()}};function ax(){var aK=\"-\",aH=F.referrer.toLowerCase(),D=j.toLowerCase();if(\"\"==t(X)){if(\"\"!=aH){aK=ak(aH)}at(X,aK,\"\",\"weibo.com\")}var aI=/weibo.com\\\\/reg.php/;if(D.match(aI)){var aJ=V(unescape(D),\"sharehost\",\"&\",\"\");var i=V(unescape(D),\"appkey\",\"&\",\"\");if(\"\"!=aJ){at(X,aJ,\"\",\"weibo.com\")}at(\"appkey\",i,\"\",\"weibo.com\")}}function d(e,i){G(e,i)}function G(i,D){D=D||{};var e=new Image(),aH;if(D&&D.callback&&typeof D.callback==\"function\"){e.onload=function(){clearTimeout(aH);aH=null;D.callback(true)}}SUDA.img=e;e.src=i;aH=setTimeout(function(){if(D&&D.callback&&typeof D.callback==\"function\"){D.callback(false);e.onload=null}},D.timeout||2000)}function x(e,aH,D,aI){SUDA.sudaCount++;if(!av.visitorId()&&!L()){if(u<3){u++;setTimeout(x,500);return}}var i=N+[ai.V(),ai.CI(),ai.PI(e),ai.UI(),ai.MT(),ai.EX(aH,D),ai.R()].join(\"&\");G(i,aI)}function y(e,D,i){if(aG||A){return}if(SUDA.sudaCount!=0){return}x(e,D,i)}function ab(e,aH){if((\"\"==e)||(undefined==e)){return}av.setAEC(e);if(0==aH){return}var D=\"AcTrack||\"+t(aa)+\"||\"+t(H)+\"||\"+av.userNick()+\"||\"+e+\"||\";var i=ag+D+\"&gUid_\"+new Date().getTime();d(i)}function aq(aI,e,i,aJ){aJ=aJ||{};if(!i){i=\"\"}else{i=escape(i)}var aH=\"UATrack||\"+t(aa)+\"||\"+t(H)+\"||\"+av.userNick()+\"||\"+aI+\"||\"+e+\"||\"+ad.referrer()+\"||\"+i+\"||\"+(aJ.realUrl||\"\")+\"||\"+(aJ.ext||\"\");var D=ag+aH+\"&gUid_\"+new Date().getTime();d(D,aJ)}function aC(aK){var i=g(aK);var aI=i.target;var aH=\"\",aL=\"\",D=\"\";var aJ;if(aI!=null&&aI.getAttribute&&(!aI.getAttribute(\"suda-uatrack\")&&!aI.getAttribute(\"suda-actrack\")&&!aI.getAttribute(\"suda-data\"))){while(aI!=null&&aI.getAttribute&&(!!aI.getAttribute(\"suda-uatrack\")||!!aI.getAttribute(\"suda-actrack\")||!!aI.getAttribute(\"suda-data\"))==false){if(aI==F.body){return}aI=aI.parentNode}}if(aI==null||aI.getAttribute==null){return}aH=aI.getAttribute(\"suda-actrack\")||\"\";aL=aI.getAttribute(\"suda-uatrack\")||aI.getAttribute(\"suda-data\")||\"\";sudaUrls=aI.getAttribute(\"suda-urls\")||\"\";if(aL){aJ=J(aL);if(aI.tagName.toLowerCase()==\"a\"){D=aI.href}opts={};opts.ext=(aJ.ext||\"\");aJ.key&&SUDA.uaTrack&&SUDA.uaTrack(aJ.key,aJ.value||aJ.key,D,opts)}if(aH){aJ=J(aH);aJ.key&&SUDA.acTrack&&SUDA.acTrack(aJ.key,aJ.value||aJ.key)}}if(window.SUDA&&Object.prototype.toString.call(window.SUDA)===\"[object Array]\"){for(var Q=0,ae=SUDA.length;Q<ae;Q++){switch(SUDA[Q][0]){case\"setGatherType\":m=SUDA[Q][1];break;case\"setGatherInfo\":r=SUDA[Q][1]||r;b=SUDA[Q][2]||b;a=SUDA[Q][3]||a;break;case\"setPerformance\":Z=SUDA[Q][1];break;case\"setPerformanceFilter\":C=SUDA[Q][1];break;case\"setPerformanceInterval\":K=SUDA[Q][1]*1||0;K=isNaN(K)?0:K;break;case\"setGatherMore\":M.push(SUDA[Q].slice(1));break;case\"acTrack\":S.push(SUDA[Q].slice(1));break;case\"uaTrack\":I.push(SUDA[Q].slice(1));break}}}aG=(function(D,i){if(ah.top==ah){return false}else{try{if(F.body.clientHeight==0){return false}return((F.body.clientHeight>=D)&&(F.body.clientWidth>=i))?false:true}catch(aH){return true}}})(320,240);A=(function(){return false})();av.setUOR();var au=av.sessionId();window.SUDA=window.SUDA||[];SUDA.sudaCount=SUDA.sudaCount||0;SUDA.log=function(){x.apply(null,arguments)};SUDA.acTrack=function(){ab.apply(null,arguments)};SUDA.uaTrack=function(){aq.apply(null,arguments)};U(F.body,\"click\",aC);window.GB_SUDA=SUDA;GB_SUDA._S_pSt=function(){};GB_SUDA._S_acTrack=function(){ab.apply(null,arguments)};GB_SUDA._S_uaTrack=function(){aq.apply(null,arguments)};window._S_pSt=function(){};window._S_acTrack=function(){ab.apply(null,arguments)};window._S_uaTrack=function(){aq.apply(null,arguments)};window._S_PID_=\"\";if(!window.SUDA.disableClickstream){y()}try{k()}catch(T){}})();\\r\\n//-->\\r\\n</script> \\r\\n<noScript> \\r\\n<div style=\\'position:absolute;top:0;left:0;width:0;height:0;visibility:hidden\\'><img width=0 height=0 src=\\'//beacon.sina.com.cn/a.gif?noScript\\' border=\\'0\\' alt=\\'\\' /></div> \\r\\n</noScript> \\r\\n<!-- SUDA_CODE_END -->\\r\\n\\r\\n<!-- SSO_GETCOOKIE_START -->\\r\\n<script type=\"text/javascript\">var sinaSSOManager=sinaSSOManager||{};sinaSSOManager.getSinaCookie=function(){function dc(u){if(u==undefined){return\"\"}var decoded=decodeURIComponent(u);return decoded==\"null\"?\"\":decoded}function ps(str){var arr=str.split(\"&\");var arrtmp;var arrResult={};for(var i=0;i<arr.length;i++){arrtmp=arr[i].split(\"=\");arrResult[arrtmp[0]]=dc(arrtmp[1])}return arrResult}function gC(name){var Res=eval(\"/\"+name+\"=([^;]+)/\").exec(document.cookie);return Res==null?null:Res[1]}var sup=dc(gC(\"SUP\"));if(!sup){sup=dc(gC(\"SUR\"))}if(!sup){return null}return ps(sup)};</script>\\r\\n<!-- SSO_GETCOOKIE_END -->\\r\\n\\r\\n<script type=\"text/javascript\">new function(r,s,t){this.a=function(n,t,e){if(window.addEventListener){n.addEventListener(t,e,false);}else if(window.attachEvent){n.attachEvent(\"on\"+t,e);}};this.b=function(f){var t=this;return function(){return f.apply(t,arguments);};};this.c=function(){var f=document.getElementsByTagName(\"form\");for(var i=0;i<f.length;i++){var o=f[i].action;if(this.r.test(o)){f[i].action=o.replace(this.r,this.s);}}};this.r=r;this.s=s;this.d=setInterval(this.b(this.c),t);this.a(window,\"load\",this.b(function(){this.c();clearInterval(this.d);}));}(/http:\\\\/\\\\/www\\\\.google\\\\.c(om|n)\\\\/search/, \"http://keyword.sina.com.cn/searchword.php\", 250);</script>\\r\\n<!-- body code end -->\\r\\n\\n<!-- import sinaads.js start-->\\n    <script>(function(d,s,id){var s,n=d.getElementsByTagName(s)[0];if(d.getElementById(id))return;s=d.createElement(s);s.id=id;s.setAttribute(\\'charset\\',\\'utf-8\\');s.src=\\'//d\\'+Math.floor(0+Math.random()*(9-0+1))+\\'.sina.com.cn/litong/zhitou/sinaads/release/sinaads.js\\';n.parentNode.insertBefore(s,n);})(document,\\'script\\',\\'sinaads-script\\');</script>\\n<!-- import sinaads.js end-->\\n<!--主导航-->\\n<div class=\"sina-header\" id=\"sina-header\">\\n    <div class=\"sina-header-inner\">\\n        <div class=\"sina-nav\">\\n            <ul class=\"nav-list\">\\n                <li class=\"first\" data-sudaclick=\"nav_home_p\"><a href=\"http://www.sina.com.cn/\">新浪首页</a></li>\\n                <li data-sudaclick=\"nav_news_p\"><a href=\"http://news.sina.com.cn/\">新闻</a></li>\\n                <li data-sudaclick=\"nav_sports_p\"><a href=\"http://sports.sina.com.cn/\">体育</a></li>\\n                <li data-sudaclick=\"nav_finance_p\"><a href=\"http://finance.sina.com.cn/\">财经</a></li>\\n                <li data-sudaclick=\"nav_ent_p\"><a href=\"http://ent.sina.com.cn/\">娱乐</a></li>\\n                <li data-sudaclick=\"nav_tech_p\"><a href=\"http://tech.sina.com.cn/\">科技</a></li>\\n                <li data-sudaclick=\"nav_blog_p\"><a href=\"http://blog.sina.com.cn/\">博客</a></li>\\n                <li data-sudaclick=\"nav_photo_p\"><a href=\"http://photo.sina.com.cn/\">图片</a></li>\\n                <li data-sudaclick=\"nav_zhuanlan_p\"><a href=\"http://zhuanlan.sina.com.cn/\">专栏</a></li>\\n                <li class=\"last\" data-sudaclick=\"topnav_more\"><a href=\"#\" class=\"more\" data-action=\"dropdown\" data-target=\"more\">更多<i class=\"icon icon-arrow\"></i></a></li>\\n                <!--鼠标滑过更多<a>标签添加class=\"sina15-on\"-->\\n            </ul>\\n            <ul id=\"more\" class=\"nav-others\">\\n                <li><a data-sudaclick=\"nav_auto_p\" href=\"http://auto.sina.com.cn/\">汽车</a><a data-sudaclick=\"nav_edu_p\" href=\"http://edu.sina.com.cn/\">教育</a><a data-sudaclick=\"nav_fashion_p\" href=\"http://fashion.sina.com.cn/\">时尚</a><a data-sudaclick=\"nav_eladies_p\" href=\"http://eladies.sina.com.cn/\">女性</a><a data-sudaclick=\"nav_astro_p\" href=\"http://astro.sina.com.cn/\">星座</a><a data-sudaclick=\"nav_health_p\" href=\"http://health.sina.com.cn/\">健康</a></li>\\n                <li><a data-sudaclick=\"nav_leju_p\" href=\"http://www.leju.com/#source=pc_sina_dbdh1&source_ext=pc_sina\">房产</a><a data-sudaclick=\"nav_history_p\"  href=\"http://history.sina.com.cn/\">历史</a><a data-sudaclick=\"nav_video_p\" href=\"http://video.sina.com.cn/\">视频</a><a data-sudaclick=\"nav_collection_p\" href=\"http://collection.sina.com.cn/\">收藏</a><a data-sudaclick=\"nav_baby_p\" href=\"http://baby.sina.com.cn/\">育儿</a><a data-sudaclick=\"nav_book_p\" href=\"http://book.sina.com.cn/\">读书</a></li>\\n                <li class=\"nav-others-last\"><a data-sudaclick=\"nav_fo_p\" href=\"http://fo.sina.com.cn/\">佛学</a><a data-sudaclick=\"nav_games_p\" href=\"http://games.sina.com.cn/\">游戏</a><a data-sudaclick=\"nav_travel_p\" href=\"http://travel.sina.com.cn/\">旅游</a><a data-sudaclick=\"nav_mail_p\" href=\"http://mail.sina.com.cn/\">邮箱</a><a data-sudaclick=\"nav_guide_p\" href=\"http://news.sina.com.cn/guide/\">导航</a></li>\\n            </ul>\\n        </div>\\n        <!--通行证组件start-->\\n        <div class=\"sina-client\">\\n            <div class=\"sina-client-tl\">\\n                <a class=\"more\" href=\"#\" data-action=\"dropdown\" data-target=\"mobileclient\">移动客户端<i class=\"icon icon-arrow\"></i></a>\\n            </div>\\n            <ul id=\"mobileclient\" class=\"dropdown\">\\n                <li><a data-sudaclick=\"nav_app_weibo_p\" href=\"http://m.sina.com.cn/m/weibo.shtml\" target=\"_blank\"><i class=\"ico-client ico-weibo\"></i>新浪微博</a></li>\\n                <li><a data-sudaclick=\"nav_app_news_p\" href=\"http://news.sina.com.cn/m/sinanews.html\" target=\"_blank\"><i class=\"ico-client ico-news\"></i>新浪新闻</a></li>\\n\\t\\t\\t\\t<li><a data-sudaclick=\"nav_app_finance_p\" suda-uatrack=\"key=finapp_pc&value=nav\" href=\"http://finance.sina.com.cn/mobile/comfinanceweb.shtml?source=daohang01\" target=\"_blank\"><i class=\"ico-client ico-finance\"></i>新浪财经</a></li>\\n                <li><a data-sudaclick=\"nav_app_sports_p\" href=\"http://m.sina.com.cn/m/sinasports.shtml\" target=\"_blank\"><i class=\"ico-client ico-sports\"></i>新浪体育</a></li>\\n\\t\\t\\t\\t<li><a href=\"http://zhongce.sina.com.cn/about/app\" target=\"_blank\" data-sudaclick=\"nav_app_zhongce_p\"><i class=\"ico-client ico-zhongce\"></i>新浪众测</a></li>\\n                <li><a data-sudaclick=\"nav_app_blog_p\" href=\"http://blog.sina.com.cn/lm/z/app/\" target=\"_blank\"><i class=\"ico-client ico-blog\"></i>新浪博客</a></li>\\n                <li><a data-sudaclick=\"nav_app_video_p\" href=\"http://video.sina.com.cn/app\" target=\"_blank\"><i class=\"ico-client ico-video\"></i>新浪视频</a></li>\\n                <li><a data-sudaclick=\"nav_app_game_p\" href=\"http://games.sina.com.cn/o/kb/12392.shtml\" target=\"_blank\"><i class=\"ico-client ico-games\"></i>新浪游戏</a></li>\\n                <li><a data-sudaclick=\"nav_app_weather_p\" href=\"http://m.sina.com.cn/m/weather.shtml\" target=\"_blank\"><i class=\"ico-client ico-weather\"></i>天气通</a></li>\\n            </ul>\\n        </div>\\n        <!-- 我的收藏start -->\\n        <div class=\"my-favor\" id=\"my_favor\" style=\"display:none;\">\\n            <a data-sudaclick=\"nav_myfav_p\" href=\"http://my.sina.com.cn/#location=fav\" target=\"_blank\"><i></i>我的收藏</a>\\n        </div>\\n\\n        <!-- 我的收藏end -->\\n        <div id=\"SI_User\" class=\"TAP14\">\\n            <div class=\"ac-rgst\"><a data-sudaclick=\"nav_passport_i\" href=\"https://login.sina.com.cn/signup/signup?entry=news\" class=\"msg-link\" target=\"_blank\">注册</a></div>\\n            <div class=\"ac-login\">\\n                <div class=\"ac-login-cnt \" data-sudaclick=\"nav_passport_i\"><a href=\"#\" class=\"\" data-sudaclick=\"nav_login_i\"><span class=\"thumb\"><img src=\"//i.sso.sina.com.cn/images/login/thumb_default.png\"></span><span class=\"log-links\">登录</span></a></div>\\n            </div>\\n        </div>\\n\\n    </div>\\n</div>\\n<!--/主导航-->\\n<!--页面顶导 end-->\\n\\n<!-- main content start -->\\n<div class=\"main-content w1240\">\\n\\t\\t<!-- 顶部通栏广告 start -->\\n\\t<div class=\"top-banner clearfix\">\\n\\t<!-- top ad start -->\\n\\t<div class=\"tb-left\">\\n\\t\\t<!--顶部1000*90通栏  国内  2017/11  wenjing8  begin-->\\n\\t\\t<ins class=\"sinaads\" data-ad-pdps=\"PDPS000000055137\"></ins>\\n\\t\\t<script>(sinaads = window.sinaads || []).push({});</script>\\n\\t\\t\\t</div>\\n\\t<!-- top ad end -->\\n\\t<div class=\"tb-right clearfix\">\\n\\t\\t<span class=\\'app-logo\\'><img src=\"//n.sinaimg.cn/finance/page/ent/images/sina_logo.png\" width=\"51\" height=\"76\" alt=\"新浪新闻客户端\" /></span>\\n\\t\\t<span class=\\'app-code\\'><img src=\"//n.sinaimg.cn/finance/page/ent/images/qrcode01.png\" width=\"74\" height=\"75\" alt=\"新浪新闻客户端\" /></span>\\n\\t</div>\\n</div>\\n    <!-- 顶部通栏广告 end -->\\n\\t\\t<!-- 面包削 search start -->\\n\\t<!--cID=51922, colID=51922, subCID=51922, thirdCID=third_cid, final=51922 BoYan -->\\t<div class=\"path-search\" data-sudaclick=\"cnav_breadcrumbs_p\">\\n        <div class=\"path\">\\n\\t\\t\\t<h1 class=\"channel-logo\"><a data-sudaclick=\"cnav_logo_news_p\" href=\"https://news.sina.com.cn/\" target=\"_blank\"><span>新闻中心</span></a></h1>\\n           \\n            <div class=\"channel-path\"  data-sudaclick=\"cnav_breadcrumbs_p\">\\n\\t\\t\\t\\t\\n                <!--\\n\\t\\t\\t\\t<a href=\"\">新浪新闻</a><span class=\"spliter\">></span>\\n\\t\\t\\t\\t-->\\n                <a href=\"http://news.sina.com.cn/china/\"> 国内新闻</a><span class=\"spliter\">></span><span>正文</span> <span class=\"bread-spliter\">&gt;</span> <a href=\"https://news.sina.com.cn/zt_nys/aomen20\">庆祝澳门回归20周年</a>            </div>\\n        </div>\\n        <div class=\"search ent-search\" id=\\'ent_search\\' data-sudaclick=\"cnav_search_p\"  style=\"\">\\n            <form action=\"//search.sina.com.cn/\" name=\"cheadSearchForm\" id=\"all_search\" method=\"get\"\\n                  target=\"_blank\" style=\"position: relative;\">\\n                <select name=\"c\" id=\"search_type\" style=\"visibility: hidden;\">\\n                    <option value=\"news\">新闻</option>\\n                    <option value=\"img\">图片</option>\\n                    <option value=\"blog\">博客</option>\\n                    <option value=\"video\">视频</option>\\n                </select>\\n                <input type=\"hidden\" name=\"ie\" value=\"utf-8\">\\n                <div class=\"search_div\">\\n                    <input type=\"text\" id=\"search_input\" name=\"q\" value=\"请输入关键词\" onfocus=\"if(this.value == \\'请输入关键词\\') this.value = \\'\\'\" onblur=\"if(this.value ==\\'\\') this.value = \\'请输入关键词\\'\" autocomplete=\"off\"><input type=\"submit\" id=\"search_submit\" value=\"\">\\n                </div>\\n            </form>\\n        </div>\\n    </div>\\n\\t<!-- 面包削 search end -->\\n\\t\\n\\t<h1 class=\"main-title\">澳门人足年丰有余庆 央视主播这样说</h1>\\n\\t<!-- page-tools start -->\\n\\t<style type=\"text/css\">\\n\\t.top-bar-inner .second-title{font-size: 18px;width: 600px;}\\n\\t@media screen and (min-width:768px) and (max-width:1480px){\\n\\t\\t.top-bar-inner .second-title{width: 400px;}\\n\\t}\\n</style>\\n<div class=\\'top-bar-wrap\\' id=\\'top_bar_wrap\\'>\\n\\t<div class=\"top-bar ani\" id=\\'top_bar\\'>\\n\\t\\t<div class=\"top-bar-inner clearfix\">\\n\\t\\t\\t<div class=\"second-title\">澳门人足年丰有余庆 央视主播这样说</div>\\n\\t\\t\\t<div class=\"date-source\" data-sudaclick=\"share_1-0\">\\n\\t\\t\\t\\t<span class=\"date\">2019年12月19日 21:53</span>\\n\\t\\t\\t\\t<a href=\"https://mp.weixin.qq.com/s?__biz=MzIxNzU1NTQwNQ==&mid=2247489489&idx=1&sn=0c8d15ae4b9f4b7f81bf4a06b65e37fd&chksm=97f95f73a08ed6656ffae8a090d4bffe885fd08ddbeb585f088ac0e52a876879e7da173b0caf&scene=0&xtrack=1\" target=\"_blank\" class=\"source\" data-sudaclick=\"content_media_p\" rel=\"nofollow\">央视</a>\\t\\t\\t</div>\\n\\t\\t\\t<div class=\"page-tools\">\\n\\t\\t\\t\\t<span class=\"tool-icon tool-des-fs first\" data-sudaclick=\"content_smallerfont_i\"><a ani-click=\\'scaleDes\\'  node-type=\\'decrease-fs\\' href=\"javascript:;\" title=\"缩小字体\" class=\"ani\">缩小字体</a></span>\\n\\t\\t\\t\\t<span class=\"tool-icon tool-ins-fs\" data-sudaclick=\"content_biggerfont_i\"><a ani-click=\"scaleIns\" ani-hover=\"bounceFromTop\" node-type=\"increase-fs\" href=\"javascript:;\" title=\"放大字体\" >放大字体</a></span>\\n\\t\\t\\t\\t<span class=\"tool-icon tool-fav\" data-sudaclick=\"content_fav_p\"><a ani-hover=\\'bounceFromTop\\' node-type=\\'add-fav\\' href=\"javascript:;\" title=\"收藏本页\">收藏</a></span>\\n\\t\\t\\t\\t<span class=\"tool-icon tool-wb\" data-sudaclick=\"content_weiboshare_i\"><a ani-hover=\\'bounceFromTop\\' node-type=\\'share-wb\\' href=\"javascript:;\" data-share=\\'weibo\\' title=\"分享到微博\">微博</a></span>\\n\\t\\t\\t\\t<span class=\"tool-icon tool-wx\" data-sudaclick=\"content_wechatshare_i\"><a ani-hover=\\'bounceFromTop\\' node-type=\\'share-wx\\' href=\"javascript:;\" data-share=\\'weixin\\' title=\"分享到微信\">微信</a></span>\\n\\t\\t\\t\\t<span class=\"tool-icon tool-share\"><a ani-hover=\\'bounceFromTop\\' node-type=\\'share-more\\' data-action=\"dropdown\" data-target=\\'share_more\\' href=\"javascript:;\" title=\"更多分享\">分享</a></span>\\n\\t\\t\\t\\t\\t\\t\\t\\t<span class=\"tool-cmt\"><a data-sudaclick=\"content_commentbutton_i\" ani-hover=\\'bounceFromTop\\' node-type=\\'comment\\' href=\"javascript:;\"><span class=\"icon-comment\"></span><span class=\"num\" node-type=\\'comment-num\\' >0</span></a></span>\\n\\t\\t\\t\\t\\t\\t\\t\\t<div class=\\'share-more-list\\' style=\\'display:none;\\' id=\\'share_more\\'>\\n\\t\\t\\t\\t\\t<span  class=\\'tool-share-qq\\' data-sudaclick=\"content_qqshare_i\"><a href=\"javascript:;\" data-share=\\'qq\\' title=\"分享到QQ\"><i class=\"qq\"></i>腾讯QQ</a></span>\\n\\t\\t\\t\\t\\t<span  class=\\'tool-share-qqzone\\' data-sudaclick=\"content_qzoneshare_i\"><a href=\"javascript:;\" data-share=\\'qzone\\' title=\"分享到QQ空间\"><i class=\"qzone\"></i>QQ空间</a></span>\\n\\t\\t\\t\\t</div>\\n\\t\\t\\t</div>\\n\\t\\t</div>\\n\\t</div>\\n</div>\\n\\t<!-- page-tools end -->\\n\\t<!-- 正文 start -->\\n\\t<div class=\"article-content clearfix\" id=\\'article_content\\'>\\n\\t\\t<!-- 左侧 start -->\\n\\t\\t<div class=\"article-content-left\">\\n\\t\\t\\t\\t\\t\\t<!-- 正文广告top start -->\\n            <div class=\"ad top-ad\">\\n\\t\\t\\t\\t<ins class=\"sinaads\" data-ad-pdps=\"PDPS000000060750\"></ins>\\n    \\t\\t\\t<script>(sinaads = window.sinaads || []).push({});</script>\\n\\t\\t\\t</div>\\n            <!-- 正文广告top end -->\\n\\t\\t\\t\\t\\t\\t<!-- 引文 start -->\\n\\t\\t\\t\\n\\t\\t\\t<!-- 引文 end -->\\n\\t\\t\\t<!-- 正文 start -->\\n\\t\\t\\t<div class=\"article\" id=\"article\">\\n\\t\\t\\t\\t<p>\\u3000\\u3000原标题：主播说联播丨刚强“总结君”上线 前方高能→</p>\\n<p>\\u3000\\u3000今天是12月19日，澳门即将迎来回归祖国二十周年，今天联播重点报道了习主席在澳门的活动，主播刚强有话说。</p>\\n\\t\\t\\t<!--video-list-->\\n\\t\\t\\t<div class=\"video-2017\" id=\"videoList0\" ></div>\\n\\t\\t\\t<script>\\n\\t\\t\\t\\tSINA_TEXT_PAGE_INFO[\\'videoDatas0\\'] = [\\t\\t\\t\\t\\t\\t{\\n\\t\\t\\t\\t\\t\\t\\tad_state: \\'1\\',\\n\\t\\t\\t\\t\\t\\t\\tpid: \\'1\\',\\n\\t\\t\\t\\t\\t\\t\\tvideo_id: 316627911,\\t//vid\\n\\t\\t\\t\\t\\t\\t\\tpic: \\'//n.sinaimg.cn/news/transform/6/w1542h864/20191219/5b70-ikyziqw5789817.jpg\\',\\t\\t//节目列表小图\\n\\t\\t\\t\\t\\t\\t\\tthumbUrl: \\'//n.sinaimg.cn/news/transform/6/w1542h864/20191219/5b70-ikyziqw5789817.jpg\\',\\t//html5播放器上视频还未开始播显示的图片，可与pic相同\\n\\t\\t\\t\\t\\t\\t\\ttitle: \\'澳门人足年丰有余庆 央视主播这样说\\',\\t//标题\\n\\t\\t\\t\\t\\t\\t\\tsource: \\'\\',\\t//视频发布来源。如：新华网。\\n\\t\\t\\t\\t\\t\\t\\turl: \\'http://video.sina.com.cn/p/news/2019-12-19/detail-iihnzhfz7062001.d.html\\'\\n\\t\\t\\t\\t\\t\\t}];\\n\\t\\t\\t\\tSinaPage.loadWidget({\\n\\t\\t\\t\\t\\ttrigger: {\\n\\t\\t\\t\\t\\tid: \\'videoList0\\'\\n\\t\\t\\t\\t\\t},\\n\\t\\t\\t\\trequire:[\\n\\t\\t\\t\\t{\\n\\t\\t\\t\\t\\turl: \"//sjs2.sinajs.cn/video/sinaplayer/js/page/player_v1.js\"\\n\\t\\t\\t\\t},\\n\\t\\t\\t\\t{\\n\\t\\t\\t\\t\\turl: \"//finance.sina.com.cn/other/src/sinaPageVideo2017.js\"\\n\\t\\t\\t\\t}\\n\\t\\t\\t\\t],\\n\\t\\t\\t\\tonAfterLoad: function () {\\n\\t\\t\\t\\t\\tnew SinaPageVideo({ \\n\\t\\t\\t\\t\\t\\t wrap:\\'videoList0\\',//播放器外层id \\n\\t\\t \\t\\t\\t\\tvideoList:SINA_TEXT_PAGE_INFO[\\'videoDatas0\\']\\n\\t\\t\\t\\t });\\n\\t\\t\\t}\\n\\t\\t\\t});\\n\\t\\t</script>\\n\\t\\t<!--/video-list-->\\n<p>\\u3000\\u3000刚强：</p>\\n<p>\\u3000\\u3000今天的联播重点报道了习主席在澳门的系列活动。习主席说，回归祖国以来的二十年，是澳门历史上经济发展最快、民生改善最大的时期。他还说，澳门认真贯彻“一国两制”方针取得的经验和具有的特色值得总结。</p>\\n\\t\\t\\t<!--video-list-->\\n\\t\\t\\t<div class=\"video-2017\" id=\"videoList1\" ></div>\\n\\t\\t\\t<script>\\n\\t\\t\\t\\tSINA_TEXT_PAGE_INFO[\\'videoDatas1\\'] = [\\t\\t\\t\\t\\t\\t{\\n\\t\\t\\t\\t\\t\\t\\tad_state: \\'1\\',\\n\\t\\t\\t\\t\\t\\t\\tpid: \\'1\\',\\n\\t\\t\\t\\t\\t\\t\\tvideo_id: 316607208,\\t//vid\\n\\t\\t\\t\\t\\t\\t\\tpic: \\'//n.sinaimg.cn/news/transform/230/w1979h1451/20191219/55d9-ikyziqw5069589.png\\',\\t\\t//节目列表小图\\n\\t\\t\\t\\t\\t\\t\\tthumbUrl: \\'//n.sinaimg.cn/news/transform/230/w1979h1451/20191219/55d9-ikyziqw5069589.png\\',\\t//html5播放器上视频还未开始播显示的图片，可与pic相同\\n\\t\\t\\t\\t\\t\\t\\ttitle: \\'视频|习近平出席澳门特别行政区政府欢迎晚宴并发表重要讲话\\',\\t//标题\\n\\t\\t\\t\\t\\t\\t\\tsource: \\'\\',\\t//视频发布来源。如：新华网。\\n\\t\\t\\t\\t\\t\\t\\turl: \\'http://video.sina.com.cn/p/news/2019-12-19/detail-iihnzhfz7023810.d.html\\'\\n\\t\\t\\t\\t\\t\\t}];\\n\\t\\t\\t\\tSinaPage.loadWidget({\\n\\t\\t\\t\\t\\ttrigger: {\\n\\t\\t\\t\\t\\tid: \\'videoList1\\'\\n\\t\\t\\t\\t\\t},\\n\\t\\t\\t\\trequire:[\\n\\t\\t\\t\\t{\\n\\t\\t\\t\\t\\turl: \"//sjs2.sinajs.cn/video/sinaplayer/js/page/player_v1.js\"\\n\\t\\t\\t\\t},\\n\\t\\t\\t\\t{\\n\\t\\t\\t\\t\\turl: \"//finance.sina.com.cn/other/src/sinaPageVideo2017.js\"\\n\\t\\t\\t\\t}\\n\\t\\t\\t\\t],\\n\\t\\t\\t\\tonAfterLoad: function () {\\n\\t\\t\\t\\t\\tnew SinaPageVideo({ \\n\\t\\t\\t\\t\\t\\t wrap:\\'videoList1\\',//播放器外层id \\n\\t\\t \\t\\t\\t\\tvideoList:SINA_TEXT_PAGE_INFO[\\'videoDatas1\\']\\n\\t\\t\\t\\t });\\n\\t\\t\\t}\\n\\t\\t\\t});\\n\\t\\t</script>\\n\\t\\t<!--/video-list-->\\n<p>\\u3000\\u3000总结君，请上线来说说，回归之后，澳门打开快速发展之门，这奥秘在哪里？要我说，一个重要原因当然是澳门把一国两制落实得很好，这一国也是一心，一颗中国心，一颗共谋发展之心。两制也是两利，两种制度和谐共处，互相尊重互相合作，同时也是互助互利。说白了，一个地方不折腾，齐心协力蓄积动能，当然就会向上升腾，前方必然高能。</p>\\n<p>\\u3000\\u3000明天就是澳门回归祖国20周年的日子，过去二十年，“莲成一家”，莲花聚宝，澳门是人足年丰有余庆。面向未来，继续心手相“莲”庆来年。祝愿Macao，明天更美好！</p>\\n<div class=\"img_wrapper\"><img id=\"1\" style=\"max-width: 640px;\" src=\"//n.sinaimg.cn/spider20191219/40/w550h290/20191219/1c3a-ikyziqw5573331.jpg\" alt=\"\"><span class=\"img_descr\"></span></div>\\n<!--article_adlist[<p>▼</p>]article_adlist--><!--article_adlist[更多消息，扫描二维码关注《新闻联播》]article_adlist--><!--article_adlist[<p>©新闻联播</p>]article_adlist--><!--article_adlist[<p><img style=\"max-width:640px\" id=\"2\" src=\"http://n.sinaimg.cn/spider20191219/560/w1080h1080/20191219/990a-ikvenfu2476594.jpg\" img-size=\"1080,1080\" qr-mark=\"y\" qr-area=\"0.735\" ocr-text=\"白法文取户一秘口口新闻联播<<xI*WEv<ZANBo\" img-code=\"2048\"></xI></p>]article_adlist--><!--article_adlist[<p>更多新闻</p>]article_adlist--><!--article_adlist[<p>习近平今年7次出访 7篇署名文章中这个词出现频率最高</p>]article_adlist--><!--article_adlist[<p>微视频丨“哪吒”带你看澳门</p>]article_adlist--><!--article_adlist[<p>首艘国产航母山东舰入列！</p>]article_adlist--><!--article_adlist[<p>监制/李浙 主编/王兴栋 柴婧</p><p>视频编辑/王瑄 乃扎尔</p><p>©新闻联播</p>]article_adlist--><!--article_adlist[<p>澳门明天更美好↓↓</p>]article_adlist-->\\n\\t\\t\\t\\t\\n\\t\\t\\t\\t<div class=\"wap_special\" data-sudaclick=\"content_relativetopics_p\">\\n        <div class=\"tlt\">点击进入专题：</div>\\n\\t<a href=\"https://news.sina.cn/zt_d/macao1220\" target=\"_blank\">澳门回归祖国20周年</a></div>\\n  \\n\\t\\t\\t\\t\\n\\t\\t\\t\\t\\n<p class=\"show_author\">责任编辑：张申 </p>\\n\\t\\t\\t\\t\\n\\t\\t\\t\\t\\n\\t\\t\\t</div>\\n\\t\\t\\t<!-- 正文 end -->\\n\\t\\t\\t<!-- 文章关键字 begin -->\\n\\t\\t\\t<div class=\"article-bottom clearfix\" id=\\'article-bottom\\'>\\n\\t\\t<div class=\"keywords\" id=\"keywords\" data-wbkey=\"回归祖国,一国两制,新闻\" data-sudaclick=\"content_keywords_p\">\\n\\t\\t<label>关键字 : </label>\\n\\t\\t<a href=\"http://tags.news.sina.com.cn/回归祖国\" target=\"_blank\">回归祖国</a><a href=\"http://tags.news.sina.com.cn/一国两制\" target=\"_blank\">一国两制</a>\\t</div>\\n\\t\\t<div class=\"btns\">\\n\\t\\t<!-- <a href=\"javascript:;\" node-type=\\'print-page\\' class=\"btn-icon btn-print\" data-sudaclick=\"content_print_i\">打印网页</a> -->\\n\\t\\t<a href=\"http://news.sina.com.cn/feedback/post.html\" target=\"_blank\" class=\"btn-icon btn-feedback\" data-sudaclick=\"content_feedback_p\">我要反馈</a>\\n\\t</div>\\n</div>\\n\\t\\t\\t<!-- 文章关键字 end -->\\n\\t\\t\\t\\n<!-- 公众号二维码 start -->\\n            <div class=\\'blk-wxfollow clearfix\\'>\\n                \\t<div class=\\'wx-qr\\'>\\n\\t\\t<img src=\"//simg.sinajs.cn/products/news/items/2017/pc_news_article/img/news-code-f951f4.jpg\" title=\"新浪新闻公众号\" alt=\"新浪新闻公众号\" width=\"80\" height=\"80\" />\\n\\t</div>\\n\\t<div class=\\'wx-info\\'>\\n\\t\\t<span>新浪新闻公众号</span>\\n\\t\\t<p>更多猛料！欢迎扫描左方二维码关注新浪新闻官方微信（xinlang-xinwen）</p>\\n\\t</div>            </div>\\n<!-- 公众号二维码 end -->\\n\\t\\t\\t\\n\\t\\t\\t\\t\\t\\t<!--通发页评论上方640*90通栏 2018/03/13 xiaofei start-->\\n\\t\\t\\t<div style=\"margin: 20px auto -20px;\">\\n\\t\\t\\t\\t<ins class=\"sinaads\" data-ad-pdps=\"PDPS000000065807\"></ins>\\n\\t\\t\\t\\t<script>\\n\\t\\t\\t\\t\\t(sinaads = window.sinaads || []).push({});\\n\\t\\t\\t\\t</script>\\n\\t\\t\\t</div>\\n\\t\\t\\t<!--评论模块-->\\n            <div class=\"blk-comment\" id=\"wrap_bottom_omment\">\\n                <div id=\"bottom_sina_comment\" class=\" sina-comment-wrap\">\\n                </div>\\n            </div>\\n\\t\\t\\t\\n\\t\\t\\t<style>\\n@media screen and (min-width:1480px) {\\n    .tab-related-wrap .tab_related_app_imglink {\\n        background-color:#fff;\\n\\t\\tbackground-image:url(\"//n.sinaimg.cn/finance/500/w200h300/20191203/473c-ikcaces0510894.png\");\\n\\t\\tbackground-image:-webkit-image-set(url(\"//n.sinaimg.cn/finance/500/w200h300/20191203/473c-ikcaces0510894.png\") 1x, url(\"//n.sinaimg.cn/finance/200/w400h600/20191203/98de-ikcaces0511503.png\") 2x);\\n        background-repeat:no-repeat;\\n        background-position:0 0;\\n        background-size:100% 100%;\\n        width:200px;\\n        height:300px;\\n        display:block;\\n        overflow:hidden;\\n        line-height:1000px;\\n        font-size:0;\\n        margin-top:10px;\\n        padding:0\\n    }\\n}\\n@media screen and (min-width:768px) and (max-width:1480px) {\\n    .tab-related-wrap .tab_related_app_imglink {\\n        font-size:16px;\\n        color:#323953!important;\\n        line-height:56px;\\n        background:0 0;\\n        min-width:205px;\\n        height:56px;\\n        margin:0 0 0 20px;\\n        display:block\\n    }\\n}\\n</style>\\n<div class=\\'blk-related clearfix\\' id=\\'tab_related\\'>\\n                <div class=\\'tab-related-wrap\\'>\\n                    <div class=\\'tab-related\\'  id=\\'tab_related_btn\\'>\\n                        <a href=\"javascript:;\" id=\\'tab01_btn01\\' class=\\'cur\\' data-sudaclick=\"relativenews_tab_i\">相关新闻\\n                            <span class=\"angle\"></span>\\n                        </a>\\n\\t\\t\\t\\t\\t\\t<a class=\"tab_related_app_imglink\" data-sudaclick=\"sf_cjapp_xgxxbelow_p\" href=\"https://finance.sina.com.cn/mobile/comfinanceweb.shtml?source=xwzxzhengwen01\" target=\"_blank\">投资热点尽在新浪财经APP&gt;</a>\\n                    </div>\\n                </div>\\n                <div class=\\'tab-cont-related\\'>\\n                    <div id=\\'tab01_cont01\\'  data-sudaclick=\"relativenews_feed_p\">\\n                        <!-- 天乙feed 容器 start -->\\n                        <div id=\"tycard_list\" class=\"ty-feed-card-container\">\\n                            <div class=\"cardlist-a__tip\" node-type=\"tip\" style=\"display:none;\"></div>\\n                            <div class=\"cardlist-a__list\" node-type=\"list\"></div>\\n                            <div class=\"cardlist-a__loading\" node-type=\"loading\">加载中<s class=\"icon-loading\"></s></div>\\n                            <div class=\"cardlist-a__more\" node-type=\"more\" style=\"display:none;\">点击加载更多</div>\\n                            <div class=\"cardlist-a__pager\" node-type=\"pager\" style=\"display:none;\"></div>\\n                        </div>\\n                        <!-- 天乙feed 容器 end -->\\n                    </div>\\n                    <div id=\\'tab01_cont02\\' style=\\'display:none;\\'  data-sudaclick=\"related_weibo\">\\n                        <iframe id=\\'related_wb\\' frameborder=\"0\" height=\"500\" width=\"640\" marginheight=\"0\" marginwidth=\"0\" scrolling=\"no\" allowfullscreen=\"true\" src=\"\"></iframe>\\n                    </div>\\n                </div>\\n            </div>\\n\\t\\t\\t<!-- tab_related end -->\\n\\t\\t\\t\\t\\t</div>\\n\\t\\t<!-- 左侧 end -->\\n\\t\\t\\t\\t<!-- 右侧 start -->\\n\\t\\t<div class=\"article-content-right\">\\n\\t\\t\\t<!-- 推荐新闻 start -->\\n\\t\\t\\t<div class=\"news-box\" id=\"recommendB\" data-sudaclick=\"right_recommend-B_p\">\\n\\t<div class=\"right-tlt recommend\">\\n\\t\\t<i class=\"top-bar\"></i>\\n\\t\\t<h3>推荐新闻</h3>\\n\\t</div>\\n\\t<div class=\"interfaceData\">\\n\\t</div>\\n\\t<div class=\"botData\">\\n\\t\\t<ul class=\"recommend_news2\">\\n\\t\\t<li>\\n\\t\\t\\t<span>【<a href=\"http://news.sina.com.cn\" target=\"_blank\">\\n\\t\\t\\t\\t新闻\\n\\t\\t\\t</a>】</span>\\n\\t\\t\\t\\t\\t\\t<a href=\"https://news.sina.com.cn/c/2019-12-19/doc-iihnzhfz6825540.shtml\" target=\"_blank\">“嘘国歌” 乱港分子这次在韩国把脸丢...</a>\\t\\t</li>\\n\\t\\t<li>\\n\\t\\t\\t<span>【<a href=\"http://mil.news.sina.com.cn\" target=\"_blank\">\\n\\t\\t\\t\\t<i>军事</i>\\n\\t\\t\\t</a>】</span>\\n\\t\\t\\t\\t\\t\\t<a href=\"http://slide.mil.news.sina.com.cn/h/slide_8_62085_74785.html\" target=\"_blank\">出鞘：舰载机何以在刀尖上“反复横跳...</a>\\t\\t</li>\\n\\t\\t<li>\\n\\t\\t\\t<span>【<a href=\"http://finance.sina.com.cn\" target=\"_blank\">\\n\\t\\t\\t\\t<i>财经</i>\\n\\t\\t\\t</a>】</span>\\n\\t\\t\\t\\t\\t\\t<a href=\"http://finance.sina.com.cn/zt_d/jfj2019/\" target=\"_blank\">金凤奖评选出炉：航空公司TOP10是他们</a>\\t\\t</li>\\n\\t\\t<li>\\n\\t\\t\\t<span>【<a href=\"http://sports.sina.com.cn\" target=\"_blank\">\\n\\t\\t\\t\\t<i>体育</i>\\n\\t\\t\\t</a>】</span>\\n\\t\\t\\t\\t\\t\\t<a href=\"https://sports.sina.com.cn/basketball/cba/2019-12-19/doc-iihnzahi8705167.shtml\" target=\"_blank\">CBA-哈德森狂飙41+10+7 山东狂胜辽宁...</a>\\t\\t</li>\\n\\t\\t<li>\\n\\t\\t\\t<span>【<a href=\"http://ent.sina.com.cn\" target=\"_blank\">\\n\\t\\t\\t\\t<i>娱乐</i>\\n\\t\\t\\t</a>】</span>\\n\\t\\t\\t\\t\\t\\t<a href=\"https://ent.sina.com.cn/s/m/2019-12-19/doc-iihnzahi8546801.shtml\" target=\"_blank\">与杨采钰老少恋修成正果？刘亦菲干爹...</a>\\t\\t</li>\\n\\t\\t<li>\\n\\t\\t\\t<span>【<a href=\"http://tech.sina.com.cn\" target=\"_blank\">\\n\\t\\t\\t\\t<i>科技</i>\\n\\t\\t\\t</a>】</span>\\n\\t\\t\\t\\t\\t\\t<a href=\"http://tech.sina.com.cn/zt_d/2019techfengyun/\" target=\"_blank\">2019科技风云榜：邬贺铨王海峰等共话...</a>\\t\\t</li>\\n\\t\\t<li>\\n\\t\\t\\t<span>【<a href=\"http://edu.sina.com.cn\" target=\"_blank\">\\n\\t\\t\\t\\t<i>教育</i>\\n\\t\\t\\t</a>】</span>\\n\\t\\t\\t\\t\\t\\t<a href=\"http://edu.sina.com.cn/l/2019-12-19/doc-iihnzhfz6858556.shtml\" target=\"_blank\">帮扶749名学生 被亲切称为“上海爷爷...</a>\\t\\t</li>\\n\\t</ul>\\n\\t</div>\\n</div>\\n\\t\\t\\t<!-- 推荐新闻 end -->\\n\\t\\t\\t<!-- 广告 -->\\n\\t\\t\\t<div class=\"right-side-ad1\">\\n\\t\\t\\t\\t<!-- 图片新闻上方广告 -->\\n\\t\\t\\t\\t<ins class=\"sinaads\" data-ad-pdps=\"PDPS000000042133\"></ins>\\n\\t\\t\\t\\t<script>(sinaads = window.sinaads || []).push({});</script>\\n            </div>\\n\\t\\t\\t<!-- 阅读排行榜/评论排行榜 -->\\n\\t\\t\\t<div class=\"news-read-comment\" id=\"read-comment\">\\n\\t<div class=\"tlt\">\\n\\t\\t<a href=\"http://news.sina.com.cn/hotnews/\" class=\"read cur\" data-sudaclick=\"right_hotnews_p\"><i class=\"angle\"></i>阅读排行榜</a>\\n\\t\\t<a href=\"http://news.sina.com.cn/hotnews/\" class=\"comment\" data-sudaclick=\"right_hotcomments_p\"><i class=\"angle\"></i>评论排行榜</a>\\n\\t\\t<span class=\"slash\"></span>\\n\\t</div>\\n\\t<div class=\"rc-context read-context\" data-sudaclick=\"right_hotnews_p\" style=\"display: block;\">\\n\\t\\t<div class=\"interfaceData\"></div>\\n\\t\\t<div class=\"botData\">\\n\\t\\t\\t<ul class=\"hot-news-ul\">\\n\\t\\t\\t\\t\\t\\t<li>\\n\\t\\t\\t\\t<span class=\"rankLeft\">\\n\\t\\t\\t\\t\\t<span class=\"rankNum color-red\">01</span>\\n\\t\\t\\t\\t</span>\\n\\t\\t\\t\\t<span class=\"text\"><a href=\"http://ent.sina.com.cn/tv/zy/2019-12-19/doc-iihnzhfz6972100.shtml\" target=\"_blank\">吴昕回应在《快本》没有存在感：要让嘉宾多表现</a></span>   \\n\\t\\t\\t</li>\\t\\t<li>\\n\\t\\t\\t\\t<span class=\"rankLeft\">\\n\\t\\t\\t\\t\\t<span class=\"rankNum color-red\">02</span>\\n\\t\\t\\t\\t</span>\\n\\t\\t\\t\\t<span class=\"text\"><a href=\"https://news.sina.com.cn/w/2019-12-19/doc-iihnzhfz6949729.shtml\" target=\"_blank\">美媒：又一名中国女子因擅闯特朗普海湖庄园被捕</a></span>   \\n\\t\\t\\t</li>\\t\\t<li>\\n\\t\\t\\t\\t<span class=\"rankLeft\">\\n\\t\\t\\t\\t\\t<span class=\"rankNum color-red\">03</span>\\n\\t\\t\\t\\t</span>\\n\\t\\t\\t\\t<span class=\"text\"><a href=\"https://news.sina.com.cn/s/2019-12-19/doc-iihnzahi8558500.shtml\" target=\"_blank\">公务员入狱4年半 改判无罪后申请2771万国家赔偿</a></span>   \\n\\t\\t\\t</li>\\t\\t<li>\\n\\t\\t\\t\\t<span class=\"rankLeft\">\\n\\t\\t\\t\\t\\t<span class=\"rankNum \">04</span>\\n\\t\\t\\t\\t</span>\\n\\t\\t\\t\\t<span class=\"text\"><a href=\"https://news.sina.com.cn/c/2019-12-19/doc-iihnzahi8534987.shtml\" target=\"_blank\">投票通过 特朗普成美国历史上第三位被弹劾的总统</a></span>   \\n\\t\\t\\t</li>\\t\\t<li>\\n\\t\\t\\t\\t<span class=\"rankLeft\">\\n\\t\\t\\t\\t\\t<span class=\"rankNum \">05</span>\\n\\t\\t\\t\\t</span>\\n\\t\\t\\t\\t<span class=\"text\"><a href=\"https://news.sina.com.cn/c/2019-12-19/doc-iihnzahi8650643.shtml\" target=\"_blank\">韩国瑜政见会10大金句出炉 猛踩蔡英文痛脚</a></span>   \\n\\t\\t\\t</li>\\t\\t\\t</ul>\\n\\t\\t</div>\\n\\n\\t</div>\\n\\t<div class=\"rc-context comment-context hiden\" data-sudaclick=\"right_hotcomments_p\" style=\"display: none;\">\\n\\t\\t<div class=\"interfaceData\"></div>\\n\\t\\t<div class=\"botData\">\\n\\t\\t\\t<ul class=\"hot-news-ul\">\\n\\t\\t\\t\\t\\t\\t<li>\\n\\t\\t\\t\\t<span class=\"rankLeft\">\\n\\t\\t\\t\\t\\t<span class=\"rankNum color-red\">01</span>\\n\\t\\t\\t\\t</span>\\n\\t\\t\\t\\t<span class=\"text\"><a href=\"http://comment5.news.sina.com.cn/comment/skin/default.html?channel=yl&newsid=comos-ihnzahi8718203&style=0\" target=\"_blank\">在线吃瓜？沈腾在杨幂评论下问魏大勋怎么还没来</a></span>   \\n\\t\\t\\t</li>\\t\\t<li>\\n\\t\\t\\t\\t<span class=\"rankLeft\">\\n\\t\\t\\t\\t\\t<span class=\"rankNum color-red\">02</span>\\n\\t\\t\\t\\t</span>\\n\\t\\t\\t\\t<span class=\"text\"><a href=\"http://comment5.news.sina.com.cn/comment/skin/default.html?channel=sh&newsid=comos-ihnzhfz6921613&style=0\" target=\"_blank\">张若昀回应庆余年提前点播收费：钱又没到我兜里</a></span>   \\n\\t\\t\\t</li>\\t\\t<li>\\n\\t\\t\\t\\t<span class=\"rankLeft\">\\n\\t\\t\\t\\t\\t<span class=\"rankNum color-red\">03</span>\\n\\t\\t\\t\\t</span>\\n\\t\\t\\t\\t<span class=\"text\"><a href=\"http://comment5.news.sina.com.cn/comment/skin/default.html?channel=yl&newsid=comos-ihnzhfz6995480&style=0\" target=\"_blank\">唐一菲重开微博怼小三传闻：谢谢你们这么抬举我</a></span>   \\n\\t\\t\\t</li>\\t\\t<li>\\n\\t\\t\\t\\t<span class=\"rankLeft\">\\n\\t\\t\\t\\t\\t<span class=\"rankNum \">04</span>\\n\\t\\t\\t\\t</span>\\n\\t\\t\\t\\t<span class=\"text\"><a href=\"http://comment5.news.sina.com.cn/comment/skin/default.html?channel=mp&newsid=7055518366-1a48aaa9e00100qbmx&style=0\" target=\"_blank\">Jony J与蔡徐坤担任《偶像练习生》导师？</a></span>   \\n\\t\\t\\t</li>\\t\\t<li>\\n\\t\\t\\t\\t<span class=\"rankLeft\">\\n\\t\\t\\t\\t\\t<span class=\"rankNum \">05</span>\\n\\t\\t\\t\\t</span>\\n\\t\\t\\t\\t<span class=\"text\"><a href=\"http://comment5.news.sina.com.cn/comment/skin/default.html?channel=yl&newsid=comos-ihnzahi8543271&style=0\" target=\"_blank\">王子文针对高铁踩桌板致歉：将严于律己加以改正</a></span>   \\n\\t\\t\\t</li>\\t\\t\\t</ul>\\n\\t\\t</div>\\n\\t</div>\\n</div>\\n\\t\\t\\t\\n\\t\\t\\t<!-- 广告 -->\\n            <div class=\"right-side-ad\">\\n\\t\\t\\t\\t<ins class=\"sinaads\" data-ad-pdps=\"PDPS000000028570\"></ins>\\n\\t\\t\\t\\t<script>(sinaads = window.sinaads || []).push({});</script>\\n            </div>\\n\\t\\t\\t<!-- 广告 -->\\n            <div class=\"right-side-ad\">\\n\\t\\t\\t\\t<ins class=\"sinaads\" data-ad-pdps=\"PDPS000000046929\"></ins>\\n\\t\\t\\t\\t<script>(sinaads = window.sinaads || []).push({});</script>\\n            </div>\\n\\t\\t\\t<!-- 图片故事 start -->\\n\\t\\t\\t<div class=\"img-story\" data-sudaclick=\"right_photostory_p\">\\n                <div class=\"right-tlt\">\\n                    <i class=\"top-bar\"></i>\\n                    <h3>图片故事</h3>\\n                    <a href=\"http://photo.sina.com.cn\" target=\"_blank\" class=\"more\"></a>\\n                </div>\\n                <div id=\"img-story\" class=\"focus-box\">\\n                    <div class=\"picBox\">\\n                        <ul class=\"img interfaceData\">\\n                        </ul>\\n\\t\\t\\t\\t\\t\\t<ul class=\"img botData\">\\n\\t\\t\\t\\t\\t\\t\\t\\t\\t<li>\\n        \\t<a href=\"http://slide.news.sina.com.cn/z/slide_1_64237_421355.html\" target=\"_blank\">\\n            <span class=\"img-span\"><img src=\"//n.sinaimg.cn/news/100/w1500h1000/20191219/933a-ikvenfu4047991.jpg\" width=\"320\" height=\"213\" alt=\"澳门珠海双城记\" class=\"img-hover\" /></span>\\n            <span class=\"title\">澳门珠海双城记</span>\\n            </a>\\n        </li>\\t\\t<li>\\n        \\t<a href=\"http://slide.news.sina.com.cn/c/slide_1_86058_375142.html\" target=\"_blank\">\\n            <span class=\"img-span\"><img src=\"//n.sinaimg.cn/news/1_img/upload/34fa2aa3/699/w899h600/20190604/441b-hxyuaph1913183.jpg\" width=\"320\" height=\"213\" alt=\"大熊猫首次“落户”高原城市西宁\" class=\"img-hover\" /></span>\\n            <span class=\"title\">大熊猫首次“落户”高原城市西宁</span>\\n            </a>\\n        </li>\\t\\t<li>\\n        \\t<a href=\"http://photo.sina.com.cn/newyouth/doc-iihnzhfz1634105.shtml\" target=\"_blank\">\\n            <span class=\"img-span\"><img src=\"//n.sinaimg.cn/photo/transform/700/w900h600/20191125/a306-iittafs3000499.jpg\" width=\"320\" height=\"213\" alt=\"90后法国新锐赛车手：为赛而生\" class=\"img-hover\" /></span>\\n            <span class=\"title\">90后法国新锐赛车手：为赛而生</span>\\n            </a>\\n        </li>\\t\\t<li>\\n        \\t<a href=\"http://slide.news.sina.com.cn/slide_1_89251_410693.html\" target=\"_blank\">\\n            <span class=\"img-span\"><img src=\"//n.sinaimg.cn/news/783/w950h633/20191118/fe2f-iipztfe5251380.jpg\" width=\"320\" height=\"213\" alt=\"一片叶子致富一个村\" class=\"img-hover\" /></span>\\n            <span class=\"title\">一片叶子致富一个村</span>\\n            </a>\\n        </li>\\t\\t<li>\\n        \\t<a href=\"http://slide.news.sina.com.cn/w/slide_1_88610_366676.html\" target=\"_blank\">\\n            <span class=\"img-span\"><img src=\"//n.sinaimg.cn/news/1_img/upload/6d34f853/783/w950h633/20190418/w_7y-hvvuiyn0992482.jpg\" width=\"320\" height=\"213\" alt=\"安倍赏樱被美女簇拥开心合影\" class=\"img-hover\" /></span>\\n            <span class=\"title\">安倍赏樱被美女簇拥开心合影</span>\\n            </a>\\n        </li>\\t\\t\\t\\t\\t\\t</ul>\\n                        <ul>\\n                            <li>\\n                                <a class=\"btn btn_l\" href=\"javascript:;\"></a>\\n                            </li>\\n                            <li >\\n                                <a class=\"btn btn_r\" href=\"javascript:;\"></a>\\n                            </li>\\n                        </ul>\\n                        <div class=\"titsBox\">\\n                            <ul class=\"num\"></ul>\\n                        </div>\\n                    </div>\\n                </div>\\n            </div>\\n\\t\\t\\t<!-- 图片故事 end -->\\n\\t\\t\\t<!-- 广告 class=\"right-side-ad1\" -->\\n            <div class=\"right-side-ad\">\\n                <ins class=\"sinaads\" data-ad-pdps=\"PDPS000000058358\"></ins>\\n\\t\\t\\t\\t<script>(sinaads = window.sinaads || []).push({});</script>\\n            </div>\\t\\n\\t\\t\\t<div class=\"right-side-ad\">\\n                <ins class=\"sinaads\" data-ad-pdps=\"PDPS000000058599\"></ins>\\n\\t\\t\\t\\t<script>(sinaads = window.sinaads || []).push({});</script>\\n            </div>\\n\\t\\t\\t\\n\\t\\t\\t<!-- 图片新闻 start -->\\n\\t\\t\\t\\n<div class=\"img-news\" data-sudaclick=\"right_photos_p\" id=\"news-photo\">\\n\\t<div class=\"right-tlt\">\\n\\t\\t<i class=\"top-bar\"></i>\\n\\t\\t<h3>图片新闻</h3>\\n\\t\\t<a href=\"http://photo.sina.com.cn/\" target=\"_blank\" class=\"more\"></a>\\n\\t</div>\\n\\t<div class=\"interfaceData\"></div>\\n\\t<div class=\"botData\">\\n\\t\\t<div class=\"img-video-box\">\\n\\t\\t\\t<div class=\"img-video-text\">\\n\\t\\t\\t\\t\\t\\t\\t<a href=\"http://slide.news.sina.com.cn/w/slide_1_2841_421235.html\" target=\"_blank\" >\\n\\t\\t\\t\\t\\t<span class=\"img-span\">\\n\\t\\t\\t\\t\\t\\t<img src=\"//k.sinaimg.cn/n/news/transform/200/w600h400/20191219/606f-ikvenfu2701446.jpg/w198h132c65.jpg\" width=\"150\" height=\"100\" alt=\"40.9℃！澳大利亚正经历有记录以来最热一天\" class=\"img-hover\" />\\n\\t\\t\\t\\t\\t\\t<i class=\"icon-video\"></i>\\n\\t\\t\\t\\t\\t</span>\\n\\t\\t\\t\\t\\t<span class=\"text-span\">40.9℃！澳大利亚正经历有记录以来最热一天</span>\\n\\t\\t\\t\\t</a>\\t\\t\\t</div>\\n\\t\\t\\t<div class=\"img-video-text\">\\n\\t\\t\\t\\t\\t\\t\\t<a href=\"http://slide.news.sina.com.cn/c/slide_1_86058_375102.html\" target=\"_blank\"  suda-uatrack=\"key=news_sohuhl&value=textpage-photonews\">\\n\\t\\t\\t\\t\\t<span class=\"img-span\">\\n\\t\\t\\t\\t\\t\\t<img src=\"//n.sinaimg.cn/default/1_img/upload/3933d981/700/w900h600/20190604/e7d5-hxyuaph1376688.jpg\" width=\"150\" height=\"100\" alt=\"湖南道县“百龙”竞逐迎端午\" class=\"img-hover\" />\\n\\t\\t\\t\\t\\t\\t<i class=\"icon-video\"></i>\\n\\t\\t\\t\\t\\t</span>\\n\\t\\t\\t\\t\\t<span class=\"text-span\">湖南道县“百龙”竞逐迎端午</span>\\n\\t\\t\\t\\t</a>\\t\\t\\t</div>\\n\\t\\t</div>\\n\\t\\t<div class=\"img-video-box\">\\n\\t\\t\\t<div class=\"img-video-text\">\\n\\t\\t\\t\\t\\t\\t\\t<a href=\"http://slide.news.sina.com.cn/y/slide_1_88490_418686.html#p=1\" target=\"_blank\" >\\n\\t\\t\\t\\t\\t<span class=\"img-span\">\\n\\t\\t\\t\\t\\t\\t<img src=\"//n.sinaimg.cn/news/transform/330/w198h132/20191217/9b91-ikvenft4536868.jpg\" width=\"150\" height=\"100\" alt=\"旅行摄影达人带你领略全球风景\" class=\"img-hover\" />\\n\\t\\t\\t\\t\\t\\t<i class=\"icon-video\"></i>\\n\\t\\t\\t\\t\\t</span>\\n\\t\\t\\t\\t\\t<span class=\"text-span\">旅行摄影达人带你领略全球风景</span>\\n\\t\\t\\t\\t</a>\\t\\t\\t</div>\\n\\t\\t\\t<div class=\"img-video-text\">\\n\\t\\t\\t\\t\\t\\t\\t<a href=\"http://slide.mil.news.sina.com.cn/h/slide_8_62085_74854.html\" target=\"_blank\" >\\n\\t\\t\\t\\t\\t<span class=\"img-span\">\\n\\t\\t\\t\\t\\t\\t<img src=\"//n.sinaimg.cn/mil/722/w950h572/20191219/a992-ikyziqw4658014.png\" width=\"150\" height=\"100\" alt=\"从山东舰架次效率看我国航母发展\" class=\"img-hover\" />\\n\\t\\t\\t\\t\\t\\t<i class=\"icon-video\"></i>\\n\\t\\t\\t\\t\\t</span>\\n\\t\\t\\t\\t\\t<span class=\"text-span\">从山东舰架次效率看我国航母发展</span>\\n\\t\\t\\t\\t</a>\\t\\t\\t</div>\\n\\t\\t</div>\\n\\t</div>\\n</div>\\n\\t\\t\\t<!-- 图片新闻 end -->\\n\\t\\t\\t<div class=\"right-side-ad\">    \\n\\t\\t\\t\\t<ins class=\"sinaads\" data-ad-pdps=\"PDPS000000043766\"></ins>\\n\\t\\t\\t\\t<script>(sinaads = window.sinaads || []).push({});</script>\\n\\t\\t\\t<!--300*250矩形广告 国内  end-->\\n\\t\\t\\t</div>\\n\\t\\t\\t<!-- 广告 -->\\n            <div class=\"right-side-ad\">\\n\\t\\t\\t\\t<ins class=\"sinaads\" data-ad-pdps=\"PDPS000000058365\"></ins>\\n\\t\\t\\t\\t<script>(sinaads = window.sinaads || []).push({});</script>\\n            </div>\\n\\t\\t\\t\\n\\t\\t\\t<!--视频新闻/秒拍-->\\n\\t\\t\\t<div class=\"news-video-miaopai\" id=\"video-miaopai\">\\n\\t<div class=\"tlt\">\\n\\t\\t<a href=\"http://news.video.sina.com.cn/\" class=\"video cur\" data-sudaclick=\"right_videos_p\"><i class=\"angle\"></i>视频新闻</a>\\n\\t\\t<a href=\"http://www.yixia.com/miaopai/\" class=\"miaopai\" data-sudaclick=\"right_miaopai_p\"><i class=\"angle\"></i>秒拍精选</a>\\n\\t\\t<span class=\"slash\"></span>\\n\\t</div>\\n\\t<div class=\"rc-context video-context\" data-sudaclick=\"right_videos_p\">\\n\\t\\t<div class=\"interfaceData\"></div>\\n\\t\\t<div class=\"botData\">\\n\\t\\t\\t<div class=\"img-video-box\">\\n\\t\\t\\t\\t<div class=\"img-video-text\">\\n\\t\\t\\t\\t\\t\\t\\t\\t<a href=\"http://video.sina.com.cn/p/news/o/doc/2018-11-23/073869081792.html\" target=\"_blank\">\\n\\t\\t\\t\\t\\t<span class=\"img-span\">\\n\\t\\t\\t\\t\\t\\t<img src=\"//n.sinaimg.cn/front/200/w640h360/20181123/3Pdt-hpevhck2015333.jpg\" width=\"150\" height=\"100\" alt=\"特朗普再为沙特“辩护”：卡舒吉的死是世界的错\" class=\"img-hover\" />\\n\\t\\t\\t\\t\\t\\t<i class=\"icon-video\"></i>\\n\\t\\t\\t\\t\\t</span>\\n\\t\\t\\t\\t\\t<span class=\"text-span\">特朗普再为沙特“辩护”：卡舒吉的死是世界的错</span>\\n\\t\\t\\t\\t</a>\\t\\t\\t\\t</div>\\n\\t\\t\\t\\t<div class=\"img-video-text\">\\n\\t\\t\\t\\t\\t\\t\\t\\t<a href=\"http://video.sina.com.cn/p/news/w/doc/2018-11-23/075369081810.html\" target=\"_blank\">\\n\\t\\t\\t\\t\\t<span class=\"img-span\">\\n\\t\\t\\t\\t\\t\\t<img src=\"//n.sinaimg.cn/news/transform/59/w550h309/20181123/K472-hpevhck2235726.jpg\" width=\"150\" height=\"100\" alt=\"游客闯小岛遭原住民箭雨射杀 警察营救也遭驱赶\" class=\"img-hover\" />\\n\\t\\t\\t\\t\\t\\t<i class=\"icon-video\"></i>\\n\\t\\t\\t\\t\\t</span>\\n\\t\\t\\t\\t\\t<span class=\"text-span\">游客闯小岛遭原住民箭雨射杀 警察营救也遭驱赶</span>\\n\\t\\t\\t\\t</a>\\t\\t\\t\\t</div>\\n\\t\\t\\t</div>\\n\\t\\t\\t<div class=\"img-video-box\">\\n\\t\\t\\t\\t<div class=\"img-video-text\">\\n\\t\\t\\t\\t\\t\\t\\t\\t<a href=\"http://video.sina.com.cn/p/news/o/doc/2018-11-23/100069081987.html\" target=\"_blank\">\\n\\t\\t\\t\\t\\t<span class=\"img-span\">\\n\\t\\t\\t\\t\\t\\t<img src=\"//n.sinaimg.cn/front/200/w640h360/20181123/4k_M-hmhswin8093648.jpg\" width=\"150\" height=\"100\" alt=\"白血病患儿被父亲放弃治疗：已做化疗\" class=\"img-hover\" />\\n\\t\\t\\t\\t\\t\\t<i class=\"icon-video\"></i>\\n\\t\\t\\t\\t\\t</span>\\n\\t\\t\\t\\t\\t<span class=\"text-span\">白血病患儿被父亲放弃治疗：已做化疗</span>\\n\\t\\t\\t\\t</a>\\t\\t\\t\\t</div>\\n\\t\\t\\t\\t<div class=\"img-video-text\">\\n\\t\\t\\t\\t\\t\\t\\t\\t<a href=\"http://video.sina.com.cn/p/news/s/doc/2018-11-23/094969081980.html\" target=\"_blank\">\\n\\t\\t\\t\\t\\t<span class=\"img-span\">\\n\\t\\t\\t\\t\\t\\t<img src=\"//n.sinaimg.cn/front/200/w640h360/20181123/11qw-hmhswin8011897.jpg\" width=\"150\" height=\"100\" alt=\"惊险一幕！辅警遭毒贩驾车拖行200多米\" class=\"img-hover\" />\\n\\t\\t\\t\\t\\t\\t<i class=\"icon-video\"></i>\\n\\t\\t\\t\\t\\t</span>\\n\\t\\t\\t\\t\\t<span class=\"text-span\">惊险一幕！辅警遭毒贩驾车拖行200多米</span>\\n\\t\\t\\t\\t</a>\\t\\t\\t\\t</div>\\n\\t\\t\\t</div>\\n\\t\\t</div>\\n\\t</div>\\n\\n\\n\\t<div class=\"rc-context miaopai-context hiden\" data-sudaclick=\"right_miaopai_p\">\\n\\t\\t<div class=\"interfaceData\">\\n\\t\\t\\t<div class=\"img-video-box\"></div>\\n\\t\\t\\t<div class=\"botData\">\\n\\t\\t\\t\\t<div class=\"img-video-box\">\\n\\t\\t\\t\\t\\t<div class=\"img-video-text\">\\n\\t\\t\\t\\t\\t\\t\\t\\t\\t<a href=\"http://n.miaopai.com/media/dVeCTsXQkuNcgBhtN7y5vbPzXGk~3Zn0\" target=\"_blank\">\\n\\t\\t\\t\\t\\t<span class=\"img-span\">\\n\\t\\t\\t\\t\\t\\t<img src=\"//n.sinaimg.cn/www/transform/235/w135h100/20190515/f8a2-hwzkfpu4029561.jpg\" width=\"135\" height=\"100\" alt=\"我有狗粮你有故事么\" class=\"img-hover\" />\\n\\t\\t\\t\\t\\t\\t<i class=\"icon-video\"></i>\\n\\t\\t\\t\\t\\t</span>\\n\\t\\t\\t\\t\\t<span class=\"text-span\">我有狗粮你有故事么</span>\\n\\t\\t\\t\\t</a>\\t\\t\\t\\t\\t</div>\\n\\t\\t\\t\\t\\t<div class=\"img-video-text\">\\n\\t\\t\\t\\t\\t\\t\\t\\t\\t<a href=\"http://n.miaopai.com/media/Gvgjwjq8SKtP3p0QfepE4PpzpAWcTDf1\" target=\"_blank\">\\n\\t\\t\\t\\t\\t<span class=\"img-span\">\\n\\t\\t\\t\\t\\t\\t<img src=\"//n.sinaimg.cn/news/transform/235/w135h100/20181113/7I2O-hnvukfe3750728.png\" width=\"135\" height=\"100\" alt=\"新手也能轻松停车\" class=\"img-hover\" />\\n\\t\\t\\t\\t\\t\\t<i class=\"icon-video\"></i>\\n\\t\\t\\t\\t\\t</span>\\n\\t\\t\\t\\t\\t<span class=\"text-span\">新手也能轻松停车</span>\\n\\t\\t\\t\\t</a>\\t\\t\\t\\t\\t</div>\\n\\t\\t\\t\\t</div>\\n\\t\\t\\t\\t<div class=\"img-video-box\">\\n\\t\\t\\t\\t\\t<div class=\"img-video-text\">\\n\\t\\t\\t\\t\\t\\t\\t\\t\\t<a href=\"http://n.miaopai.com/media/HILpIeOrsTDIiO4CppOP6TKh~wBaEwj1\" target=\"_blank\">\\n\\t\\t\\t\\t\\t<span class=\"img-span\">\\n\\t\\t\\t\\t\\t\\t<img src=\"//n.sinaimg.cn/news/transform/235/w135h100/20181113/JWuF-hnvukfe3765405.png\" width=\"135\" height=\"100\" alt=\"会八国语言的男孩\" class=\"img-hover\" />\\n\\t\\t\\t\\t\\t\\t<i class=\"icon-video\"></i>\\n\\t\\t\\t\\t\\t</span>\\n\\t\\t\\t\\t\\t<span class=\"text-span\">会八国语言的男孩</span>\\n\\t\\t\\t\\t</a>\\t\\t\\t\\t\\t</div>\\n\\t\\t\\t\\t\\t<div class=\"img-video-text\">\\n\\t\\t\\t\\t\\t\\t\\t\\t\\t<a href=\"http://n.miaopai.com/media/H9MyMdnXUsc1y~ImW7~E9B50LjrUGId~\" target=\"_blank\">\\n\\t\\t\\t\\t\\t<span class=\"img-span\">\\n\\t\\t\\t\\t\\t\\t<img src=\"//n.sinaimg.cn/news/transform/235/w135h100/20181113/GwEB-hnvukfe3775358.png\" width=\"135\" height=\"100\" alt=\"高强度腹肌训练\" class=\"img-hover\" />\\n\\t\\t\\t\\t\\t\\t<i class=\"icon-video\"></i>\\n\\t\\t\\t\\t\\t</span>\\n\\t\\t\\t\\t\\t<span class=\"text-span\">高强度腹肌训练</span>\\n\\t\\t\\t\\t</a>\\t\\t\\t\\t\\t</div>\\n\\t\\t\\t\\t</div>\\n\\t\\t\\t</div>\\n\\t\\t</div>\\n\\t</div>\\n</div>\\n\\t\\t\\t<!-- 广告 -->\\n            <div class=\"right-side-ad\">\\n\\t\\t\\t\\t<ins class=\"sinaads\" data-ad-pdps=\"PDPS000000058857\"></ins>\\n\\t\\t\\t\\t<script>(sinaads = window.sinaads || []).push({});</script>\\n            </div>\\n\\t\\t\\t<!-- 广告 -->\\n            <div class=\"right-side-ad\">\\n\\t\\t\\t\\t<ins class=\"sinaads\" data-ad-pdps=\"PDPS000000058858\"></ins>\\n\\t\\t\\t\\t<script>(sinaads = window.sinaads || []).push({});</script>\\n            </div>\\n\\t\\t\\t<!-- 广告 -->\\n\\t\\t\\t\\n\\t\\t\\t<!-- 热点博客 start -->\\n\\t\\t\\t\\n<div class=\"pic-news\" data-sudaclick=\"right_blog_p\"  id=\"hot-blog\">\\n\\t<div class=\"right-tlt\">\\n\\t\\t<i class=\"top-bar\"></i>\\n\\t\\t<h3>热点博客</h3>\\n\\t\\t<a href=\"http://blog.sina.com.cn/\" target=\"_blank\" class=\"more\"></a>\\n\\t</div>\\n\\t<div class=\"interfaceData\"></div>\\n\\t<div class=\"botData\">\\n\\t\\t<ul class=\"right-text-ul\">\\n\\t\\t\\t\\t\\t<li>\\n        \\t<a href=\"http://blog.sina.com.cn/s/blog_6175bf700102yrvv.html\" target=\"_blank\">拿生命看风景：清明小长假出游警惕“自拍死”</a>\\n        </li>\\t\\t<li>\\n        \\t<a href=\"http://blog.sina.com.cn/s/blog_5922ff6b0102zsad.html\" target=\"_blank\">#一城一夏#\\u3000石家庄\\u3000蟋蟀王国</a>\\n        </li>\\t\\t<li>\\n        \\t<a href=\"http://blog.sina.com.cn/s/blog_580673590102zrj4.html\" target=\"_blank\">钟丽缇节目里常说的一句话，让人觉得特别心酸</a>\\n        </li>\\t\\t<li>\\n        \\t<a href=\"http://blog.sina.com.cn/s/blog_686fada30102ysyy.html\" target=\"_blank\">海棠花溪：繁花似锦，正是一年花好时</a>\\n        </li>\\t\\t</ul>\\n\\t</div>\\n\\n</div>\\n\\t\\t\\t<!-- 热点博客 end -->\\n            <div class=\"right-side-ad\">\\n\\t\\t\\t\\t<ins class=\"sinaads\" data-ad-pdps=\"PDPS000000060867\"></ins>\\n\\t\\t\\t\\t<script>(sinaads = window.sinaads || []).push({});</script>\\n            </div>\\n\\t\\t\\t\\n\\t\\t\\t<!-- 新媒体实验室 start -->\\n\\t\\t\\t\\n<div class=\"new-media-lab\" data-sudaclick=\"right_newslab_p\">\\n                <div class=\"right-tlt\">\\n                    <i class=\"top-bar\"></i>\\n                    <h3>新媒体实验室</h3>\\n                </div>\\n                <div id=\"new-media-lab\" class=\"focus-box\">\\n                    <div class=\"picBox\">\\n\\t\\t\\t\\t\\t\\t<ul class=\"img interfaceData\">\\n\\t\\t\\t\\t\\t\\t</ul>\\n                        <ul class=\"img botData\">\\n                            \\t\\t\\t<li>\\n            \\t<a href=\"http://news.sina.com.cn/zt_d/qingnigechang/\" target=\"_blank\"><span class=\"img-span\">\\n\\t\\t\\t\\t<img src=\"//n.sinaimg.cn/news/transform/299/w180h119/20190930/9548-ifffquq4467991.jpg\" width=\"320\" height=\"213\" alt=\"喜迎国庆 在线K歌\" class=\"img-hover\" /></span>\\n                <span class=\"title\">喜迎国庆 在线K歌</span>\\n                </a>\\n            </li>\\t\\t\\t<li>\\n            \\t<a href=\"http://news.sina.cn/zt_d/momentsofchina\" target=\"_blank\"><span class=\"img-span\">\\n\\t\\t\\t\\t<img src=\"//n.sinaimg.cn/news/transform/299/w180h119/20190929/1437-ifffquq0599940.jpg\" width=\"320\" height=\"213\" alt=\"中国的朋友圈丨国庆特别策划\" class=\"img-hover\" /></span>\\n                <span class=\"title\">中国的朋友圈丨国庆特别策划</span>\\n                </a>\\n            </li>\\t\\t\\t<li>\\n            \\t<a href=\"http://news.sina.com.cn/c/t/2019-09-17/doc-iicezzrq6538126.shtml\" target=\"_blank\"><span class=\"img-span\">\\n\\t\\t\\t\\t<img src=\"//n.sinaimg.cn/news/transform/299/w180h119/20190918/fa4f-ietnfsq3293410.jpg\" width=\"320\" height=\"213\" alt=\"“共和国勋章”和“国家荣誉称号”全名单\" class=\"img-hover\" /></span>\\n                <span class=\"title\">“共和国勋章”和“国家荣誉称号”全名单</span>\\n                </a>\\n            </li>\\t\\t\\t<li>\\n            \\t<a href=\"http://news.sina.cn/zt_d/moongoddess\" target=\"_blank\"><span class=\"img-span\">\\n\\t\\t\\t\\t<img src=\"//n.sinaimg.cn/news/transform/299/w180h119/20190916/0c0e-ietnfsp3820831.jpg\" width=\"320\" height=\"213\" alt=\"人生迷茫？快来翻中秋“答案书”\" class=\"img-hover\" /></span>\\n                <span class=\"title\">人生迷茫？快来翻中秋“答案书”</span>\\n                </a>\\n            </li>\\t\\t\\t<li>\\n            \\t<a href=\"http://news.sina.cn/zt_d/tjtx289\" target=\"_blank\"><span class=\"img-span\">\\n\\t\\t\\t\\t<img src=\"//n.sinaimg.cn/news/transform/299/w180h119/20190425/wQzZ-hvvuiyn9430557.jpg\" width=\"320\" height=\"213\" alt=\"“一带一路”上的衣食住行\" class=\"img-hover\" /></span>\\n                <span class=\"title\">“一带一路”上的衣食住行</span>\\n                </a>\\n            </li>                        </ul>\\n                        <ul>\\n                            <li>\\n                                <a class=\"btn btn_l\" href=\"javascript:;\"></a>\\n                            </li>\\n                            <li >\\n                                <a class=\"btn btn_r\" href=\"javascript:;\"></a>\\n                            </li>\\n                        </ul>\\n                        <div class=\"titsBox\">\\n                            <ul class=\"num\"></ul>\\n                        </div>\\n                    </div>\\n                </div>\\n            </div>\\n\\t\\t\\t<!-- 新媒体实验室 end -->\\n\\t\\t\\t<div class=\"right-side-ad\">\\n\\t\\t\\t\\t<ins class=\"sinaads\" data-ad-pdps=\"PDPS000000060868\"></ins>\\n\\t\\t\\t\\t<script>(sinaads = window.sinaads || []).push({});</script>\\n            </div>\\n\\t\\t\\t<!-- 版权信息 start-->\\n\\t\\t\\t<div class=\"view-module\" data-sudaclick=\"right_footer_p\">\\n                <span class=\"view-phone marginTop24\"><a href=\"http://news.sina.com.cn/feedback/post.html\" target=\"_blank\"><i class=\"icon-pen\"></i>新浪新闻意见反馈留言板 </a></span>\\n                <span class=\"view-phone\"><i class=\"icon-phone\"></i>400-052-0066  欢迎批评指正</span>\\n            </div>\\n            <div class=\"nav-link-box\" data-sudaclick=\"right_footer_p\">\\n                <ul>\\n                    <li>\\n                        <a href=\"http://corp.sina.com.cn/chn/sina_index.html\" target=\"_blank\">新浪简介</a>\\n                        <span>|</span>\\n                        <a href=\"http://emarketing.sina.com.cn/\" target=\"_blank\">广告服务</a>\\n                        <span>|</span>\\n                        <a href=\"http://corp.sina.com.cn/eng/sina_index_eng.htm\" target=\"_blank\">About Sina</a>\\n                    </li>\\n                    <li>\\n                        <a href=\"http://www.sina.com.cn/contactus.html\" target=\"_blank\">联系我们</a>\\n                        <span>|</span>\\n                        <a href=\"http://career.sina.com.cn/\" target=\"_blank\">招聘信息</a>\\n                        <span>|</span>\\n                        <a href=\"http://login.sina.com.cn/signup/signup\" target=\"_blank\">通行证注册</a>\\n                    </li>\\n                    <li>\\n                        <a href=\"http://help.sina.com.cn/\" target=\"_blank\">产品答疑</a>\\n                        <span>|</span>\\n                        <a href=\"http://corp.sina.com.cn/lawfirm/sina.htm\" target=\"_blank\">网站律师</a>\\n                        <span>|</span>\\n                        <a href=\"http://english.sina.com/\" target=\"_blank\">SINA English</a>\\n                    </li>\\n                </ul>\\n\\n            </div>\\n            <div class=\"report-infor\">\\n                <p>违法和不良信息举报电话：4000520066<br/>\\n                    举报邮箱：jubao@vip.sina.com</p>\\n            </div>\\n            <div class=\"copy-right\">\\n                <p>Copyright © 1996-2019 SINA Corporation</p>\\n                <p>All Rights Reserved  新浪公司 <a href=\"http://corp.sina.com.cn/chn/copyright.html\" target=\"_blank\">版权所有</a> </p>\\n            </div>\\n\\t\\t\\t<!-- 版权信息 end-->\\n\\t\\t\\t<!-- 广告 -->\\n            <div class=\"right-side-ad\" id=\"last_ad_wrap\">\\n\\t\\t\\t\\t<ins class=\"sinaads\" data-ad-pdps=\"PDPS000000058109\" id=\"last_side_ad\"></ins>\\n\\t\\t\\t\\t<script>(sinaads = window.sinaads || []).push({});</script>\\n            </div>\\n\\t\\t\\t\\n\\t\\t\\t<div class=\"right-tlt\" data-sudaclick=\"ad_right_sea_p\">\\n\\t\\t\\t\\t<i class=\"top-bar\"></i>\\n\\t\\t\\t\\t<h3><a href=\"http://sea.sina.com.cn/\" target=\"_blank\">新浪扶翼</a></h3>\\n\\t\\t\\t\\t<span class=\"sub-tlt\"><a href=\"http://sea.sina.com.cn/\" target=\"_blank\">行业专区</a></span>\\n\\t\\t\\t</div> \\n\\t\\t\\t<div class=\"right-side-ad2\"> \\n\\t\\t\\t\\t<ins class=\"sinaads\" data-ad-pdps=\"PDPS000000057661\"></ins> \\n\\t\\t\\t\\t<script>(sinaads = window.sinaads || []).push({});</script> \\n\\t\\t\\t</div> \\n\\t\\t\\t\\n\\t\\t\\t\\n\\t\\t</div>\\n\\t\\t<!-- 右侧 end -->\\n\\t\\t\\t</div>\\n\\t<!-- 正文 end -->\\n\\n</div>\\n<!-- main content end -->\\n\\n<!-- 正文页浮层 start -->\\n<div class=\"page-right-bar\">\\n    <a href=\"https://www.sina.com.cn/\" data-sudaclick=\"float_home_p\" class=\\'right-bar-btn btn-home\\'><i class=\"ani pulse infinite\"></i>新浪首页</a>\\n    <a href=\"javascript:;\" data-sudaclick=\"float_relativenews_i\" node-type=\"toRelated\" class=\\'right-bar-btn btn-related\\'>相关新闻</a>\\n\\t<a href=\"https://vote.sina.com.cn/106\" target=\"_blank\" data-sudaclick=\"float_survey_p\" class=\"right-bar-btn btn-survey\">改版调查</a>\\n    <a data-sudaclick=\"float_survey_p\" node-type=\"sittingA\" class=\"right-bar-btn sittingA\"></a>\\n    <a href=\"javascript:;\" data-sudaclick=\"float_top_i\" node-type=\"toTop\" class=\\'right-bar-btn btn-toTop fadeOut\\'>返回顶部</a>\\n</div>\\n<!-- public -->\\n<script type=\"text/javascript\" src=\"//tech.sina.com.cn/js/717/20140827/index2014/top.js\" charset=\"gb2312\"></script>\\n<script language=\\'javascript\\' charset=\\'utf-8\\' src=\\'//news.sina.com.cn/sso/ssologin.js\\'></script>\\n<script type=\"text/javascript\" src=\"//news.sina.com.cn/sso/outlogin_layer.js\" charset=\"utf-8\"></script>\\n<script type=\"text/javascript\" src=\"//news.sina.com.cn/sso/user_panel_new_version.js\" charset=\"utf-8\"></script>\\n<script type=\"text/javascript\" src=\"//ent.sina.com.cn/470/2014/0328/search_suggest.js\"></script>\\n<!--页面顶导 begin-->\\n<script charset=\"utf-8\" type=\"text/javascript\" src=\"//n.sinaimg.cn/common/channelnav/js/nav.js\"></script>\\n\\t<ins class=\"sinaads\" data-ad-pdps=\"PDPS000000057131\" data-pop-position=\"right bottom\"></ins>\\n<script>(sinaads = window.sinaads || []).push({\\n\\tparams:{\\n\\t\\tsinaads_ad_delay: 5,\\n        \\tsinaads_pop_position:\"right bottom\"\\n\\t}\\n});</script>\\n<ins class=\"sinaads\" data-ad-pdps=\"PDPS000000057715\"></ins>\\n<script>(sinaads = window.sinaads || []).push({});</script>\\n\\n<!--左下非定向按钮    2017/11  begin--> \\n<script language=\"javascript\" type=\"text/javascript\" src=\"//d2.sina.com.cn/d1images/button/rotator.js\" charset=\"gbk\"></script>\\n<script type=\"text/javascript\">\\n  (function(){\\n    var adScript = document.createElement(\\'script\\');\\n    adScript.src = \\'//d3.sina.com.cn/litong/zhitou/sinaads/demo/wenjing8/js/js_left_hzh_20171128.js\\';\\n    document.getElementsByTagName(\\'head\\')[0].appendChild(adScript);\\n  })();\\n</script>\\n\\t<!--左下非定向按钮    end-->\\n\\t<!--随屏对联             2018/01 begin-->\\n\\t<!--\\n* 国内: PDPS000000065715\\n* 国际: PDPS000000065716\\n* 社会: PDPS000000065717\\n-->\\n\\t<ins class=\"sinaads\" data-ad-pdps=\"PDPS000000065715\" data-ad-type=\"float\"></ins>\\n\\t<script>(sinaads = window.sinaads || []).push({\\n\\t\\t\\tparams : {\\n\\t\\t\\t\\tsinaads_float_show_pos: 800,  //随屏对联\\n\\t\\t\\t\\tsinaads_float_top : 100\\n\\t\\t\\t}\\n\\t\\t});</script>\\n\\t<!--随屏对联 end-->\\n\\t\\t<!--评论组件依赖文件-->\\n\\t<script charset=\"utf-8\" type=\"text/javascript\" src=\"//finance.sina.com.cn/other/src/article-comment-2017.js?t=201710182026\"></script>\\n\\t\\t<script type=\"text/javascript\" src=\"//simg.sinajs.cn/products/news/items/2017/pc_news_article/js/vender-f59cda.js\"></script><script type=\"text/javascript\" src=\"//news.sina.com.cn/blank/pc_news_article/article-news.js\"></script>\\n<script type=\"text/javascript\" src=\"//mjs.sinaimg.cn/wap/public/suda/201705231420/suda_log.min.js\"></script>\\n<script type=\"text/javascript\" src=\"//www.sinaimg.cn/unipro/pub/suda_m_v634.js\"></script>\\n<script type=\"text/javascript\">suds_init(3272,100.0000,1515,2);</script>\\n<!-- body code begin -->\\n<script type=\"text/javascript\">\\n(function(){\\n    if(window.top !== window.self || window._thereIsNoRealTimeMessage){return};\\n    var script = document.createElement(\\'script\\');\\n    script.setAttribute(\\'charset\\', \\'gb2312\\');\\n    script.src = \\'//news.sina.com.cn/js/694/2012/0830/realtime.js?ver=1.5.1\\';\\n    document.getElementsByTagName(\\'head\\')[0].appendChild(script);\\n})();\\n</script>\\n\\n<!-- SSO_UPDATECOOKIE_START -->\\n<script type=\"text/javascript\">var sinaSSOManager=sinaSSOManager||{};sinaSSOManager.q=function(b){if(typeof b!=\"object\"){return\"\"}var a=new Array();for(key in b){a.push(key+\"=\"+encodeURIComponent(b[key]))}return a.join(\"&\")};sinaSSOManager.es=function(f,d,e){var c=document.getElementsByTagName(\"head\")[0];var a=document.getElementById(f);if(a){c.removeChild(a)}var b=document.createElement(\"script\");if(e){b.charset=e}else{b.charset=\"gb2312\"}b.id=f;b.type=\"text/javascript\";d+=(/\\\\?/.test(d)?\"&\":\"?\")+\"_=\"+(new Date()).getTime();b.src=d;c.appendChild(b)};sinaSSOManager.doCrossDomainCallBack=function(a){sinaSSOManager.crossDomainCounter++;document.getElementsByTagName(\"head\")[0].removeChild(document.getElementById(a.scriptId))};sinaSSOManager.crossDomainCallBack=function(a){if(!a||a.retcode!=0){return false}var d=a.arrURL;var b,f;var e={callback:\"sinaSSOManager.doCrossDomainCallBack\"};sinaSSOManager.crossDomainCounter=0;if(d.length==0){return true}for(var c=0;c<d.length;c++){b=d[c];f=\"ssoscript\"+c;e.scriptId=f;b=b+(/\\\\?/.test(b)?\"&\":\"?\")+sinaSSOManager.q(e);sinaSSOManager.es(f,b)}};sinaSSOManager.updateCookieCallBack=function(c){var d=\"ssoCrossDomainScriptId\";var a=\"http://login.sina.com.cn/sso/crossdomain.php\";if(c.retcode==0){var e={scriptId:d,callback:\"sinaSSOManager.crossDomainCallBack\",action:\"login\",domain:\"sina.com.cn\"};var b=a+\"?\"+sinaSSOManager.q(e);sinaSSOManager.es(d,b)}else{}};sinaSSOManager.updateCookie=function(){var g=1800;var p=7200;var b=\"ssoLoginScript\";var h=3600*24;var i=\"sina.com.cn\";var m=1800;var l=\"http://login.sina.com.cn/sso/updatetgt.php\";var n=null;var f=function(e){var r=null;var q=null;switch(e){case\"sina.com.cn\":q=sinaSSOManager.getSinaCookie();if(q){r=q.et}break;case\"sina.cn\":q=sinaSSOManager.getSinaCookie();if(q){r=q.et}break;case\"51uc.com\":q=sinaSSOManager.getSinaCookie();if(q){r=q.et}break}return r};var j=function(){try{return f(i)}catch(e){return null}};try{if(g>5){if(n!=null){clearTimeout(n)}n=setTimeout(\"sinaSSOManager.updateCookie()\",g*1000)}var d=j();var c=(new Date()).getTime()/1000;var o={};if(d==null){o={retcode:6102}}else{if(d<c){o={retcode:6203}}else{if(d-h+m>c){o={retcode:6110}}else{if(d-c>p){o={retcode:6111}}}}}if(o.retcode!==undefined){return false}var a=l+\"?callback=sinaSSOManager.updateCookieCallBack\";sinaSSOManager.es(b,a)}catch(k){}return true};sinaSSOManager.updateCookie();</script>\\n<!-- SSO_UPDATECOOKIE_END -->\\n\\n<!-- body code end -->\\n\\n</body>\\n</html>\\n'"
      ]
     },
     "execution_count": 146,
     "metadata": {},
     "output_type": "execute_result"
    }
   ],
   "source": [
    "res = requests.get('https://news.sina.com.cn/c/2019-12-19/doc-iihnzahi8709683.shtml')\n",
    "res.encoding = 'utf-8'\n",
    "res.text"
   ]
  },
  {
   "cell_type": "code",
   "execution_count": 147,
   "metadata": {},
   "outputs": [
    {
     "data": {
      "text/plain": [
       "'\\n关键字 : \\n回归祖国一国两制 '"
      ]
     },
     "execution_count": 147,
     "metadata": {},
     "output_type": "execute_result"
    }
   ],
   "source": [
    "#网页中的数据的爬取\n",
    "soup = BeautifulSoup(res.text,'html.parser')\n",
    "soup.select('.main-title')[0].text\n",
    "#先提取文章变为text的形式，并转为除去换行符的list，并把list合并\n",
    "' '.join(soup.select('.article')[0].text.split())\n",
    "soup.select('.date-source')[0].text\n",
    "soup.select('#keywords')[0].text"
   ]
  },
  {
   "cell_type": "code",
   "execution_count": 148,
   "metadata": {},
   "outputs": [
    {
     "data": {
      "text/plain": [
       "{'title': '深圳二手房价涨幅超5%可投诉？官方解读来了',\n",
       " 'content': '原标题：深圳二手房价涨幅超5%可投诉？解读有误！官方解读来了 深圳市住房和建设局官方今日发布消息称，连日来，我市部分小区出现二手房业主集体串联哄抬房价的现象，成为市民群众热议的话题。12月18日，市住房建设局发布通告，表示将对部分集体恶意炒作房价的小区暂停办理二手房网签手续，对于经查实的违法违规人员，将由房地产主管部门将其列入信用黑名单。 12月19日晚，有媒体对相关采访作出解读，称“二手房价涨幅如超5%，市民即可向区房地产主管部门投诉”。针对该解读可能引起歧义的部分，我局作出如下声明： 按照国家房地产宏观调控长效机制的要求，深圳2019年一手房、二手房价格指数年涨幅原则上不超过5%。此次市、区房地产主管部门对相关楼盘限制网签的原因，不仅是因为其涨幅明显超过了近期市场成交价，更是因为部分业主恶意串通集体抬高挂牌价格，严重损害了购房者利益，破坏了公序良俗，违背了中央房住不炒的定位，扰乱了正常的房地产市场秩序。 此外，5%的价格指数年涨幅是全市性综合指标，因为区位及配套设施等条件的不同，具体楼盘价格涨幅会有所区别。因此，业主只要不是恶意串通哄抬房价，按照正常的市场秩序进行交易，且不明显高于近期市场成交价，其交易行为可正常进行。 我局同时提醒广大市民群众，近期有关我市房地产调控的各类报道较多，部分信息和解读并不准确，具体请以市住房建设局发布的信息以及我局授权的媒体报道为准。 责任编辑：范斯腾',\n",
       " 'source': '\\n2019年12月20日 15:21\\n新京报 ',\n",
       " 'keywords': '\\n关键字 : \\n哄抬房价二手房 '}"
      ]
     },
     "execution_count": 148,
     "metadata": {},
     "output_type": "execute_result"
    }
   ],
   "source": [
    "#把上面的数据的爬取步骤变为一个函数\n",
    "def getdata(url):\n",
    "    res = requests.get(url)\n",
    "    res.encoding = 'utf-8'\n",
    "    soup = BeautifulSoup(res.text,'html.parser')\n",
    "    #使用一个字典对数据进行结构化处理\n",
    "    dic={}\n",
    "    dic['title'] = soup.select('.main-title')[0].text\n",
    "    dic['content'] = ' '.join(soup.select('.article')[0].text.split())\n",
    "    dic['source'] = soup.select('.date-source')[0].text\n",
    "    dic['keywords'] = soup.select('#keywords')[0].text\n",
    "    return dic\n",
    "#getdata('https://news.sina.com.cn/c/2019-12-20/doc-iihnzhfz7199632.shtml')"
   ]
  },
  {
   "cell_type": "code",
   "execution_count": 149,
   "metadata": {},
   "outputs": [],
   "source": [
    "#完整的爬取新浪新闻中的一些文章全过程\n",
    "import requests\n",
    "from bs4 import BeautifulSoup\n",
    "import re\n",
    "res = requests.get('https://news.sina.com.cn/china/')\n",
    "res.encoding = 'utf-8'\n",
    "soup = BeautifulSoup(res.text,'html.parser')\n",
    "\n",
    "newsarray = []\n",
    "\n",
    "for link in soup.select('.right-content li'):\n",
    "    newsarray.append(getdata(link.select('a')[0]['href']))"
   ]
  },
  {
   "cell_type": "code",
   "execution_count": 150,
   "metadata": {},
   "outputs": [
    {
     "data": {
      "text/plain": [
       "15"
      ]
     },
     "execution_count": 150,
     "metadata": {},
     "output_type": "execute_result"
    }
   ],
   "source": [
    "len(newsarray)"
   ]
  },
  {
   "cell_type": "markdown",
   "metadata": {},
   "source": [
    "# 建立dataframe"
   ]
  },
  {
   "cell_type": "code",
   "execution_count": 151,
   "metadata": {},
   "outputs": [
    {
     "data": {
      "text/html": [
       "<div>\n",
       "<style scoped>\n",
       "    .dataframe tbody tr th:only-of-type {\n",
       "        vertical-align: middle;\n",
       "    }\n",
       "\n",
       "    .dataframe tbody tr th {\n",
       "        vertical-align: top;\n",
       "    }\n",
       "\n",
       "    .dataframe thead th {\n",
       "        text-align: right;\n",
       "    }\n",
       "</style>\n",
       "<table border=\"1\" class=\"dataframe\">\n",
       "  <thead>\n",
       "    <tr style=\"text-align: right;\">\n",
       "      <th></th>\n",
       "      <th>title</th>\n",
       "      <th>content</th>\n",
       "      <th>source</th>\n",
       "      <th>keywords</th>\n",
       "    </tr>\n",
       "  </thead>\n",
       "  <tbody>\n",
       "    <tr>\n",
       "      <td>0</td>\n",
       "      <td>澳门人足年丰有余庆 央视主播这样说</td>\n",
       "      <td>原标题：主播说联播丨刚强“总结君”上线 前方高能→ 今天是12月19日，澳门即将迎来回归祖国...</td>\n",
       "      <td>\\n2019年12月19日 21:53\\n央视</td>\n",
       "      <td>\\n关键字 : \\n回归祖国一国两制</td>\n",
       "    </tr>\n",
       "    <tr>\n",
       "      <td>1</td>\n",
       "      <td>黄之锋又申请离港被拒 声称要去参观台湾2020选举</td>\n",
       "      <td>原标题：还不死心！黄之锋又申请离港被拒，这次他声称要去参观台湾2020选举 [环球网报道]乱...</td>\n",
       "      <td>\\n2019年12月19日 18:33\\n环球网</td>\n",
       "      <td>\\n关键字 : \\n选举</td>\n",
       "    </tr>\n",
       "    <tr>\n",
       "      <td>2</td>\n",
       "      <td>国防科大校长已调整 中央候补委员邓小刚卸任</td>\n",
       "      <td>原标题：国防科大校长已调整，中候补邓小刚卸任 据国防科技大学官网消息：近日，国防科大在学术成...</td>\n",
       "      <td>\\n2019年12月19日 19:59\\n新京报</td>\n",
       "      <td>\\n关键字 : \\n西北工业大学电子</td>\n",
       "    </tr>\n",
       "    <tr>\n",
       "      <td>3</td>\n",
       "      <td>散播仇华言论遭起诉 这些外国网民认罪了</td>\n",
       "      <td>原标题：锐参考 | 散播仇华言论遭起诉，这些外国网民认罪了！ 在开庭9个月后，南非首例“辱华...</td>\n",
       "      <td>\\n2019年12月19日 21:34\\n参考消息</td>\n",
       "      <td>\\n关键字 : \\n南非</td>\n",
       "    </tr>\n",
       "    <tr>\n",
       "      <td>4</td>\n",
       "      <td>张善政：参选2020是为了下架蔡英文 为台湾停损</td>\n",
       "      <td>原标题：张善政：参选2020是为了下架蔡英文，为台湾停损 [环球网报道]台当局副领导人候选人...</td>\n",
       "      <td>\\n2019年12月20日 19:55\\n环球网</td>\n",
       "      <td>\\n关键字 : \\n蔡英文</td>\n",
       "    </tr>\n",
       "  </tbody>\n",
       "</table>\n",
       "</div>"
      ],
      "text/plain": [
       "                       title  \\\n",
       "0          澳门人足年丰有余庆 央视主播这样说   \n",
       "1  黄之锋又申请离港被拒 声称要去参观台湾2020选举   \n",
       "2      国防科大校长已调整 中央候补委员邓小刚卸任   \n",
       "3        散播仇华言论遭起诉 这些外国网民认罪了   \n",
       "4   张善政：参选2020是为了下架蔡英文 为台湾停损   \n",
       "\n",
       "                                             content  \\\n",
       "0  原标题：主播说联播丨刚强“总结君”上线 前方高能→ 今天是12月19日，澳门即将迎来回归祖国...   \n",
       "1  原标题：还不死心！黄之锋又申请离港被拒，这次他声称要去参观台湾2020选举 [环球网报道]乱...   \n",
       "2  原标题：国防科大校长已调整，中候补邓小刚卸任 据国防科技大学官网消息：近日，国防科大在学术成...   \n",
       "3  原标题：锐参考 | 散播仇华言论遭起诉，这些外国网民认罪了！ 在开庭9个月后，南非首例“辱华...   \n",
       "4  原标题：张善政：参选2020是为了下架蔡英文，为台湾停损 [环球网报道]台当局副领导人候选人...   \n",
       "\n",
       "                       source             keywords  \n",
       "0    \\n2019年12月19日 21:53\\n央视   \\n关键字 : \\n回归祖国一国两制   \n",
       "1   \\n2019年12月19日 18:33\\n环球网         \\n关键字 : \\n选举   \n",
       "2   \\n2019年12月19日 19:59\\n新京报   \\n关键字 : \\n西北工业大学电子   \n",
       "3  \\n2019年12月19日 21:34\\n参考消息         \\n关键字 : \\n南非   \n",
       "4   \\n2019年12月20日 19:55\\n环球网        \\n关键字 : \\n蔡英文   "
      ]
     },
     "execution_count": 151,
     "metadata": {},
     "output_type": "execute_result"
    }
   ],
   "source": [
    "import pandas as pd\n",
    "df = pd.DataFrame(data = newsarray)\n",
    "df.head()"
   ]
  },
  {
   "cell_type": "code",
   "execution_count": 153,
   "metadata": {},
   "outputs": [
    {
     "data": {
      "text/plain": [
       "0    \\n关键字 : \\n回归祖国一国两制 \n",
       "1          \\n关键字 : \\n选举 \n",
       "2    \\n关键字 : \\n西北工业大学电子 \n",
       "Name: keywords, dtype: object"
      ]
     },
     "execution_count": 153,
     "metadata": {},
     "output_type": "execute_result"
    }
   ],
   "source": [
    "#整理文章中的关键字\n",
    "df['keywords'].head(3)"
   ]
  },
  {
   "cell_type": "code",
   "execution_count": 161,
   "metadata": {},
   "outputs": [
    {
     "data": {
      "text/plain": [
       "0     [回归祖国一国两制]\n",
       "1           [选举]\n",
       "2     [西北工业大学电子]\n",
       "3           [南非]\n",
       "4          [蔡英文]\n",
       "5           [瑞典]\n",
       "6          [特鲁多]\n",
       "7       [香港中文大学]\n",
       "8     [战斗机米格-31]\n",
       "9        [教材价值观]\n",
       "10          [中美]\n",
       "11         [蔡英文]\n",
       "12        [云南高铁]\n",
       "13          [中美]\n",
       "14     [哄抬房价二手房]\n",
       "Name: keywords, dtype: object"
      ]
     },
     "execution_count": 161,
     "metadata": {},
     "output_type": "execute_result"
    }
   ],
   "source": [
    "df['keywords'].map(lambda a : a.split(':')[1].split())"
   ]
  },
  {
   "cell_type": "code",
   "execution_count": 162,
   "metadata": {},
   "outputs": [],
   "source": [
    "df['keywords'] = df['keywords'].map(lambda a : a.split(':')[1].split())"
   ]
  },
  {
   "cell_type": "code",
   "execution_count": 163,
   "metadata": {},
   "outputs": [
    {
     "data": {
      "text/html": [
       "<div>\n",
       "<style scoped>\n",
       "    .dataframe tbody tr th:only-of-type {\n",
       "        vertical-align: middle;\n",
       "    }\n",
       "\n",
       "    .dataframe tbody tr th {\n",
       "        vertical-align: top;\n",
       "    }\n",
       "\n",
       "    .dataframe thead th {\n",
       "        text-align: right;\n",
       "    }\n",
       "</style>\n",
       "<table border=\"1\" class=\"dataframe\">\n",
       "  <thead>\n",
       "    <tr style=\"text-align: right;\">\n",
       "      <th></th>\n",
       "      <th>title</th>\n",
       "      <th>content</th>\n",
       "      <th>source</th>\n",
       "      <th>keywords</th>\n",
       "    </tr>\n",
       "  </thead>\n",
       "  <tbody>\n",
       "    <tr>\n",
       "      <td>0</td>\n",
       "      <td>澳门人足年丰有余庆 央视主播这样说</td>\n",
       "      <td>原标题：主播说联播丨刚强“总结君”上线 前方高能→ 今天是12月19日，澳门即将迎来回归祖国...</td>\n",
       "      <td>\\n2019年12月19日 21:53\\n央视</td>\n",
       "      <td>[回归祖国一国两制]</td>\n",
       "    </tr>\n",
       "    <tr>\n",
       "      <td>1</td>\n",
       "      <td>黄之锋又申请离港被拒 声称要去参观台湾2020选举</td>\n",
       "      <td>原标题：还不死心！黄之锋又申请离港被拒，这次他声称要去参观台湾2020选举 [环球网报道]乱...</td>\n",
       "      <td>\\n2019年12月19日 18:33\\n环球网</td>\n",
       "      <td>[选举]</td>\n",
       "    </tr>\n",
       "    <tr>\n",
       "      <td>2</td>\n",
       "      <td>国防科大校长已调整 中央候补委员邓小刚卸任</td>\n",
       "      <td>原标题：国防科大校长已调整，中候补邓小刚卸任 据国防科技大学官网消息：近日，国防科大在学术成...</td>\n",
       "      <td>\\n2019年12月19日 19:59\\n新京报</td>\n",
       "      <td>[西北工业大学电子]</td>\n",
       "    </tr>\n",
       "  </tbody>\n",
       "</table>\n",
       "</div>"
      ],
      "text/plain": [
       "                       title  \\\n",
       "0          澳门人足年丰有余庆 央视主播这样说   \n",
       "1  黄之锋又申请离港被拒 声称要去参观台湾2020选举   \n",
       "2      国防科大校长已调整 中央候补委员邓小刚卸任   \n",
       "\n",
       "                                             content  \\\n",
       "0  原标题：主播说联播丨刚强“总结君”上线 前方高能→ 今天是12月19日，澳门即将迎来回归祖国...   \n",
       "1  原标题：还不死心！黄之锋又申请离港被拒，这次他声称要去参观台湾2020选举 [环球网报道]乱...   \n",
       "2  原标题：国防科大校长已调整，中候补邓小刚卸任 据国防科技大学官网消息：近日，国防科大在学术成...   \n",
       "\n",
       "                      source    keywords  \n",
       "0   \\n2019年12月19日 21:53\\n央视   [回归祖国一国两制]  \n",
       "1  \\n2019年12月19日 18:33\\n环球网         [选举]  \n",
       "2  \\n2019年12月19日 19:59\\n新京报   [西北工业大学电子]  "
      ]
     },
     "execution_count": 163,
     "metadata": {},
     "output_type": "execute_result"
    }
   ],
   "source": [
    "df.head(3)"
   ]
  },
  {
   "cell_type": "code",
   "execution_count": 183,
   "metadata": {},
   "outputs": [
    {
     "data": {
      "text/plain": [
       "0      2019年12月19日 21:53央视 \n",
       "1     2019年12月19日 18:33环球网 \n",
       "2     2019年12月19日 19:59新京报 \n",
       "3    2019年12月19日 21:34参考消息 \n",
       "4     2019年12月20日 19:55环球网 \n",
       "Name: source, dtype: object"
      ]
     },
     "execution_count": 183,
     "metadata": {},
     "output_type": "execute_result"
    }
   ],
   "source": [
    "#对于时间以及来源的处理\n",
    "df['source'].head()"
   ]
  },
  {
   "cell_type": "code",
   "execution_count": 184,
   "metadata": {},
   "outputs": [],
   "source": [
    "#使用replace替换了换行符\n",
    "df['source'].map(lambda a : a.replace('\\n',''))\n",
    "df['source'] = df['source'].map(lambda a : a.replace('\\n',''))"
   ]
  },
  {
   "cell_type": "code",
   "execution_count": 189,
   "metadata": {},
   "outputs": [
    {
     "data": {
      "text/html": [
       "<div>\n",
       "<style scoped>\n",
       "    .dataframe tbody tr th:only-of-type {\n",
       "        vertical-align: middle;\n",
       "    }\n",
       "\n",
       "    .dataframe tbody tr th {\n",
       "        vertical-align: top;\n",
       "    }\n",
       "\n",
       "    .dataframe thead th {\n",
       "        text-align: right;\n",
       "    }\n",
       "</style>\n",
       "<table border=\"1\" class=\"dataframe\">\n",
       "  <thead>\n",
       "    <tr style=\"text-align: right;\">\n",
       "      <th></th>\n",
       "      <th>0</th>\n",
       "      <th>1</th>\n",
       "    </tr>\n",
       "  </thead>\n",
       "  <tbody>\n",
       "    <tr>\n",
       "      <td>0</td>\n",
       "      <td>2019年12月19日 21:53</td>\n",
       "      <td>央视</td>\n",
       "    </tr>\n",
       "    <tr>\n",
       "      <td>1</td>\n",
       "      <td>2019年12月19日 18:33</td>\n",
       "      <td>环球网</td>\n",
       "    </tr>\n",
       "    <tr>\n",
       "      <td>2</td>\n",
       "      <td>2019年12月19日 19:59</td>\n",
       "      <td>新京报</td>\n",
       "    </tr>\n",
       "    <tr>\n",
       "      <td>3</td>\n",
       "      <td>2019年12月19日 21:34</td>\n",
       "      <td>参考消息</td>\n",
       "    </tr>\n",
       "    <tr>\n",
       "      <td>4</td>\n",
       "      <td>2019年12月20日 19:55</td>\n",
       "      <td>环球网</td>\n",
       "    </tr>\n",
       "    <tr>\n",
       "      <td>5</td>\n",
       "      <td>2019年12月20日 17:16</td>\n",
       "      <td>环球网</td>\n",
       "    </tr>\n",
       "    <tr>\n",
       "      <td>6</td>\n",
       "      <td>2019年12月20日 17:01</td>\n",
       "      <td>环球时报</td>\n",
       "    </tr>\n",
       "    <tr>\n",
       "      <td>7</td>\n",
       "      <td>2019年12月20日 17:01</td>\n",
       "      <td>环球时报</td>\n",
       "    </tr>\n",
       "    <tr>\n",
       "      <td>8</td>\n",
       "      <td>2019年12月20日 17:01</td>\n",
       "      <td>环球时报</td>\n",
       "    </tr>\n",
       "    <tr>\n",
       "      <td>9</td>\n",
       "      <td>2019年12月20日 16:29</td>\n",
       "      <td>央视</td>\n",
       "    </tr>\n",
       "    <tr>\n",
       "      <td>10</td>\n",
       "      <td>2019年12月20日 16:04</td>\n",
       "      <td>环球网</td>\n",
       "    </tr>\n",
       "    <tr>\n",
       "      <td>11</td>\n",
       "      <td>2019年12月20日 15:47</td>\n",
       "      <td>中国台湾网</td>\n",
       "    </tr>\n",
       "    <tr>\n",
       "      <td>12</td>\n",
       "      <td>2019年12月20日 15:41</td>\n",
       "      <td>央视</td>\n",
       "    </tr>\n",
       "    <tr>\n",
       "      <td>13</td>\n",
       "      <td>2019年12月20日 15:38</td>\n",
       "      <td>澎湃新闻</td>\n",
       "    </tr>\n",
       "    <tr>\n",
       "      <td>14</td>\n",
       "      <td>2019年12月20日 15:21</td>\n",
       "      <td>新京报</td>\n",
       "    </tr>\n",
       "  </tbody>\n",
       "</table>\n",
       "</div>"
      ],
      "text/plain": [
       "                    0      1\n",
       "0   2019年12月19日 21:53     央视\n",
       "1   2019年12月19日 18:33    环球网\n",
       "2   2019年12月19日 19:59    新京报\n",
       "3   2019年12月19日 21:34   参考消息\n",
       "4   2019年12月20日 19:55    环球网\n",
       "5   2019年12月20日 17:16    环球网\n",
       "6   2019年12月20日 17:01   环球时报\n",
       "7   2019年12月20日 17:01   环球时报\n",
       "8   2019年12月20日 17:01   环球时报\n",
       "9   2019年12月20日 16:29     央视\n",
       "10  2019年12月20日 16:04    环球网\n",
       "11  2019年12月20日 15:47  中国台湾网\n",
       "12  2019年12月20日 15:41     央视\n",
       "13  2019年12月20日 15:38   澎湃新闻\n",
       "14  2019年12月20日 15:21    新京报"
      ]
     },
     "execution_count": 189,
     "metadata": {},
     "output_type": "execute_result"
    }
   ],
   "source": [
    "#使用正则表达抽取时间和来源\n",
    "df['source'].str.extract('(\\d+年\\d+月\\d+日 \\d+:\\d+)(\\w+)')"
   ]
  },
  {
   "cell_type": "code",
   "execution_count": 190,
   "metadata": {},
   "outputs": [],
   "source": [
    "df[['datatime','from']] = df['source'].str.extract('(\\d+年\\d+月\\d+日 \\d+:\\d+)(\\w+)',expand=False)"
   ]
  },
  {
   "cell_type": "code",
   "execution_count": 191,
   "metadata": {},
   "outputs": [
    {
     "data": {
      "text/html": [
       "<div>\n",
       "<style scoped>\n",
       "    .dataframe tbody tr th:only-of-type {\n",
       "        vertical-align: middle;\n",
       "    }\n",
       "\n",
       "    .dataframe tbody tr th {\n",
       "        vertical-align: top;\n",
       "    }\n",
       "\n",
       "    .dataframe thead th {\n",
       "        text-align: right;\n",
       "    }\n",
       "</style>\n",
       "<table border=\"1\" class=\"dataframe\">\n",
       "  <thead>\n",
       "    <tr style=\"text-align: right;\">\n",
       "      <th></th>\n",
       "      <th>title</th>\n",
       "      <th>content</th>\n",
       "      <th>source</th>\n",
       "      <th>keywords</th>\n",
       "      <th>datatime</th>\n",
       "      <th>from</th>\n",
       "    </tr>\n",
       "  </thead>\n",
       "  <tbody>\n",
       "    <tr>\n",
       "      <td>0</td>\n",
       "      <td>澳门人足年丰有余庆 央视主播这样说</td>\n",
       "      <td>原标题：主播说联播丨刚强“总结君”上线 前方高能→ 今天是12月19日，澳门即将迎来回归祖国...</td>\n",
       "      <td>2019年12月19日 21:53央视</td>\n",
       "      <td>[回归祖国一国两制]</td>\n",
       "      <td>2019年12月19日 21:53</td>\n",
       "      <td>央视</td>\n",
       "    </tr>\n",
       "    <tr>\n",
       "      <td>1</td>\n",
       "      <td>黄之锋又申请离港被拒 声称要去参观台湾2020选举</td>\n",
       "      <td>原标题：还不死心！黄之锋又申请离港被拒，这次他声称要去参观台湾2020选举 [环球网报道]乱...</td>\n",
       "      <td>2019年12月19日 18:33环球网</td>\n",
       "      <td>[选举]</td>\n",
       "      <td>2019年12月19日 18:33</td>\n",
       "      <td>环球网</td>\n",
       "    </tr>\n",
       "    <tr>\n",
       "      <td>2</td>\n",
       "      <td>国防科大校长已调整 中央候补委员邓小刚卸任</td>\n",
       "      <td>原标题：国防科大校长已调整，中候补邓小刚卸任 据国防科技大学官网消息：近日，国防科大在学术成...</td>\n",
       "      <td>2019年12月19日 19:59新京报</td>\n",
       "      <td>[西北工业大学电子]</td>\n",
       "      <td>2019年12月19日 19:59</td>\n",
       "      <td>新京报</td>\n",
       "    </tr>\n",
       "    <tr>\n",
       "      <td>3</td>\n",
       "      <td>散播仇华言论遭起诉 这些外国网民认罪了</td>\n",
       "      <td>原标题：锐参考 | 散播仇华言论遭起诉，这些外国网民认罪了！ 在开庭9个月后，南非首例“辱华...</td>\n",
       "      <td>2019年12月19日 21:34参考消息</td>\n",
       "      <td>[南非]</td>\n",
       "      <td>2019年12月19日 21:34</td>\n",
       "      <td>参考消息</td>\n",
       "    </tr>\n",
       "    <tr>\n",
       "      <td>4</td>\n",
       "      <td>张善政：参选2020是为了下架蔡英文 为台湾停损</td>\n",
       "      <td>原标题：张善政：参选2020是为了下架蔡英文，为台湾停损 [环球网报道]台当局副领导人候选人...</td>\n",
       "      <td>2019年12月20日 19:55环球网</td>\n",
       "      <td>[蔡英文]</td>\n",
       "      <td>2019年12月20日 19:55</td>\n",
       "      <td>环球网</td>\n",
       "    </tr>\n",
       "  </tbody>\n",
       "</table>\n",
       "</div>"
      ],
      "text/plain": [
       "                       title  \\\n",
       "0          澳门人足年丰有余庆 央视主播这样说   \n",
       "1  黄之锋又申请离港被拒 声称要去参观台湾2020选举   \n",
       "2      国防科大校长已调整 中央候补委员邓小刚卸任   \n",
       "3        散播仇华言论遭起诉 这些外国网民认罪了   \n",
       "4   张善政：参选2020是为了下架蔡英文 为台湾停损   \n",
       "\n",
       "                                             content                  source  \\\n",
       "0  原标题：主播说联播丨刚强“总结君”上线 前方高能→ 今天是12月19日，澳门即将迎来回归祖国...    2019年12月19日 21:53央视    \n",
       "1  原标题：还不死心！黄之锋又申请离港被拒，这次他声称要去参观台湾2020选举 [环球网报道]乱...   2019年12月19日 18:33环球网    \n",
       "2  原标题：国防科大校长已调整，中候补邓小刚卸任 据国防科技大学官网消息：近日，国防科大在学术成...   2019年12月19日 19:59新京报    \n",
       "3  原标题：锐参考 | 散播仇华言论遭起诉，这些外国网民认罪了！ 在开庭9个月后，南非首例“辱华...  2019年12月19日 21:34参考消息    \n",
       "4  原标题：张善政：参选2020是为了下架蔡英文，为台湾停损 [环球网报道]台当局副领导人候选人...   2019年12月20日 19:55环球网    \n",
       "\n",
       "     keywords           datatime  from  \n",
       "0  [回归祖国一国两制]  2019年12月19日 21:53    央视  \n",
       "1        [选举]  2019年12月19日 18:33   环球网  \n",
       "2  [西北工业大学电子]  2019年12月19日 19:59   新京报  \n",
       "3        [南非]  2019年12月19日 21:34  参考消息  \n",
       "4       [蔡英文]  2019年12月20日 19:55   环球网  "
      ]
     },
     "execution_count": 191,
     "metadata": {},
     "output_type": "execute_result"
    }
   ],
   "source": [
    "df.head()"
   ]
  },
  {
   "cell_type": "code",
   "execution_count": 192,
   "metadata": {},
   "outputs": [
    {
     "name": "stdout",
     "output_type": "stream",
     "text": [
      "<class 'pandas.core.frame.DataFrame'>\n",
      "RangeIndex: 15 entries, 0 to 14\n",
      "Data columns (total 6 columns):\n",
      "title       15 non-null object\n",
      "content     15 non-null object\n",
      "source      15 non-null object\n",
      "keywords    15 non-null object\n",
      "datatime    15 non-null object\n",
      "from        15 non-null object\n",
      "dtypes: object(6)\n",
      "memory usage: 848.0+ bytes\n"
     ]
    }
   ],
   "source": [
    "#转化时间格式\n",
    "df.info()"
   ]
  },
  {
   "cell_type": "code",
   "execution_count": 194,
   "metadata": {},
   "outputs": [
    {
     "data": {
      "text/plain": [
       "0   2019-12-19 21:53:00\n",
       "1   2019-12-19 18:33:00\n",
       "2   2019-12-19 19:59:00\n",
       "3   2019-12-19 21:34:00\n",
       "4   2019-12-20 19:55:00\n",
       "Name: datatime, dtype: datetime64[ns]"
      ]
     },
     "execution_count": 194,
     "metadata": {},
     "output_type": "execute_result"
    }
   ],
   "source": [
    "df['datatime'] = pd.to_datetime(df['datatime'],format= '%Y年%m月%d日 %H:%M')\n",
    "df['datatime'].head()"
   ]
  },
  {
   "cell_type": "code",
   "execution_count": 197,
   "metadata": {},
   "outputs": [
    {
     "data": {
      "text/plain": [
       "0     2019\n",
       "1     2019\n",
       "2     2019\n",
       "3     2019\n",
       "4     2019\n",
       "5     2019\n",
       "6     2019\n",
       "7     2019\n",
       "8     2019\n",
       "9     2019\n",
       "10    2019\n",
       "11    2019\n",
       "12    2019\n",
       "13    2019\n",
       "14    2019\n",
       "Name: datatime, dtype: int64"
      ]
     },
     "execution_count": 197,
     "metadata": {},
     "output_type": "execute_result"
    }
   ],
   "source": [
    "#任意取出转化格式后的datatime中的时间\n",
    "df['datatime'].map(lambda a : a.year)"
   ]
  },
  {
   "cell_type": "code",
   "execution_count": 200,
   "metadata": {},
   "outputs": [],
   "source": [
    "#删除source\n",
    "del df['source']"
   ]
  },
  {
   "cell_type": "code",
   "execution_count": 201,
   "metadata": {},
   "outputs": [
    {
     "data": {
      "text/html": [
       "<div>\n",
       "<style scoped>\n",
       "    .dataframe tbody tr th:only-of-type {\n",
       "        vertical-align: middle;\n",
       "    }\n",
       "\n",
       "    .dataframe tbody tr th {\n",
       "        vertical-align: top;\n",
       "    }\n",
       "\n",
       "    .dataframe thead th {\n",
       "        text-align: right;\n",
       "    }\n",
       "</style>\n",
       "<table border=\"1\" class=\"dataframe\">\n",
       "  <thead>\n",
       "    <tr style=\"text-align: right;\">\n",
       "      <th></th>\n",
       "      <th>title</th>\n",
       "      <th>content</th>\n",
       "      <th>keywords</th>\n",
       "      <th>datatime</th>\n",
       "      <th>from</th>\n",
       "    </tr>\n",
       "  </thead>\n",
       "  <tbody>\n",
       "    <tr>\n",
       "      <td>0</td>\n",
       "      <td>澳门人足年丰有余庆 央视主播这样说</td>\n",
       "      <td>原标题：主播说联播丨刚强“总结君”上线 前方高能→ 今天是12月19日，澳门即将迎来回归祖国...</td>\n",
       "      <td>[回归祖国一国两制]</td>\n",
       "      <td>2019-12-19 21:53:00</td>\n",
       "      <td>央视</td>\n",
       "    </tr>\n",
       "    <tr>\n",
       "      <td>1</td>\n",
       "      <td>黄之锋又申请离港被拒 声称要去参观台湾2020选举</td>\n",
       "      <td>原标题：还不死心！黄之锋又申请离港被拒，这次他声称要去参观台湾2020选举 [环球网报道]乱...</td>\n",
       "      <td>[选举]</td>\n",
       "      <td>2019-12-19 18:33:00</td>\n",
       "      <td>环球网</td>\n",
       "    </tr>\n",
       "    <tr>\n",
       "      <td>2</td>\n",
       "      <td>国防科大校长已调整 中央候补委员邓小刚卸任</td>\n",
       "      <td>原标题：国防科大校长已调整，中候补邓小刚卸任 据国防科技大学官网消息：近日，国防科大在学术成...</td>\n",
       "      <td>[西北工业大学电子]</td>\n",
       "      <td>2019-12-19 19:59:00</td>\n",
       "      <td>新京报</td>\n",
       "    </tr>\n",
       "  </tbody>\n",
       "</table>\n",
       "</div>"
      ],
      "text/plain": [
       "                       title  \\\n",
       "0          澳门人足年丰有余庆 央视主播这样说   \n",
       "1  黄之锋又申请离港被拒 声称要去参观台湾2020选举   \n",
       "2      国防科大校长已调整 中央候补委员邓小刚卸任   \n",
       "\n",
       "                                             content    keywords  \\\n",
       "0  原标题：主播说联播丨刚强“总结君”上线 前方高能→ 今天是12月19日，澳门即将迎来回归祖国...  [回归祖国一国两制]   \n",
       "1  原标题：还不死心！黄之锋又申请离港被拒，这次他声称要去参观台湾2020选举 [环球网报道]乱...        [选举]   \n",
       "2  原标题：国防科大校长已调整，中候补邓小刚卸任 据国防科技大学官网消息：近日，国防科大在学术成...  [西北工业大学电子]   \n",
       "\n",
       "             datatime from  \n",
       "0 2019-12-19 21:53:00   央视  \n",
       "1 2019-12-19 18:33:00  环球网  \n",
       "2 2019-12-19 19:59:00  新京报  "
      ]
     },
     "execution_count": 201,
     "metadata": {},
     "output_type": "execute_result"
    }
   ],
   "source": [
    "df.head(3)"
   ]
  },
  {
   "cell_type": "code",
   "execution_count": 204,
   "metadata": {},
   "outputs": [
    {
     "data": {
      "text/html": [
       "<div>\n",
       "<style scoped>\n",
       "    .dataframe tbody tr th:only-of-type {\n",
       "        vertical-align: middle;\n",
       "    }\n",
       "\n",
       "    .dataframe tbody tr th {\n",
       "        vertical-align: top;\n",
       "    }\n",
       "\n",
       "    .dataframe thead th {\n",
       "        text-align: right;\n",
       "    }\n",
       "</style>\n",
       "<table border=\"1\" class=\"dataframe\">\n",
       "  <thead>\n",
       "    <tr style=\"text-align: right;\">\n",
       "      <th></th>\n",
       "      <th>from</th>\n",
       "      <th>title</th>\n",
       "      <th>content</th>\n",
       "      <th>keywords</th>\n",
       "      <th>datatime</th>\n",
       "    </tr>\n",
       "  </thead>\n",
       "  <tbody>\n",
       "    <tr>\n",
       "      <td>0</td>\n",
       "      <td>央视</td>\n",
       "      <td>澳门人足年丰有余庆 央视主播这样说</td>\n",
       "      <td>原标题：主播说联播丨刚强“总结君”上线 前方高能→ 今天是12月19日，澳门即将迎来回归祖国...</td>\n",
       "      <td>[回归祖国一国两制]</td>\n",
       "      <td>2019-12-19 21:53:00</td>\n",
       "    </tr>\n",
       "    <tr>\n",
       "      <td>1</td>\n",
       "      <td>环球网</td>\n",
       "      <td>黄之锋又申请离港被拒 声称要去参观台湾2020选举</td>\n",
       "      <td>原标题：还不死心！黄之锋又申请离港被拒，这次他声称要去参观台湾2020选举 [环球网报道]乱...</td>\n",
       "      <td>[选举]</td>\n",
       "      <td>2019-12-19 18:33:00</td>\n",
       "    </tr>\n",
       "    <tr>\n",
       "      <td>2</td>\n",
       "      <td>新京报</td>\n",
       "      <td>国防科大校长已调整 中央候补委员邓小刚卸任</td>\n",
       "      <td>原标题：国防科大校长已调整，中候补邓小刚卸任 据国防科技大学官网消息：近日，国防科大在学术成...</td>\n",
       "      <td>[西北工业大学电子]</td>\n",
       "      <td>2019-12-19 19:59:00</td>\n",
       "    </tr>\n",
       "    <tr>\n",
       "      <td>3</td>\n",
       "      <td>参考消息</td>\n",
       "      <td>散播仇华言论遭起诉 这些外国网民认罪了</td>\n",
       "      <td>原标题：锐参考 | 散播仇华言论遭起诉，这些外国网民认罪了！ 在开庭9个月后，南非首例“辱华...</td>\n",
       "      <td>[南非]</td>\n",
       "      <td>2019-12-19 21:34:00</td>\n",
       "    </tr>\n",
       "    <tr>\n",
       "      <td>4</td>\n",
       "      <td>环球网</td>\n",
       "      <td>张善政：参选2020是为了下架蔡英文 为台湾停损</td>\n",
       "      <td>原标题：张善政：参选2020是为了下架蔡英文，为台湾停损 [环球网报道]台当局副领导人候选人...</td>\n",
       "      <td>[蔡英文]</td>\n",
       "      <td>2019-12-20 19:55:00</td>\n",
       "    </tr>\n",
       "    <tr>\n",
       "      <td>5</td>\n",
       "      <td>环球网</td>\n",
       "      <td>中国公民在瑞典被盗被抢多发破案率低 外交部提醒</td>\n",
       "      <td>原标题：外交部：提醒在瑞典中国公民注意安全 [环球网文旅综合报道]2019年12月20日，据...</td>\n",
       "      <td>[瑞典]</td>\n",
       "      <td>2019-12-20 17:16:00</td>\n",
       "    </tr>\n",
       "    <tr>\n",
       "      <td>6</td>\n",
       "      <td>环球时报</td>\n",
       "      <td>特鲁多向特朗普提出这种要求 中方不得不回应</td>\n",
       "      <td>原标题：特鲁多竟向特朗普提出这种要求，中方不得不回应 今天，美国媒体刊发的一则报道称，加拿大...</td>\n",
       "      <td>[特鲁多]</td>\n",
       "      <td>2019-12-20 17:01:00</td>\n",
       "    </tr>\n",
       "    <tr>\n",
       "      <td>7</td>\n",
       "      <td>环球时报</td>\n",
       "      <td>香港中文大学校长被西方颁了一个奖 理由极为荒唐</td>\n",
       "      <td>原标题：香港中文大学校长被西方颁了一个奖，理由极为荒唐 英国泰晤士高等教育（THE）将香港中...</td>\n",
       "      <td>[香港中文大学]</td>\n",
       "      <td>2019-12-20 17:01:00</td>\n",
       "    </tr>\n",
       "    <tr>\n",
       "      <td>8</td>\n",
       "      <td>环球时报</td>\n",
       "      <td>俄战斗机工程师沸腾了 中国网购“救”了米格-31</td>\n",
       "      <td>原标题：俄战斗机工程师沸腾了，中国网购竟然“救”了米格-31 俄罗斯联合航空制造集团19日在...</td>\n",
       "      <td>[战斗机米格-31]</td>\n",
       "      <td>2019-12-20 17:01:00</td>\n",
       "    </tr>\n",
       "    <tr>\n",
       "      <td>9</td>\n",
       "      <td>央视</td>\n",
       "      <td>香港已有80名教师被捕 涉多次使用价值观歪曲教材</td>\n",
       "      <td>原标题：香港已有80名教师被捕 涉嫌多次使用价值观歪曲教材 香港特区教育局局长杨润雄表示，目...</td>\n",
       "      <td>[教材价值观]</td>\n",
       "      <td>2019-12-20 16:29:00</td>\n",
       "    </tr>\n",
       "    <tr>\n",
       "      <td>10</td>\n",
       "      <td>环球网</td>\n",
       "      <td>盼中美经贸协议考虑诉求 耿爽：加方是否欲哭无泪</td>\n",
       "      <td>原标题：加总理盼中美经贸协议考虑加方诉求，耿爽：不知道加方是否欲哭无泪？ [环球时报-环球网...</td>\n",
       "      <td>[中美]</td>\n",
       "      <td>2019-12-20 16:04:00</td>\n",
       "    </tr>\n",
       "    <tr>\n",
       "      <td>11</td>\n",
       "      <td>中国台湾网</td>\n",
       "      <td>韩蔡宋谁在政见会表现最好？韩国瑜获一致好评</td>\n",
       "      <td>原标题：韩、蔡、宋谁在政见会表现最好？韩国瑜获网友一致好评 韩国瑜、宋楚瑜、蔡英文。（图片来...</td>\n",
       "      <td>[蔡英文]</td>\n",
       "      <td>2019-12-20 15:47:00</td>\n",
       "    </tr>\n",
       "    <tr>\n",
       "      <td>12</td>\n",
       "      <td>央视</td>\n",
       "      <td>渝昆高铁云南段开工 建成后昆明到重庆仅需两小时</td>\n",
       "      <td>原标题：渝昆高铁云南段开工建设 昆明到重庆仅需两小时 12月20日上午10时，渝昆高铁云南段...</td>\n",
       "      <td>[云南高铁]</td>\n",
       "      <td>2019-12-20 15:41:00</td>\n",
       "    </tr>\n",
       "    <tr>\n",
       "      <td>13</td>\n",
       "      <td>澎湃新闻</td>\n",
       "      <td>加总理盼中美经贸考虑加方诉求 外交部回应</td>\n",
       "      <td>原标题：加总理盼中美经贸考虑加方诉求，耿爽：现在是否欲哭无泪？ 12月20日，外交部发言人耿...</td>\n",
       "      <td>[中美]</td>\n",
       "      <td>2019-12-20 15:38:00</td>\n",
       "    </tr>\n",
       "    <tr>\n",
       "      <td>14</td>\n",
       "      <td>新京报</td>\n",
       "      <td>深圳二手房价涨幅超5%可投诉？官方解读来了</td>\n",
       "      <td>原标题：深圳二手房价涨幅超5%可投诉？解读有误！官方解读来了 深圳市住房和建设局官方今日发布...</td>\n",
       "      <td>[哄抬房价二手房]</td>\n",
       "      <td>2019-12-20 15:21:00</td>\n",
       "    </tr>\n",
       "  </tbody>\n",
       "</table>\n",
       "</div>"
      ],
      "text/plain": [
       "     from                      title  \\\n",
       "0      央视          澳门人足年丰有余庆 央视主播这样说   \n",
       "1     环球网  黄之锋又申请离港被拒 声称要去参观台湾2020选举   \n",
       "2     新京报      国防科大校长已调整 中央候补委员邓小刚卸任   \n",
       "3    参考消息        散播仇华言论遭起诉 这些外国网民认罪了   \n",
       "4     环球网   张善政：参选2020是为了下架蔡英文 为台湾停损   \n",
       "5     环球网    中国公民在瑞典被盗被抢多发破案率低 外交部提醒   \n",
       "6    环球时报      特鲁多向特朗普提出这种要求 中方不得不回应   \n",
       "7    环球时报    香港中文大学校长被西方颁了一个奖 理由极为荒唐   \n",
       "8    环球时报   俄战斗机工程师沸腾了 中国网购“救”了米格-31   \n",
       "9      央视   香港已有80名教师被捕 涉多次使用价值观歪曲教材   \n",
       "10    环球网    盼中美经贸协议考虑诉求 耿爽：加方是否欲哭无泪   \n",
       "11  中国台湾网      韩蔡宋谁在政见会表现最好？韩国瑜获一致好评   \n",
       "12     央视    渝昆高铁云南段开工 建成后昆明到重庆仅需两小时   \n",
       "13   澎湃新闻       加总理盼中美经贸考虑加方诉求 外交部回应   \n",
       "14    新京报      深圳二手房价涨幅超5%可投诉？官方解读来了   \n",
       "\n",
       "                                              content    keywords  \\\n",
       "0   原标题：主播说联播丨刚强“总结君”上线 前方高能→ 今天是12月19日，澳门即将迎来回归祖国...  [回归祖国一国两制]   \n",
       "1   原标题：还不死心！黄之锋又申请离港被拒，这次他声称要去参观台湾2020选举 [环球网报道]乱...        [选举]   \n",
       "2   原标题：国防科大校长已调整，中候补邓小刚卸任 据国防科技大学官网消息：近日，国防科大在学术成...  [西北工业大学电子]   \n",
       "3   原标题：锐参考 | 散播仇华言论遭起诉，这些外国网民认罪了！ 在开庭9个月后，南非首例“辱华...        [南非]   \n",
       "4   原标题：张善政：参选2020是为了下架蔡英文，为台湾停损 [环球网报道]台当局副领导人候选人...       [蔡英文]   \n",
       "5   原标题：外交部：提醒在瑞典中国公民注意安全 [环球网文旅综合报道]2019年12月20日，据...        [瑞典]   \n",
       "6   原标题：特鲁多竟向特朗普提出这种要求，中方不得不回应 今天，美国媒体刊发的一则报道称，加拿大...       [特鲁多]   \n",
       "7   原标题：香港中文大学校长被西方颁了一个奖，理由极为荒唐 英国泰晤士高等教育（THE）将香港中...    [香港中文大学]   \n",
       "8   原标题：俄战斗机工程师沸腾了，中国网购竟然“救”了米格-31 俄罗斯联合航空制造集团19日在...  [战斗机米格-31]   \n",
       "9   原标题：香港已有80名教师被捕 涉嫌多次使用价值观歪曲教材 香港特区教育局局长杨润雄表示，目...     [教材价值观]   \n",
       "10  原标题：加总理盼中美经贸协议考虑加方诉求，耿爽：不知道加方是否欲哭无泪？ [环球时报-环球网...        [中美]   \n",
       "11  原标题：韩、蔡、宋谁在政见会表现最好？韩国瑜获网友一致好评 韩国瑜、宋楚瑜、蔡英文。（图片来...       [蔡英文]   \n",
       "12  原标题：渝昆高铁云南段开工建设 昆明到重庆仅需两小时 12月20日上午10时，渝昆高铁云南段...      [云南高铁]   \n",
       "13  原标题：加总理盼中美经贸考虑加方诉求，耿爽：现在是否欲哭无泪？ 12月20日，外交部发言人耿...        [中美]   \n",
       "14  原标题：深圳二手房价涨幅超5%可投诉？解读有误！官方解读来了 深圳市住房和建设局官方今日发布...   [哄抬房价二手房]   \n",
       "\n",
       "              datatime  \n",
       "0  2019-12-19 21:53:00  \n",
       "1  2019-12-19 18:33:00  \n",
       "2  2019-12-19 19:59:00  \n",
       "3  2019-12-19 21:34:00  \n",
       "4  2019-12-20 19:55:00  \n",
       "5  2019-12-20 17:16:00  \n",
       "6  2019-12-20 17:01:00  \n",
       "7  2019-12-20 17:01:00  \n",
       "8  2019-12-20 17:01:00  \n",
       "9  2019-12-20 16:29:00  \n",
       "10 2019-12-20 16:04:00  \n",
       "11 2019-12-20 15:47:00  \n",
       "12 2019-12-20 15:41:00  \n",
       "13 2019-12-20 15:38:00  \n",
       "14 2019-12-20 15:21:00  "
      ]
     },
     "execution_count": 204,
     "metadata": {},
     "output_type": "execute_result"
    }
   ],
   "source": [
    "#df[['from','title','content','keywords','datatime']]\n",
    "df = df[['from','title','content','keywords','datatime']]"
   ]
  },
  {
   "cell_type": "code",
   "execution_count": 205,
   "metadata": {},
   "outputs": [],
   "source": [
    "#整理完后储存为csv文件\n",
    "df.to_csv('sinanews.csv')"
   ]
  },
  {
   "cell_type": "code",
   "execution_count": null,
   "metadata": {},
   "outputs": [],
   "source": []
  }
 ],
 "metadata": {
  "kernelspec": {
   "display_name": "Python 3",
   "language": "python",
   "name": "python3"
  },
  "language_info": {
   "codemirror_mode": {
    "name": "ipython",
    "version": 3
   },
   "file_extension": ".py",
   "mimetype": "text/x-python",
   "name": "python",
   "nbconvert_exporter": "python",
   "pygments_lexer": "ipython3",
   "version": "3.7.4"
  }
 },
 "nbformat": 4,
 "nbformat_minor": 2
}
